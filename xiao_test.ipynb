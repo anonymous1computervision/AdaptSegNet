{
 "cells": [
  {
   "cell_type": "code",
   "execution_count": 1,
   "metadata": {},
   "outputs": [],
   "source": [
    "import argparse\n",
    "import scipy\n",
    "from scipy import ndimage\n",
    "import numpy as np\n",
    "import sys\n",
    "\n",
    "import torch\n",
    "from torch.autograd import Variable\n",
    "import torchvision.models as models\n",
    "import torch.nn.functional as F\n",
    "from torch.utils import data, model_zoo\n",
    "from model.deeplab_multi import Res_Deeplab\n",
    "from dataset.cityscapes_dataset import cityscapesDataSet\n",
    "from collections import OrderedDict\n",
    "import os\n",
    "from PIL import Image\n",
    "\n",
    "import matplotlib.pyplot as plt\n",
    "import torch.nn as nn\n",
    "from dataset.gta5_dataset import GTA5DataSet\n",
    "\n"
   ]
  },
  {
   "cell_type": "markdown",
   "metadata": {},
   "source": [
    "# config"
   ]
  },
  {
   "cell_type": "code",
   "execution_count": 2,
   "metadata": {},
   "outputs": [],
   "source": [
    "IMG_MEAN = np.array((104.00698793, 116.66876762, 122.67891434), dtype=np.float32)\n",
    "\n",
    "MODEL = 'DeepLab'\n",
    "BATCH_SIZE = 1\n",
    "ITER_SIZE = 1\n",
    "NUM_WORKERS = 4\n",
    "DATA_DIRECTORY = './data/GTA5'\n",
    "DATA_LIST_PATH = './dataset/gta5_list/train.txt'\n",
    "IGNORE_LABEL = 255\n",
    "INPUT_SIZE = '1280,720'\n",
    "DATA_DIRECTORY_TARGET = './data/Cityscapes/data'\n",
    "DATA_LIST_PATH_TARGET = './dataset/cityscapes_list/train.txt'\n",
    "INPUT_SIZE_TARGET = '1024,512'\n",
    "LEARNING_RATE = 2.5e-4\n",
    "MOMENTUM = 0.9\n",
    "NUM_CLASSES = 19\n",
    "NUM_STEPS = 250000\n",
    "NUM_STEPS_STOP = 100000  # early stopping\n",
    "POWER = 0.9\n",
    "RANDOM_SEED = 1234\n",
    "RESTORE_FROM = 'http://vllab.ucmerced.edu/ytsai/CVPR18/DeepLab_resnet_pretrained_init-f81d91e8.pth'\n",
    "SAVE_NUM_IMAGES = 2\n",
    "SAVE_PRED_EVERY = 5000\n",
    "SNAPSHOT_DIR = './snapshots/'\n",
    "WEIGHT_DECAY = 0.0005\n",
    "\n",
    "LEARNING_RATE_D = 1e-4\n",
    "LAMBDA_SEG = 0.1\n",
    "LAMBDA_ADV_TARGET1 = 0.0002\n",
    "LAMBDA_ADV_TARGET2 = 0.001\n",
    "\n",
    "TARGET = 'cityscapes'\n",
    "SET = 'train'\n",
    "palette = [128, 64, 128, 244, 35, 232, 70, 70, 70, 102, 102, 156, 190, 153, 153, 153, 153, 153, 250, 170, 30,\n",
    "           220, 220, 0, 107, 142, 35, 152, 251, 152, 70, 130, 180, 220, 20, 60, 255, 0, 0, 0, 0, 142, 0, 0, 70,\n",
    "           0, 60, 100, 0, 80, 100, 0, 0, 230, 119, 11, 32]"
   ]
  },
  {
   "cell_type": "code",
   "execution_count": 3,
   "metadata": {},
   "outputs": [],
   "source": [
    "def colorize_mask(mask):\n",
    "    # mask: numpy array of the mask\n",
    "    new_mask = Image.fromarray(mask.astype(np.uint8)).convert('P')\n",
    "    new_mask.putpalette(palette)\n",
    "\n",
    "    return new_mask"
   ]
  },
  {
   "cell_type": "markdown",
   "metadata": {},
   "source": [
    "# set arg parser"
   ]
  },
  {
   "cell_type": "code",
   "execution_count": 4,
   "metadata": {},
   "outputs": [],
   "source": [
    "def set_arguments(args):\n",
    "    \"\"\"Parse all the arguments provided from the CLI.\n",
    "\n",
    "    Returns:\n",
    "      A list of parsed arguments.\n",
    "    \"\"\"\n",
    "    parser = argparse.ArgumentParser(description=\"DeepLab-ResNet Network\")\n",
    "    parser.add_argument(\"--data-dir\", type=str, default=DATA_DIRECTORY,\n",
    "                        help=\"Path to the directory containing the Cityscapes dataset.\")\n",
    "    parser.add_argument(\"--data-dir-target\", type=str, default=DATA_DIRECTORY_TARGET,\n",
    "                        help=\"Path to the directory containing the target dataset.\")\n",
    "    parser.add_argument(\"--data-list\", type=str, default=DATA_LIST_PATH,\n",
    "                        help=\"Path to the file listing the images in the dataset.\")\n",
    "    parser.add_argument(\"--model\", type=str, default=MODEL,\n",
    "                        help=\"available options : DeepLab\")\n",
    "    parser.add_argument(\"--target\", type=str, default=TARGET,\n",
    "                        help=\"available options : cityscapes\")\n",
    "    parser.add_argument(\"--batch-size\", type=int, default=BATCH_SIZE,\n",
    "                        help=\"Number of images sent to the network in one step.\")\n",
    "    parser.add_argument(\"--iter-size\", type=int, default=ITER_SIZE,\n",
    "                        help=\"Accumulate gradients for ITER_SIZE iterations.\")\n",
    "    parser.add_argument(\"--num-workers\", type=int, default=NUM_WORKERS,\n",
    "                        help=\"number of workers for multithread dataloading.\")\n",
    "    parser.add_argument(\"--ignore-label\", type=int, default=IGNORE_LABEL,\n",
    "                        help=\"The index of the label to ignore during the training.\")\n",
    "    parser.add_argument(\"--input-size\", type=str, default=INPUT_SIZE,\n",
    "                        help=\"Comma-separated string with height and width of source images.\")\n",
    "    parser.add_argument(\"--data-list-target\", type=str, default=DATA_LIST_PATH_TARGET,\n",
    "                        help=\"Path to the file listing the images in the target dataset.\")\n",
    "    parser.add_argument(\"--input-size-target\", type=str, default=INPUT_SIZE_TARGET,\n",
    "                        help=\"Comma-separated string with height and width of target images.\")\n",
    "    parser.add_argument(\"--is-training\", action=\"store_true\",\n",
    "                        help=\"Whether to updates the running means and variances during the training.\")\n",
    "    parser.add_argument(\"--learning-rate\", type=float, default=LEARNING_RATE,\n",
    "                        help=\"Base learning rate for training with polynomial decay.\")\n",
    "    parser.add_argument(\"--learning-rate-D\", type=float, default=LEARNING_RATE_D,\n",
    "                        help=\"Base learning rate for discriminator.\")\n",
    "    parser.add_argument(\"--lambda-seg\", type=float, default=LAMBDA_SEG,\n",
    "                        help=\"lambda_seg.\")\n",
    "    parser.add_argument(\"--lambda-adv-target1\", type=float, default=LAMBDA_ADV_TARGET1,\n",
    "                        help=\"lambda_adv for adversarial training.\")\n",
    "    parser.add_argument(\"--lambda-adv-target2\", type=float, default=LAMBDA_ADV_TARGET2,\n",
    "                        help=\"lambda_adv for adversarial training.\")\n",
    "    parser.add_argument(\"--momentum\", type=float, default=MOMENTUM,\n",
    "                        help=\"Momentum component of the optimiser.\")\n",
    "    parser.add_argument(\"--not-restore-last\", action=\"store_true\",\n",
    "                        help=\"Whether to not restore last (FC) layers.\")\n",
    "    parser.add_argument(\"--num-classes\", type=int, default=NUM_CLASSES,\n",
    "                        help=\"Number of classes to predict (including background).\")\n",
    "    parser.add_argument(\"--num-steps\", type=int, default=NUM_STEPS,\n",
    "                        help=\"Number of training steps.\")\n",
    "    parser.add_argument(\"--num-steps-stop\", type=int, default=NUM_STEPS_STOP,\n",
    "                        help=\"Number of training steps for early stopping.\")\n",
    "    parser.add_argument(\"--power\", type=float, default=POWER,\n",
    "                        help=\"Decay parameter to compute the learning rate.\")\n",
    "    parser.add_argument(\"--random-mirror\", action=\"store_true\",\n",
    "                        help=\"Whether to randomly mirror the inputs during the training.\")\n",
    "    parser.add_argument(\"--random-scale\", action=\"store_true\",\n",
    "                        help=\"Whether to randomly scale the inputs during the training.\")\n",
    "    parser.add_argument(\"--random-seed\", type=int, default=RANDOM_SEED,\n",
    "                        help=\"Random seed to have reproducible results.\")\n",
    "    parser.add_argument(\"--restore-from\", type=str, default=RESTORE_FROM,\n",
    "                        help=\"Where restore model parameters from.\")\n",
    "    parser.add_argument(\"--save-num-images\", type=int, default=SAVE_NUM_IMAGES,\n",
    "                        help=\"How many images to save.\")\n",
    "    parser.add_argument(\"--save-pred-every\", type=int, default=SAVE_PRED_EVERY,\n",
    "                        help=\"Save summaries and checkpoint every often.\")\n",
    "    parser.add_argument(\"--snapshot-dir\", type=str, default=SNAPSHOT_DIR,\n",
    "                        help=\"Where to save snapshots of the model.\")\n",
    "    parser.add_argument(\"--weight-decay\", type=float, default=WEIGHT_DECAY,\n",
    "                        help=\"Regularisation parameter for L2-loss.\")\n",
    "    parser.add_argument(\"--gpu\", type=int, default=0,\n",
    "                        help=\"choose gpu device.\")\n",
    "    parser.add_argument(\"--set\", type=str, default=SET,\n",
    "                        help=\"choose adaptation set.\")\n",
    "    return parser.parse_args(args)\n"
   ]
  },
  {
   "cell_type": "code",
   "execution_count": 5,
   "metadata": {},
   "outputs": [],
   "source": [
    "args = set_arguments(\"--restore-from ./snapshots/selu-10k-20180524/GTA5_50000.pth --snapshot-dir ./snapshots/GTA2Cityscapes_multi --lambda-seg 0.1 --lambda-adv-target1 0.0002 --lambda-adv-target2 0.001\".split(' '))"
   ]
  },
  {
   "cell_type": "code",
   "execution_count": 6,
   "metadata": {},
   "outputs": [
    {
     "data": {
      "text/plain": [
       "Namespace(batch_size=1, data_dir='./data/GTA5', data_dir_target='./data/Cityscapes/data', data_list='./dataset/gta5_list/train.txt', data_list_target='./dataset/cityscapes_list/train.txt', gpu=0, ignore_label=255, input_size='1280,720', input_size_target='1024,512', is_training=False, iter_size=1, lambda_adv_target1=0.0002, lambda_adv_target2=0.001, lambda_seg=0.1, learning_rate=0.00025, learning_rate_D=0.0001, model='DeepLab', momentum=0.9, not_restore_last=False, num_classes=19, num_steps=250000, num_steps_stop=100000, num_workers=4, power=0.9, random_mirror=False, random_scale=False, random_seed=1234, restore_from='./snapshots/selu-10k-20180524/GTA5_50000.pth', save_num_images=2, save_pred_every=5000, set='train', snapshot_dir='./snapshots/GTA2Cityscapes_multi', target='cityscapes', weight_decay=0.0005)"
      ]
     },
     "execution_count": 6,
     "metadata": {},
     "output_type": "execute_result"
    }
   ],
   "source": [
    "args"
   ]
  },
  {
   "cell_type": "markdown",
   "metadata": {},
   "source": [
    "# input and resize setting"
   ]
  },
  {
   "cell_type": "code",
   "execution_count": 7,
   "metadata": {},
   "outputs": [],
   "source": [
    "input_size = (1280, 720)\n",
    "input_size_target = (1024,512)\n",
    "interp = nn.Upsample(size=(input_size[1], input_size[0]), align_corners=False, mode='nearest')\n",
    "interp_target = nn.Upsample(size=(input_size_target[1], input_size_target[0]), mode='nearest')\n",
    "interp_down = nn.Upsample(size=(input_size_target[1]/4, input_size_target[0]/4), mode='nearest')\n"
   ]
  },
  {
   "cell_type": "markdown",
   "metadata": {},
   "source": [
    "# deeplab model"
   ]
  },
  {
   "cell_type": "code",
   "execution_count": 8,
   "metadata": {},
   "outputs": [],
   "source": [
    "\"\"\"Create the model and start the evaluation process.\"\"\"\n",
    "gpu0 = args.gpu"
   ]
  },
  {
   "cell_type": "code",
   "execution_count": 9,
   "metadata": {},
   "outputs": [
    {
     "data": {
      "text/plain": [
       "ResNet(\n",
       "  (conv1): Conv2d(3, 64, kernel_size=(7, 7), stride=(2, 2), padding=(3, 3), bias=False)\n",
       "  (bn1): BatchNorm2d(64, eps=1e-05, momentum=0.1, affine=True, track_running_stats=True)\n",
       "  (relu): ReLU(inplace)\n",
       "  (maxpool): MaxPool2d(kernel_size=3, stride=2, padding=1, dilation=1, ceil_mode=True)\n",
       "  (layer1): Sequential(\n",
       "    (0): Bottleneck(\n",
       "      (conv1): Conv2d(64, 64, kernel_size=(1, 1), stride=(1, 1), bias=False)\n",
       "      (bn1): BatchNorm2d(64, eps=1e-05, momentum=0.1, affine=True, track_running_stats=True)\n",
       "      (conv2): Conv2d(64, 64, kernel_size=(3, 3), stride=(1, 1), padding=(1, 1), bias=False)\n",
       "      (bn2): BatchNorm2d(64, eps=1e-05, momentum=0.1, affine=True, track_running_stats=True)\n",
       "      (conv3): Conv2d(64, 256, kernel_size=(1, 1), stride=(1, 1), bias=False)\n",
       "      (bn3): BatchNorm2d(256, eps=1e-05, momentum=0.1, affine=True, track_running_stats=True)\n",
       "      (relu): ReLU(inplace)\n",
       "      (downsample): Sequential(\n",
       "        (0): Conv2d(64, 256, kernel_size=(1, 1), stride=(1, 1), bias=False)\n",
       "        (1): BatchNorm2d(256, eps=1e-05, momentum=0.1, affine=True, track_running_stats=True)\n",
       "      )\n",
       "    )\n",
       "    (1): Bottleneck(\n",
       "      (conv1): Conv2d(256, 64, kernel_size=(1, 1), stride=(1, 1), bias=False)\n",
       "      (bn1): BatchNorm2d(64, eps=1e-05, momentum=0.1, affine=True, track_running_stats=True)\n",
       "      (conv2): Conv2d(64, 64, kernel_size=(3, 3), stride=(1, 1), padding=(1, 1), bias=False)\n",
       "      (bn2): BatchNorm2d(64, eps=1e-05, momentum=0.1, affine=True, track_running_stats=True)\n",
       "      (conv3): Conv2d(64, 256, kernel_size=(1, 1), stride=(1, 1), bias=False)\n",
       "      (bn3): BatchNorm2d(256, eps=1e-05, momentum=0.1, affine=True, track_running_stats=True)\n",
       "      (relu): ReLU(inplace)\n",
       "    )\n",
       "    (2): Bottleneck(\n",
       "      (conv1): Conv2d(256, 64, kernel_size=(1, 1), stride=(1, 1), bias=False)\n",
       "      (bn1): BatchNorm2d(64, eps=1e-05, momentum=0.1, affine=True, track_running_stats=True)\n",
       "      (conv2): Conv2d(64, 64, kernel_size=(3, 3), stride=(1, 1), padding=(1, 1), bias=False)\n",
       "      (bn2): BatchNorm2d(64, eps=1e-05, momentum=0.1, affine=True, track_running_stats=True)\n",
       "      (conv3): Conv2d(64, 256, kernel_size=(1, 1), stride=(1, 1), bias=False)\n",
       "      (bn3): BatchNorm2d(256, eps=1e-05, momentum=0.1, affine=True, track_running_stats=True)\n",
       "      (relu): ReLU(inplace)\n",
       "    )\n",
       "  )\n",
       "  (layer2): Sequential(\n",
       "    (0): Bottleneck(\n",
       "      (conv1): Conv2d(256, 128, kernel_size=(1, 1), stride=(2, 2), bias=False)\n",
       "      (bn1): BatchNorm2d(128, eps=1e-05, momentum=0.1, affine=True, track_running_stats=True)\n",
       "      (conv2): Conv2d(128, 128, kernel_size=(3, 3), stride=(1, 1), padding=(1, 1), bias=False)\n",
       "      (bn2): BatchNorm2d(128, eps=1e-05, momentum=0.1, affine=True, track_running_stats=True)\n",
       "      (conv3): Conv2d(128, 512, kernel_size=(1, 1), stride=(1, 1), bias=False)\n",
       "      (bn3): BatchNorm2d(512, eps=1e-05, momentum=0.1, affine=True, track_running_stats=True)\n",
       "      (relu): ReLU(inplace)\n",
       "      (downsample): Sequential(\n",
       "        (0): Conv2d(256, 512, kernel_size=(1, 1), stride=(2, 2), bias=False)\n",
       "        (1): BatchNorm2d(512, eps=1e-05, momentum=0.1, affine=True, track_running_stats=True)\n",
       "      )\n",
       "    )\n",
       "    (1): Bottleneck(\n",
       "      (conv1): Conv2d(512, 128, kernel_size=(1, 1), stride=(1, 1), bias=False)\n",
       "      (bn1): BatchNorm2d(128, eps=1e-05, momentum=0.1, affine=True, track_running_stats=True)\n",
       "      (conv2): Conv2d(128, 128, kernel_size=(3, 3), stride=(1, 1), padding=(1, 1), bias=False)\n",
       "      (bn2): BatchNorm2d(128, eps=1e-05, momentum=0.1, affine=True, track_running_stats=True)\n",
       "      (conv3): Conv2d(128, 512, kernel_size=(1, 1), stride=(1, 1), bias=False)\n",
       "      (bn3): BatchNorm2d(512, eps=1e-05, momentum=0.1, affine=True, track_running_stats=True)\n",
       "      (relu): ReLU(inplace)\n",
       "    )\n",
       "    (2): Bottleneck(\n",
       "      (conv1): Conv2d(512, 128, kernel_size=(1, 1), stride=(1, 1), bias=False)\n",
       "      (bn1): BatchNorm2d(128, eps=1e-05, momentum=0.1, affine=True, track_running_stats=True)\n",
       "      (conv2): Conv2d(128, 128, kernel_size=(3, 3), stride=(1, 1), padding=(1, 1), bias=False)\n",
       "      (bn2): BatchNorm2d(128, eps=1e-05, momentum=0.1, affine=True, track_running_stats=True)\n",
       "      (conv3): Conv2d(128, 512, kernel_size=(1, 1), stride=(1, 1), bias=False)\n",
       "      (bn3): BatchNorm2d(512, eps=1e-05, momentum=0.1, affine=True, track_running_stats=True)\n",
       "      (relu): ReLU(inplace)\n",
       "    )\n",
       "    (3): Bottleneck(\n",
       "      (conv1): Conv2d(512, 128, kernel_size=(1, 1), stride=(1, 1), bias=False)\n",
       "      (bn1): BatchNorm2d(128, eps=1e-05, momentum=0.1, affine=True, track_running_stats=True)\n",
       "      (conv2): Conv2d(128, 128, kernel_size=(3, 3), stride=(1, 1), padding=(1, 1), bias=False)\n",
       "      (bn2): BatchNorm2d(128, eps=1e-05, momentum=0.1, affine=True, track_running_stats=True)\n",
       "      (conv3): Conv2d(128, 512, kernel_size=(1, 1), stride=(1, 1), bias=False)\n",
       "      (bn3): BatchNorm2d(512, eps=1e-05, momentum=0.1, affine=True, track_running_stats=True)\n",
       "      (relu): ReLU(inplace)\n",
       "    )\n",
       "  )\n",
       "  (layer3): Sequential(\n",
       "    (0): Bottleneck(\n",
       "      (conv1): Conv2d(512, 256, kernel_size=(1, 1), stride=(1, 1), bias=False)\n",
       "      (bn1): BatchNorm2d(256, eps=1e-05, momentum=0.1, affine=True, track_running_stats=True)\n",
       "      (conv2): Conv2d(256, 256, kernel_size=(3, 3), stride=(1, 1), padding=(2, 2), dilation=(2, 2), bias=False)\n",
       "      (bn2): BatchNorm2d(256, eps=1e-05, momentum=0.1, affine=True, track_running_stats=True)\n",
       "      (conv3): Conv2d(256, 1024, kernel_size=(1, 1), stride=(1, 1), bias=False)\n",
       "      (bn3): BatchNorm2d(1024, eps=1e-05, momentum=0.1, affine=True, track_running_stats=True)\n",
       "      (relu): ReLU(inplace)\n",
       "      (downsample): Sequential(\n",
       "        (0): Conv2d(512, 1024, kernel_size=(1, 1), stride=(1, 1), bias=False)\n",
       "        (1): BatchNorm2d(1024, eps=1e-05, momentum=0.1, affine=True, track_running_stats=True)\n",
       "      )\n",
       "    )\n",
       "    (1): Bottleneck(\n",
       "      (conv1): Conv2d(1024, 256, kernel_size=(1, 1), stride=(1, 1), bias=False)\n",
       "      (bn1): BatchNorm2d(256, eps=1e-05, momentum=0.1, affine=True, track_running_stats=True)\n",
       "      (conv2): Conv2d(256, 256, kernel_size=(3, 3), stride=(1, 1), padding=(2, 2), dilation=(2, 2), bias=False)\n",
       "      (bn2): BatchNorm2d(256, eps=1e-05, momentum=0.1, affine=True, track_running_stats=True)\n",
       "      (conv3): Conv2d(256, 1024, kernel_size=(1, 1), stride=(1, 1), bias=False)\n",
       "      (bn3): BatchNorm2d(1024, eps=1e-05, momentum=0.1, affine=True, track_running_stats=True)\n",
       "      (relu): ReLU(inplace)\n",
       "    )\n",
       "    (2): Bottleneck(\n",
       "      (conv1): Conv2d(1024, 256, kernel_size=(1, 1), stride=(1, 1), bias=False)\n",
       "      (bn1): BatchNorm2d(256, eps=1e-05, momentum=0.1, affine=True, track_running_stats=True)\n",
       "      (conv2): Conv2d(256, 256, kernel_size=(3, 3), stride=(1, 1), padding=(2, 2), dilation=(2, 2), bias=False)\n",
       "      (bn2): BatchNorm2d(256, eps=1e-05, momentum=0.1, affine=True, track_running_stats=True)\n",
       "      (conv3): Conv2d(256, 1024, kernel_size=(1, 1), stride=(1, 1), bias=False)\n",
       "      (bn3): BatchNorm2d(1024, eps=1e-05, momentum=0.1, affine=True, track_running_stats=True)\n",
       "      (relu): ReLU(inplace)\n",
       "    )\n",
       "    (3): Bottleneck(\n",
       "      (conv1): Conv2d(1024, 256, kernel_size=(1, 1), stride=(1, 1), bias=False)\n",
       "      (bn1): BatchNorm2d(256, eps=1e-05, momentum=0.1, affine=True, track_running_stats=True)\n",
       "      (conv2): Conv2d(256, 256, kernel_size=(3, 3), stride=(1, 1), padding=(2, 2), dilation=(2, 2), bias=False)\n",
       "      (bn2): BatchNorm2d(256, eps=1e-05, momentum=0.1, affine=True, track_running_stats=True)\n",
       "      (conv3): Conv2d(256, 1024, kernel_size=(1, 1), stride=(1, 1), bias=False)\n",
       "      (bn3): BatchNorm2d(1024, eps=1e-05, momentum=0.1, affine=True, track_running_stats=True)\n",
       "      (relu): ReLU(inplace)\n",
       "    )\n",
       "    (4): Bottleneck(\n",
       "      (conv1): Conv2d(1024, 256, kernel_size=(1, 1), stride=(1, 1), bias=False)\n",
       "      (bn1): BatchNorm2d(256, eps=1e-05, momentum=0.1, affine=True, track_running_stats=True)\n",
       "      (conv2): Conv2d(256, 256, kernel_size=(3, 3), stride=(1, 1), padding=(2, 2), dilation=(2, 2), bias=False)\n",
       "      (bn2): BatchNorm2d(256, eps=1e-05, momentum=0.1, affine=True, track_running_stats=True)\n",
       "      (conv3): Conv2d(256, 1024, kernel_size=(1, 1), stride=(1, 1), bias=False)\n",
       "      (bn3): BatchNorm2d(1024, eps=1e-05, momentum=0.1, affine=True, track_running_stats=True)\n",
       "      (relu): ReLU(inplace)\n",
       "    )\n",
       "    (5): Bottleneck(\n",
       "      (conv1): Conv2d(1024, 256, kernel_size=(1, 1), stride=(1, 1), bias=False)\n",
       "      (bn1): BatchNorm2d(256, eps=1e-05, momentum=0.1, affine=True, track_running_stats=True)\n",
       "      (conv2): Conv2d(256, 256, kernel_size=(3, 3), stride=(1, 1), padding=(2, 2), dilation=(2, 2), bias=False)\n",
       "      (bn2): BatchNorm2d(256, eps=1e-05, momentum=0.1, affine=True, track_running_stats=True)\n",
       "      (conv3): Conv2d(256, 1024, kernel_size=(1, 1), stride=(1, 1), bias=False)\n",
       "      (bn3): BatchNorm2d(1024, eps=1e-05, momentum=0.1, affine=True, track_running_stats=True)\n",
       "      (relu): ReLU(inplace)\n",
       "    )\n",
       "    (6): Bottleneck(\n",
       "      (conv1): Conv2d(1024, 256, kernel_size=(1, 1), stride=(1, 1), bias=False)\n",
       "      (bn1): BatchNorm2d(256, eps=1e-05, momentum=0.1, affine=True, track_running_stats=True)\n",
       "      (conv2): Conv2d(256, 256, kernel_size=(3, 3), stride=(1, 1), padding=(2, 2), dilation=(2, 2), bias=False)\n",
       "      (bn2): BatchNorm2d(256, eps=1e-05, momentum=0.1, affine=True, track_running_stats=True)\n",
       "      (conv3): Conv2d(256, 1024, kernel_size=(1, 1), stride=(1, 1), bias=False)\n",
       "      (bn3): BatchNorm2d(1024, eps=1e-05, momentum=0.1, affine=True, track_running_stats=True)\n",
       "      (relu): ReLU(inplace)\n",
       "    )\n",
       "    (7): Bottleneck(\n",
       "      (conv1): Conv2d(1024, 256, kernel_size=(1, 1), stride=(1, 1), bias=False)\n",
       "      (bn1): BatchNorm2d(256, eps=1e-05, momentum=0.1, affine=True, track_running_stats=True)\n",
       "      (conv2): Conv2d(256, 256, kernel_size=(3, 3), stride=(1, 1), padding=(2, 2), dilation=(2, 2), bias=False)\n",
       "      (bn2): BatchNorm2d(256, eps=1e-05, momentum=0.1, affine=True, track_running_stats=True)\n",
       "      (conv3): Conv2d(256, 1024, kernel_size=(1, 1), stride=(1, 1), bias=False)\n",
       "      (bn3): BatchNorm2d(1024, eps=1e-05, momentum=0.1, affine=True, track_running_stats=True)\n",
       "      (relu): ReLU(inplace)\n",
       "    )\n",
       "    (8): Bottleneck(\n",
       "      (conv1): Conv2d(1024, 256, kernel_size=(1, 1), stride=(1, 1), bias=False)\n",
       "      (bn1): BatchNorm2d(256, eps=1e-05, momentum=0.1, affine=True, track_running_stats=True)\n",
       "      (conv2): Conv2d(256, 256, kernel_size=(3, 3), stride=(1, 1), padding=(2, 2), dilation=(2, 2), bias=False)\n",
       "      (bn2): BatchNorm2d(256, eps=1e-05, momentum=0.1, affine=True, track_running_stats=True)\n",
       "      (conv3): Conv2d(256, 1024, kernel_size=(1, 1), stride=(1, 1), bias=False)\n",
       "      (bn3): BatchNorm2d(1024, eps=1e-05, momentum=0.1, affine=True, track_running_stats=True)\n",
       "      (relu): ReLU(inplace)\n",
       "    )\n",
       "    (9): Bottleneck(\n",
       "      (conv1): Conv2d(1024, 256, kernel_size=(1, 1), stride=(1, 1), bias=False)\n",
       "      (bn1): BatchNorm2d(256, eps=1e-05, momentum=0.1, affine=True, track_running_stats=True)\n",
       "      (conv2): Conv2d(256, 256, kernel_size=(3, 3), stride=(1, 1), padding=(2, 2), dilation=(2, 2), bias=False)\n",
       "      (bn2): BatchNorm2d(256, eps=1e-05, momentum=0.1, affine=True, track_running_stats=True)\n",
       "      (conv3): Conv2d(256, 1024, kernel_size=(1, 1), stride=(1, 1), bias=False)\n",
       "      (bn3): BatchNorm2d(1024, eps=1e-05, momentum=0.1, affine=True, track_running_stats=True)\n",
       "      (relu): ReLU(inplace)\n",
       "    )\n",
       "    (10): Bottleneck(\n",
       "      (conv1): Conv2d(1024, 256, kernel_size=(1, 1), stride=(1, 1), bias=False)\n",
       "      (bn1): BatchNorm2d(256, eps=1e-05, momentum=0.1, affine=True, track_running_stats=True)\n",
       "      (conv2): Conv2d(256, 256, kernel_size=(3, 3), stride=(1, 1), padding=(2, 2), dilation=(2, 2), bias=False)\n",
       "      (bn2): BatchNorm2d(256, eps=1e-05, momentum=0.1, affine=True, track_running_stats=True)\n",
       "      (conv3): Conv2d(256, 1024, kernel_size=(1, 1), stride=(1, 1), bias=False)\n",
       "      (bn3): BatchNorm2d(1024, eps=1e-05, momentum=0.1, affine=True, track_running_stats=True)\n",
       "      (relu): ReLU(inplace)\n",
       "    )\n",
       "    (11): Bottleneck(\n",
       "      (conv1): Conv2d(1024, 256, kernel_size=(1, 1), stride=(1, 1), bias=False)\n",
       "      (bn1): BatchNorm2d(256, eps=1e-05, momentum=0.1, affine=True, track_running_stats=True)\n",
       "      (conv2): Conv2d(256, 256, kernel_size=(3, 3), stride=(1, 1), padding=(2, 2), dilation=(2, 2), bias=False)\n",
       "      (bn2): BatchNorm2d(256, eps=1e-05, momentum=0.1, affine=True, track_running_stats=True)\n",
       "      (conv3): Conv2d(256, 1024, kernel_size=(1, 1), stride=(1, 1), bias=False)\n",
       "      (bn3): BatchNorm2d(1024, eps=1e-05, momentum=0.1, affine=True, track_running_stats=True)\n",
       "      (relu): ReLU(inplace)\n",
       "    )\n",
       "    (12): Bottleneck(\n",
       "      (conv1): Conv2d(1024, 256, kernel_size=(1, 1), stride=(1, 1), bias=False)\n",
       "      (bn1): BatchNorm2d(256, eps=1e-05, momentum=0.1, affine=True, track_running_stats=True)\n",
       "      (conv2): Conv2d(256, 256, kernel_size=(3, 3), stride=(1, 1), padding=(2, 2), dilation=(2, 2), bias=False)\n",
       "      (bn2): BatchNorm2d(256, eps=1e-05, momentum=0.1, affine=True, track_running_stats=True)\n",
       "      (conv3): Conv2d(256, 1024, kernel_size=(1, 1), stride=(1, 1), bias=False)\n",
       "      (bn3): BatchNorm2d(1024, eps=1e-05, momentum=0.1, affine=True, track_running_stats=True)\n",
       "      (relu): ReLU(inplace)\n",
       "    )\n",
       "    (13): Bottleneck(\n",
       "      (conv1): Conv2d(1024, 256, kernel_size=(1, 1), stride=(1, 1), bias=False)\n",
       "      (bn1): BatchNorm2d(256, eps=1e-05, momentum=0.1, affine=True, track_running_stats=True)\n",
       "      (conv2): Conv2d(256, 256, kernel_size=(3, 3), stride=(1, 1), padding=(2, 2), dilation=(2, 2), bias=False)\n",
       "      (bn2): BatchNorm2d(256, eps=1e-05, momentum=0.1, affine=True, track_running_stats=True)\n",
       "      (conv3): Conv2d(256, 1024, kernel_size=(1, 1), stride=(1, 1), bias=False)\n",
       "      (bn3): BatchNorm2d(1024, eps=1e-05, momentum=0.1, affine=True, track_running_stats=True)\n",
       "      (relu): ReLU(inplace)\n",
       "    )\n",
       "    (14): Bottleneck(\n",
       "      (conv1): Conv2d(1024, 256, kernel_size=(1, 1), stride=(1, 1), bias=False)\n",
       "      (bn1): BatchNorm2d(256, eps=1e-05, momentum=0.1, affine=True, track_running_stats=True)\n",
       "      (conv2): Conv2d(256, 256, kernel_size=(3, 3), stride=(1, 1), padding=(2, 2), dilation=(2, 2), bias=False)\n",
       "      (bn2): BatchNorm2d(256, eps=1e-05, momentum=0.1, affine=True, track_running_stats=True)\n",
       "      (conv3): Conv2d(256, 1024, kernel_size=(1, 1), stride=(1, 1), bias=False)\n",
       "      (bn3): BatchNorm2d(1024, eps=1e-05, momentum=0.1, affine=True, track_running_stats=True)\n",
       "      (relu): ReLU(inplace)\n",
       "    )\n",
       "    (15): Bottleneck(\n",
       "      (conv1): Conv2d(1024, 256, kernel_size=(1, 1), stride=(1, 1), bias=False)\n",
       "      (bn1): BatchNorm2d(256, eps=1e-05, momentum=0.1, affine=True, track_running_stats=True)\n",
       "      (conv2): Conv2d(256, 256, kernel_size=(3, 3), stride=(1, 1), padding=(2, 2), dilation=(2, 2), bias=False)\n",
       "      (bn2): BatchNorm2d(256, eps=1e-05, momentum=0.1, affine=True, track_running_stats=True)\n",
       "      (conv3): Conv2d(256, 1024, kernel_size=(1, 1), stride=(1, 1), bias=False)\n",
       "      (bn3): BatchNorm2d(1024, eps=1e-05, momentum=0.1, affine=True, track_running_stats=True)\n",
       "      (relu): ReLU(inplace)\n",
       "    )\n",
       "    (16): Bottleneck(\n",
       "      (conv1): Conv2d(1024, 256, kernel_size=(1, 1), stride=(1, 1), bias=False)\n",
       "      (bn1): BatchNorm2d(256, eps=1e-05, momentum=0.1, affine=True, track_running_stats=True)\n",
       "      (conv2): Conv2d(256, 256, kernel_size=(3, 3), stride=(1, 1), padding=(2, 2), dilation=(2, 2), bias=False)\n",
       "      (bn2): BatchNorm2d(256, eps=1e-05, momentum=0.1, affine=True, track_running_stats=True)\n",
       "      (conv3): Conv2d(256, 1024, kernel_size=(1, 1), stride=(1, 1), bias=False)\n",
       "      (bn3): BatchNorm2d(1024, eps=1e-05, momentum=0.1, affine=True, track_running_stats=True)\n",
       "      (relu): ReLU(inplace)\n",
       "    )\n",
       "    (17): Bottleneck(\n",
       "      (conv1): Conv2d(1024, 256, kernel_size=(1, 1), stride=(1, 1), bias=False)\n",
       "      (bn1): BatchNorm2d(256, eps=1e-05, momentum=0.1, affine=True, track_running_stats=True)\n",
       "      (conv2): Conv2d(256, 256, kernel_size=(3, 3), stride=(1, 1), padding=(2, 2), dilation=(2, 2), bias=False)\n",
       "      (bn2): BatchNorm2d(256, eps=1e-05, momentum=0.1, affine=True, track_running_stats=True)\n",
       "      (conv3): Conv2d(256, 1024, kernel_size=(1, 1), stride=(1, 1), bias=False)\n",
       "      (bn3): BatchNorm2d(1024, eps=1e-05, momentum=0.1, affine=True, track_running_stats=True)\n",
       "      (relu): ReLU(inplace)\n",
       "    )\n",
       "    (18): Bottleneck(\n",
       "      (conv1): Conv2d(1024, 256, kernel_size=(1, 1), stride=(1, 1), bias=False)\n",
       "      (bn1): BatchNorm2d(256, eps=1e-05, momentum=0.1, affine=True, track_running_stats=True)\n",
       "      (conv2): Conv2d(256, 256, kernel_size=(3, 3), stride=(1, 1), padding=(2, 2), dilation=(2, 2), bias=False)\n",
       "      (bn2): BatchNorm2d(256, eps=1e-05, momentum=0.1, affine=True, track_running_stats=True)\n",
       "      (conv3): Conv2d(256, 1024, kernel_size=(1, 1), stride=(1, 1), bias=False)\n",
       "      (bn3): BatchNorm2d(1024, eps=1e-05, momentum=0.1, affine=True, track_running_stats=True)\n",
       "      (relu): ReLU(inplace)\n",
       "    )\n",
       "    (19): Bottleneck(\n",
       "      (conv1): Conv2d(1024, 256, kernel_size=(1, 1), stride=(1, 1), bias=False)\n",
       "      (bn1): BatchNorm2d(256, eps=1e-05, momentum=0.1, affine=True, track_running_stats=True)\n",
       "      (conv2): Conv2d(256, 256, kernel_size=(3, 3), stride=(1, 1), padding=(2, 2), dilation=(2, 2), bias=False)\n",
       "      (bn2): BatchNorm2d(256, eps=1e-05, momentum=0.1, affine=True, track_running_stats=True)\n",
       "      (conv3): Conv2d(256, 1024, kernel_size=(1, 1), stride=(1, 1), bias=False)\n",
       "      (bn3): BatchNorm2d(1024, eps=1e-05, momentum=0.1, affine=True, track_running_stats=True)\n",
       "      (relu): ReLU(inplace)\n",
       "    )\n",
       "    (20): Bottleneck(\n",
       "      (conv1): Conv2d(1024, 256, kernel_size=(1, 1), stride=(1, 1), bias=False)\n",
       "      (bn1): BatchNorm2d(256, eps=1e-05, momentum=0.1, affine=True, track_running_stats=True)\n",
       "      (conv2): Conv2d(256, 256, kernel_size=(3, 3), stride=(1, 1), padding=(2, 2), dilation=(2, 2), bias=False)\n",
       "      (bn2): BatchNorm2d(256, eps=1e-05, momentum=0.1, affine=True, track_running_stats=True)\n",
       "      (conv3): Conv2d(256, 1024, kernel_size=(1, 1), stride=(1, 1), bias=False)\n",
       "      (bn3): BatchNorm2d(1024, eps=1e-05, momentum=0.1, affine=True, track_running_stats=True)\n",
       "      (relu): ReLU(inplace)\n",
       "    )\n",
       "    (21): Bottleneck(\n",
       "      (conv1): Conv2d(1024, 256, kernel_size=(1, 1), stride=(1, 1), bias=False)\n",
       "      (bn1): BatchNorm2d(256, eps=1e-05, momentum=0.1, affine=True, track_running_stats=True)\n",
       "      (conv2): Conv2d(256, 256, kernel_size=(3, 3), stride=(1, 1), padding=(2, 2), dilation=(2, 2), bias=False)\n",
       "      (bn2): BatchNorm2d(256, eps=1e-05, momentum=0.1, affine=True, track_running_stats=True)\n",
       "      (conv3): Conv2d(256, 1024, kernel_size=(1, 1), stride=(1, 1), bias=False)\n",
       "      (bn3): BatchNorm2d(1024, eps=1e-05, momentum=0.1, affine=True, track_running_stats=True)\n",
       "      (relu): ReLU(inplace)\n",
       "    )\n",
       "    (22): Bottleneck(\n",
       "      (conv1): Conv2d(1024, 256, kernel_size=(1, 1), stride=(1, 1), bias=False)\n",
       "      (bn1): BatchNorm2d(256, eps=1e-05, momentum=0.1, affine=True, track_running_stats=True)\n",
       "      (conv2): Conv2d(256, 256, kernel_size=(3, 3), stride=(1, 1), padding=(2, 2), dilation=(2, 2), bias=False)\n",
       "      (bn2): BatchNorm2d(256, eps=1e-05, momentum=0.1, affine=True, track_running_stats=True)\n",
       "      (conv3): Conv2d(256, 1024, kernel_size=(1, 1), stride=(1, 1), bias=False)\n",
       "      (bn3): BatchNorm2d(1024, eps=1e-05, momentum=0.1, affine=True, track_running_stats=True)\n",
       "      (relu): ReLU(inplace)\n",
       "    )\n",
       "  )\n",
       "  (layer4): Sequential(\n",
       "    (0): Bottleneck(\n",
       "      (conv1): Conv2d(1024, 512, kernel_size=(1, 1), stride=(1, 1), bias=False)\n",
       "      (bn1): BatchNorm2d(512, eps=1e-05, momentum=0.1, affine=True, track_running_stats=True)\n",
       "      (conv2): Conv2d(512, 512, kernel_size=(3, 3), stride=(1, 1), padding=(4, 4), dilation=(4, 4), bias=False)\n",
       "      (bn2): BatchNorm2d(512, eps=1e-05, momentum=0.1, affine=True, track_running_stats=True)\n",
       "      (conv3): Conv2d(512, 2048, kernel_size=(1, 1), stride=(1, 1), bias=False)\n",
       "      (bn3): BatchNorm2d(2048, eps=1e-05, momentum=0.1, affine=True, track_running_stats=True)\n",
       "      (relu): ReLU(inplace)\n",
       "      (downsample): Sequential(\n",
       "        (0): Conv2d(1024, 2048, kernel_size=(1, 1), stride=(1, 1), bias=False)\n",
       "        (1): BatchNorm2d(2048, eps=1e-05, momentum=0.1, affine=True, track_running_stats=True)\n",
       "      )\n",
       "    )\n",
       "    (1): Bottleneck(\n",
       "      (conv1): Conv2d(2048, 512, kernel_size=(1, 1), stride=(1, 1), bias=False)\n",
       "      (bn1): BatchNorm2d(512, eps=1e-05, momentum=0.1, affine=True, track_running_stats=True)\n",
       "      (conv2): Conv2d(512, 512, kernel_size=(3, 3), stride=(1, 1), padding=(4, 4), dilation=(4, 4), bias=False)\n",
       "      (bn2): BatchNorm2d(512, eps=1e-05, momentum=0.1, affine=True, track_running_stats=True)\n",
       "      (conv3): Conv2d(512, 2048, kernel_size=(1, 1), stride=(1, 1), bias=False)\n",
       "      (bn3): BatchNorm2d(2048, eps=1e-05, momentum=0.1, affine=True, track_running_stats=True)\n",
       "      (relu): ReLU(inplace)\n",
       "    )\n",
       "    (2): Bottleneck(\n",
       "      (conv1): Conv2d(2048, 512, kernel_size=(1, 1), stride=(1, 1), bias=False)\n",
       "      (bn1): BatchNorm2d(512, eps=1e-05, momentum=0.1, affine=True, track_running_stats=True)\n",
       "      (conv2): Conv2d(512, 512, kernel_size=(3, 3), stride=(1, 1), padding=(4, 4), dilation=(4, 4), bias=False)\n",
       "      (bn2): BatchNorm2d(512, eps=1e-05, momentum=0.1, affine=True, track_running_stats=True)\n",
       "      (conv3): Conv2d(512, 2048, kernel_size=(1, 1), stride=(1, 1), bias=False)\n",
       "      (bn3): BatchNorm2d(2048, eps=1e-05, momentum=0.1, affine=True, track_running_stats=True)\n",
       "      (relu): ReLU(inplace)\n",
       "    )\n",
       "  )\n",
       "  (layer5): Classifier_Module(\n",
       "    (conv2d_list): ModuleList(\n",
       "      (0): Conv2d(1024, 19, kernel_size=(3, 3), stride=(1, 1), padding=(6, 6), dilation=(6, 6))\n",
       "      (1): Conv2d(1024, 19, kernel_size=(3, 3), stride=(1, 1), padding=(12, 12), dilation=(12, 12))\n",
       "      (2): Conv2d(1024, 19, kernel_size=(3, 3), stride=(1, 1), padding=(18, 18), dilation=(18, 18))\n",
       "      (3): Conv2d(1024, 19, kernel_size=(3, 3), stride=(1, 1), padding=(24, 24), dilation=(24, 24))\n",
       "    )\n",
       "  )\n",
       "  (layer6): Classifier_Module(\n",
       "    (conv2d_list): ModuleList(\n",
       "      (0): Conv2d(2048, 19, kernel_size=(3, 3), stride=(1, 1), padding=(6, 6), dilation=(6, 6))\n",
       "      (1): Conv2d(2048, 19, kernel_size=(3, 3), stride=(1, 1), padding=(12, 12), dilation=(12, 12))\n",
       "      (2): Conv2d(2048, 19, kernel_size=(3, 3), stride=(1, 1), padding=(18, 18), dilation=(18, 18))\n",
       "      (3): Conv2d(2048, 19, kernel_size=(3, 3), stride=(1, 1), padding=(24, 24), dilation=(24, 24))\n",
       "    )\n",
       "  )\n",
       ")"
      ]
     },
     "execution_count": 9,
     "metadata": {},
     "output_type": "execute_result"
    }
   ],
   "source": [
    "model = Res_Deeplab(num_classes=args.num_classes)\n",
    "\n",
    "if args.restore_from[:4] == 'http' :\n",
    "    saved_state_dict = model_zoo.load_url(args.restore_from)\n",
    "else:\n",
    "    saved_state_dict = torch.load(args.restore_from)\n",
    "model.load_state_dict(saved_state_dict)\n",
    "\n",
    "model.eval()\n",
    "model.cuda(gpu0)"
   ]
  },
  {
   "cell_type": "markdown",
   "metadata": {},
   "source": [
    "# loading data"
   ]
  },
  {
   "cell_type": "code",
   "execution_count": 10,
   "metadata": {},
   "outputs": [],
   "source": [
    "trainloader = data.DataLoader(\n",
    "    GTA5DataSet(args.data_dir, args.data_list, max_iters=args.num_steps * args.iter_size * args.batch_size,\n",
    "                crop_size=input_size,\n",
    "                scale=args.random_scale, mirror=args.random_mirror, mean=IMG_MEAN),\n",
    "    batch_size=args.batch_size, shuffle=True, num_workers=args.num_workers, pin_memory=True)\n"
   ]
  },
  {
   "cell_type": "code",
   "execution_count": 11,
   "metadata": {},
   "outputs": [
    {
     "data": {
      "text/plain": [
       "'./dataset/gta5_list/train.txt'"
      ]
     },
     "execution_count": 11,
     "metadata": {},
     "output_type": "execute_result"
    }
   ],
   "source": [
    "args.data_list"
   ]
  },
  {
   "cell_type": "code",
   "execution_count": 12,
   "metadata": {},
   "outputs": [],
   "source": [
    "targetloader = data.DataLoader(cityscapesDataSet(args.data_dir_target, args.data_list_target,\n",
    "                                                     max_iters=args.num_steps * args.iter_size * args.batch_size,\n",
    "                                                     crop_size=input_size_target,\n",
    "                                                     scale=False, mirror=args.random_mirror, mean=IMG_MEAN,\n",
    "                                                     set=args.set),\n",
    "                                   batch_size=args.batch_size, shuffle=True, num_workers=args.num_workers,\n",
    "                                   pin_memory=True)"
   ]
  },
  {
   "cell_type": "code",
   "execution_count": 13,
   "metadata": {},
   "outputs": [],
   "source": [
    "trainloader_gen = enumerate(trainloader)\n",
    "targetloader_gen = enumerate(targetloader)"
   ]
  },
  {
   "cell_type": "markdown",
   "metadata": {},
   "source": [
    "# trainer source input shape"
   ]
  },
  {
   "cell_type": "code",
   "execution_count": 14,
   "metadata": {},
   "outputs": [],
   "source": [
    "index, batch = next(trainloader_gen)"
   ]
  },
  {
   "cell_type": "code",
   "execution_count": 15,
   "metadata": {},
   "outputs": [],
   "source": [
    "images, labels, _, name = batch\n",
    "images = Variable(images).cuda(args.gpu)"
   ]
  },
  {
   "cell_type": "code",
   "execution_count": 16,
   "metadata": {},
   "outputs": [
    {
     "data": {
      "text/plain": [
       "torch.Size([1, 720, 1280])"
      ]
     },
     "execution_count": 16,
     "metadata": {},
     "output_type": "execute_result"
    }
   ],
   "source": [
    "labels.shape"
   ]
  },
  {
   "cell_type": "code",
   "execution_count": 19,
   "metadata": {},
   "outputs": [
    {
     "data": {
      "text/plain": [
       "array([[  2.,   2.,   2., ...,   2.,   2.,   2.],\n",
       "       [  2.,   2.,   2., ...,   2.,   2.,   2.],\n",
       "       [  2.,   2.,   2., ...,   2.,   2.,   2.],\n",
       "       ...,\n",
       "       [  0.,   0.,   0., ..., 255., 255., 255.],\n",
       "       [  0.,   0.,   0., ..., 255., 255., 255.],\n",
       "       [  0.,   0.,   0., ..., 255., 255., 255.]], dtype=float32)"
      ]
     },
     "execution_count": 19,
     "metadata": {},
     "output_type": "execute_result"
    }
   ],
   "source": [
    "labels.cpu().data[0].numpy()"
   ]
  },
  {
   "cell_type": "code",
   "execution_count": null,
   "metadata": {},
   "outputs": [],
   "source": []
  },
  {
   "cell_type": "code",
   "execution_count": 18,
   "metadata": {},
   "outputs": [
    {
     "ename": "AttributeError",
     "evalue": "'Tensor' object has no attribute 'save'",
     "output_type": "error",
     "traceback": [
      "\u001b[1;31m---------------------------------------------------------------------------\u001b[0m",
      "\u001b[1;31mAttributeError\u001b[0m                            Traceback (most recent call last)",
      "\u001b[1;32m<ipython-input-18-c0be5412868b>\u001b[0m in \u001b[0;36m<module>\u001b[1;34m()\u001b[0m\n\u001b[1;32m----> 1\u001b[1;33m \u001b[0mlabels\u001b[0m\u001b[1;33m.\u001b[0m\u001b[0msave\u001b[0m\u001b[1;33m(\u001b[0m\u001b[1;34m'check_output/Image_source_domain_seg/%s_label.png'\u001b[0m \u001b[1;33m%\u001b[0m \u001b[1;33m(\u001b[0m\u001b[1;36m1\u001b[0m\u001b[1;33m)\u001b[0m\u001b[1;33m)\u001b[0m\u001b[1;33m\u001b[0m\u001b[0m\n\u001b[0m",
      "\u001b[1;31mAttributeError\u001b[0m: 'Tensor' object has no attribute 'save'"
     ]
    }
   ],
   "source": [
    "labels.save('check_output/Image_source_domain_seg/%s_label.png' % (1))\n"
   ]
  },
  {
   "cell_type": "code",
   "execution_count": null,
   "metadata": {},
   "outputs": [],
   "source": []
  },
  {
   "cell_type": "code",
   "execution_count": 17,
   "metadata": {},
   "outputs": [
    {
     "data": {
      "text/plain": [
       "tensor([[  10.,   10.,   10.,  ...,   10.,   10.,   10.],\n",
       "        [  10.,   10.,   10.,  ...,   10.,   10.,   10.],\n",
       "        [   5.,    5.,    5.,  ...,   10.,   10.,   10.],\n",
       "        ...,\n",
       "        [   0.,    0.,    0.,  ...,  255.,  255.,  255.],\n",
       "        [   0.,    0.,    0.,  ...,  255.,  255.,  255.],\n",
       "        [   0.,    0.,    0.,  ...,  255.,  255.,  255.]])"
      ]
     },
     "execution_count": 17,
     "metadata": {},
     "output_type": "execute_result"
    }
   ],
   "source": [
    "labels[0]"
   ]
  },
  {
   "cell_type": "code",
   "execution_count": 18,
   "metadata": {},
   "outputs": [],
   "source": [
    "num_classes = 19"
   ]
  },
  {
   "cell_type": "code",
   "execution_count": 31,
   "metadata": {},
   "outputs": [
    {
     "data": {
      "text/plain": [
       "[1, 720, 1280, 19]"
      ]
     },
     "execution_count": 31,
     "metadata": {},
     "output_type": "execute_result"
    }
   ],
   "source": []
  },
  {
   "cell_type": "code",
   "execution_count": 22,
   "metadata": {},
   "outputs": [],
   "source": [
    "a = torch.ones([1, 19, 3 ,2]) * 5"
   ]
  },
  {
   "cell_type": "code",
   "execution_count": 25,
   "metadata": {},
   "outputs": [],
   "source": [
    "b = torch.ones([1, 19, 3, 2]) * 2"
   ]
  },
  {
   "cell_type": "code",
   "execution_count": 26,
   "metadata": {},
   "outputs": [
    {
     "data": {
      "text/plain": [
       "tensor([[[[ 10.,  10.],\n",
       "          [ 10.,  10.],\n",
       "          [ 10.,  10.]],\n",
       "\n",
       "         [[ 10.,  10.],\n",
       "          [ 10.,  10.],\n",
       "          [ 10.,  10.]],\n",
       "\n",
       "         [[ 10.,  10.],\n",
       "          [ 10.,  10.],\n",
       "          [ 10.,  10.]],\n",
       "\n",
       "         [[ 10.,  10.],\n",
       "          [ 10.,  10.],\n",
       "          [ 10.,  10.]],\n",
       "\n",
       "         [[ 10.,  10.],\n",
       "          [ 10.,  10.],\n",
       "          [ 10.,  10.]],\n",
       "\n",
       "         [[ 10.,  10.],\n",
       "          [ 10.,  10.],\n",
       "          [ 10.,  10.]],\n",
       "\n",
       "         [[ 10.,  10.],\n",
       "          [ 10.,  10.],\n",
       "          [ 10.,  10.]],\n",
       "\n",
       "         [[ 10.,  10.],\n",
       "          [ 10.,  10.],\n",
       "          [ 10.,  10.]],\n",
       "\n",
       "         [[ 10.,  10.],\n",
       "          [ 10.,  10.],\n",
       "          [ 10.,  10.]],\n",
       "\n",
       "         [[ 10.,  10.],\n",
       "          [ 10.,  10.],\n",
       "          [ 10.,  10.]],\n",
       "\n",
       "         [[ 10.,  10.],\n",
       "          [ 10.,  10.],\n",
       "          [ 10.,  10.]],\n",
       "\n",
       "         [[ 10.,  10.],\n",
       "          [ 10.,  10.],\n",
       "          [ 10.,  10.]],\n",
       "\n",
       "         [[ 10.,  10.],\n",
       "          [ 10.,  10.],\n",
       "          [ 10.,  10.]],\n",
       "\n",
       "         [[ 10.,  10.],\n",
       "          [ 10.,  10.],\n",
       "          [ 10.,  10.]],\n",
       "\n",
       "         [[ 10.,  10.],\n",
       "          [ 10.,  10.],\n",
       "          [ 10.,  10.]],\n",
       "\n",
       "         [[ 10.,  10.],\n",
       "          [ 10.,  10.],\n",
       "          [ 10.,  10.]],\n",
       "\n",
       "         [[ 10.,  10.],\n",
       "          [ 10.,  10.],\n",
       "          [ 10.,  10.]],\n",
       "\n",
       "         [[ 10.,  10.],\n",
       "          [ 10.,  10.],\n",
       "          [ 10.,  10.]],\n",
       "\n",
       "         [[ 10.,  10.],\n",
       "          [ 10.,  10.],\n",
       "          [ 10.,  10.]]]])"
      ]
     },
     "execution_count": 26,
     "metadata": {},
     "output_type": "execute_result"
    }
   ],
   "source": [
    "a * b"
   ]
  },
  {
   "cell_type": "code",
   "execution_count": null,
   "metadata": {},
   "outputs": [],
   "source": []
  },
  {
   "cell_type": "code",
   "execution_count": 51,
   "metadata": {},
   "outputs": [],
   "source": [
    "n_z =  torch.zeros(list(labels.shape) + [num_classes], dtype=torch.float64)"
   ]
  },
  {
   "cell_type": "code",
   "execution_count": 66,
   "metadata": {},
   "outputs": [],
   "source": [
    "n, c, h, w = [1, 19, 720, 1280]"
   ]
  },
  {
   "cell_type": "code",
   "execution_count": 91,
   "metadata": {},
   "outputs": [
    {
     "data": {
      "text/plain": [
       "tensor([[[  10.,   10.,   10.,  ...,    2.,    2.,    2.],\n",
       "         [  10.,   10.,   10.,  ...,    2.,    2.,    2.],\n",
       "         [  10.,   10.,   10.,  ...,    2.,    2.,    2.],\n",
       "         ...,\n",
       "         [   0.,    0.,    0.,  ...,  255.,  255.,  255.],\n",
       "         [   0.,    0.,    0.,  ...,  255.,  255.,  255.],\n",
       "         [   0.,    0.,    0.,  ...,  255.,  255.,  255.]]])"
      ]
     },
     "execution_count": 91,
     "metadata": {},
     "output_type": "execute_result"
    }
   ],
   "source": [
    "labels"
   ]
  },
  {
   "cell_type": "markdown",
   "metadata": {},
   "source": [
    "# can work"
   ]
  },
  {
   "cell_type": "code",
   "execution_count": 84,
   "metadata": {},
   "outputs": [],
   "source": [
    "test = torch.zeros(n, h, w, c)\n",
    "for i in range(num_class):\n",
    "    test[:,:,:,i] = (labels == i) * 1"
   ]
  },
  {
   "cell_type": "code",
   "execution_count": 93,
   "metadata": {},
   "outputs": [
    {
     "data": {
      "text/plain": [
       "tensor([[[ 1.,  1.,  1.,  ...,  0.,  0.,  0.],\n",
       "         [ 1.,  1.,  1.,  ...,  0.,  0.,  0.],\n",
       "         [ 1.,  1.,  1.,  ...,  0.,  0.,  0.],\n",
       "         ...,\n",
       "         [ 0.,  0.,  0.,  ...,  0.,  0.,  0.],\n",
       "         [ 0.,  0.,  0.,  ...,  0.,  0.,  0.],\n",
       "         [ 0.,  0.,  0.,  ...,  0.,  0.,  0.]]])"
      ]
     },
     "execution_count": 93,
     "metadata": {},
     "output_type": "execute_result"
    }
   ],
   "source": [
    "test[:,:,:,10]"
   ]
  },
  {
   "cell_type": "code",
   "execution_count": null,
   "metadata": {},
   "outputs": [],
   "source": [
    "h, w = map(int, args.input_size_target.split(','))\n",
    "\n"
   ]
  },
  {
   "cell_type": "code",
   "execution_count": 102,
   "metadata": {},
   "outputs": [],
   "source": [
    "inter_mini = nn.Upsample(scale_factor=2, mode='nearest')"
   ]
  },
  {
   "cell_type": "code",
   "execution_count": 103,
   "metadata": {},
   "outputs": [],
   "source": [
    "a = inter_mini(test)"
   ]
  },
  {
   "cell_type": "code",
   "execution_count": 104,
   "metadata": {},
   "outputs": [
    {
     "data": {
      "text/plain": [
       "torch.Size([1, 720, 2560, 38])"
      ]
     },
     "execution_count": 104,
     "metadata": {},
     "output_type": "execute_result"
    }
   ],
   "source": [
    "a.shape"
   ]
  },
  {
   "cell_type": "code",
   "execution_count": 89,
   "metadata": {},
   "outputs": [
    {
     "data": {
      "text/plain": [
       "tensor(1.)"
      ]
     },
     "execution_count": 89,
     "metadata": {},
     "output_type": "execute_result"
    }
   ],
   "source": [
    "test[:,:,:,0].max()"
   ]
  },
  {
   "cell_type": "code",
   "execution_count": null,
   "metadata": {},
   "outputs": [],
   "source": [
    "for i in range "
   ]
  },
  {
   "cell_type": "code",
   "execution_count": 19,
   "metadata": {},
   "outputs": [],
   "source": [
    "h = 1280\n",
    "w = 720\n",
    "zero_channel = torch.zeros((1, w, h))\n",
    "labels_channel = torch.zeros((num_class, w, h)).cuda()"
   ]
  },
  {
   "cell_type": "code",
   "execution_count": 20,
   "metadata": {},
   "outputs": [
    {
     "data": {
      "text/plain": [
       "torch.Size([19, 720, 1280])"
      ]
     },
     "execution_count": 20,
     "metadata": {},
     "output_type": "execute_result"
    }
   ],
   "source": [
    "labels_channel.shape"
   ]
  },
  {
   "cell_type": "code",
   "execution_count": null,
   "metadata": {},
   "outputs": [],
   "source": []
  },
  {
   "cell_type": "code",
   "execution_count": 21,
   "metadata": {},
   "outputs": [],
   "source": [
    "for i in range(num_class):\n",
    "    labels_channel[i] = torch.where(labels == i, input = labels, other = zero_channel).cuda()"
   ]
  },
  {
   "cell_type": "code",
   "execution_count": 22,
   "metadata": {},
   "outputs": [
    {
     "ename": "NameError",
     "evalue": "name 'label' is not defined",
     "output_type": "error",
     "traceback": [
      "\u001b[1;31m---------------------------------------------------------------------------\u001b[0m",
      "\u001b[1;31mNameError\u001b[0m                                 Traceback (most recent call last)",
      "\u001b[1;32m<ipython-input-22-1aa056351e9c>\u001b[0m in \u001b[0;36m<module>\u001b[1;34m()\u001b[0m\n\u001b[0;32m      1\u001b[0m \u001b[1;31m# re-assign labels to match the format of Cityscapes\u001b[0m\u001b[1;33m\u001b[0m\u001b[1;33m\u001b[0m\u001b[0m\n\u001b[1;32m----> 2\u001b[1;33m \u001b[0mlabel_copy\u001b[0m \u001b[1;33m=\u001b[0m \u001b[1;36m255\u001b[0m \u001b[1;33m*\u001b[0m \u001b[0mnp\u001b[0m\u001b[1;33m.\u001b[0m\u001b[0mones\u001b[0m\u001b[1;33m(\u001b[0m\u001b[0mlabel\u001b[0m\u001b[1;33m.\u001b[0m\u001b[0mshape\u001b[0m\u001b[1;33m,\u001b[0m \u001b[0mdtype\u001b[0m\u001b[1;33m=\u001b[0m\u001b[0mnp\u001b[0m\u001b[1;33m.\u001b[0m\u001b[0mfloat32\u001b[0m\u001b[1;33m)\u001b[0m\u001b[1;33m\u001b[0m\u001b[0m\n\u001b[0m\u001b[0;32m      3\u001b[0m \u001b[1;33m\u001b[0m\u001b[0m\n",
      "\u001b[1;31mNameError\u001b[0m: name 'label' is not defined"
     ]
    }
   ],
   "source": [
    " # re-assign labels to match the format of Cityscapes\n",
    "label_copy = 255 * np.ones(label.shape, dtype=np.float32)\n",
    "\n"
   ]
  },
  {
   "cell_type": "code",
   "execution_count": 168,
   "metadata": {},
   "outputs": [
    {
     "data": {
      "text/plain": [
       "array([[[[255., 255., 255., ..., 255., 255., 255.],\n",
       "         [255., 255., 255., ..., 255., 255., 255.],\n",
       "         [255., 255., 255., ..., 255., 255., 255.],\n",
       "         ...,\n",
       "         [255., 255., 255., ..., 255., 255., 255.],\n",
       "         [255., 255., 255., ..., 255., 255., 255.],\n",
       "         [255., 255., 255., ..., 255., 255., 255.]],\n",
       "\n",
       "        [[255., 255., 255., ..., 255., 255., 255.],\n",
       "         [255., 255., 255., ..., 255., 255., 255.],\n",
       "         [255., 255., 255., ..., 255., 255., 255.],\n",
       "         ...,\n",
       "         [255., 255., 255., ..., 255., 255., 255.],\n",
       "         [255., 255., 255., ..., 255., 255., 255.],\n",
       "         [255., 255., 255., ..., 255., 255., 255.]],\n",
       "\n",
       "        [[255., 255., 255., ..., 255., 255., 255.],\n",
       "         [255., 255., 255., ..., 255., 255., 255.],\n",
       "         [255., 255., 255., ..., 255., 255., 255.],\n",
       "         ...,\n",
       "         [255., 255., 255., ..., 255., 255., 255.],\n",
       "         [255., 255., 255., ..., 255., 255., 255.],\n",
       "         [255., 255., 255., ..., 255., 255., 255.]],\n",
       "\n",
       "        ...,\n",
       "\n",
       "        [[255., 255., 255., ..., 255., 255., 255.],\n",
       "         [255., 255., 255., ..., 255., 255., 255.],\n",
       "         [255., 255., 255., ..., 255., 255., 255.],\n",
       "         ...,\n",
       "         [255., 255., 255., ..., 255., 255., 255.],\n",
       "         [255., 255., 255., ..., 255., 255., 255.],\n",
       "         [255., 255., 255., ..., 255., 255., 255.]],\n",
       "\n",
       "        [[255., 255., 255., ..., 255., 255., 255.],\n",
       "         [255., 255., 255., ..., 255., 255., 255.],\n",
       "         [255., 255., 255., ..., 255., 255., 255.],\n",
       "         ...,\n",
       "         [255., 255., 255., ..., 255., 255., 255.],\n",
       "         [255., 255., 255., ..., 255., 255., 255.],\n",
       "         [255., 255., 255., ..., 255., 255., 255.]],\n",
       "\n",
       "        [[255., 255., 255., ..., 255., 255., 255.],\n",
       "         [255., 255., 255., ..., 255., 255., 255.],\n",
       "         [255., 255., 255., ..., 255., 255., 255.],\n",
       "         ...,\n",
       "         [255., 255., 255., ..., 255., 255., 255.],\n",
       "         [255., 255., 255., ..., 255., 255., 255.],\n",
       "         [255., 255., 255., ..., 255., 255., 255.]]],\n",
       "\n",
       "\n",
       "       [[[255., 255., 255., ..., 255., 255., 255.],\n",
       "         [255., 255., 255., ..., 255., 255., 255.],\n",
       "         [255., 255., 255., ..., 255., 255., 255.],\n",
       "         ...,\n",
       "         [255., 255., 255., ..., 255., 255., 255.],\n",
       "         [255., 255., 255., ..., 255., 255., 255.],\n",
       "         [255., 255., 255., ..., 255., 255., 255.]],\n",
       "\n",
       "        [[255., 255., 255., ..., 255., 255., 255.],\n",
       "         [255., 255., 255., ..., 255., 255., 255.],\n",
       "         [255., 255., 255., ..., 255., 255., 255.],\n",
       "         ...,\n",
       "         [255., 255., 255., ..., 255., 255., 255.],\n",
       "         [255., 255., 255., ..., 255., 255., 255.],\n",
       "         [255., 255., 255., ..., 255., 255., 255.]],\n",
       "\n",
       "        [[255., 255., 255., ..., 255., 255., 255.],\n",
       "         [255., 255., 255., ..., 255., 255., 255.],\n",
       "         [255., 255., 255., ..., 255., 255., 255.],\n",
       "         ...,\n",
       "         [255., 255., 255., ..., 255., 255., 255.],\n",
       "         [255., 255., 255., ..., 255., 255., 255.],\n",
       "         [255., 255., 255., ..., 255., 255., 255.]],\n",
       "\n",
       "        ...,\n",
       "\n",
       "        [[255., 255., 255., ..., 255., 255., 255.],\n",
       "         [255., 255., 255., ..., 255., 255., 255.],\n",
       "         [255., 255., 255., ..., 255., 255., 255.],\n",
       "         ...,\n",
       "         [255., 255., 255., ..., 255., 255., 255.],\n",
       "         [255., 255., 255., ..., 255., 255., 255.],\n",
       "         [255., 255., 255., ..., 255., 255., 255.]],\n",
       "\n",
       "        [[255., 255., 255., ..., 255., 255., 255.],\n",
       "         [255., 255., 255., ..., 255., 255., 255.],\n",
       "         [255., 255., 255., ..., 255., 255., 255.],\n",
       "         ...,\n",
       "         [255., 255., 255., ..., 255., 255., 255.],\n",
       "         [255., 255., 255., ..., 255., 255., 255.],\n",
       "         [255., 255., 255., ..., 255., 255., 255.]],\n",
       "\n",
       "        [[255., 255., 255., ..., 255., 255., 255.],\n",
       "         [255., 255., 255., ..., 255., 255., 255.],\n",
       "         [255., 255., 255., ..., 255., 255., 255.],\n",
       "         ...,\n",
       "         [255., 255., 255., ..., 255., 255., 255.],\n",
       "         [255., 255., 255., ..., 255., 255., 255.],\n",
       "         [255., 255., 255., ..., 255., 255., 255.]]],\n",
       "\n",
       "\n",
       "       [[[255., 255., 255., ..., 255., 255., 255.],\n",
       "         [255., 255., 255., ..., 255., 255., 255.],\n",
       "         [255., 255., 255., ..., 255., 255., 255.],\n",
       "         ...,\n",
       "         [255., 255., 255., ..., 255., 255., 255.],\n",
       "         [255., 255., 255., ..., 255., 255., 255.],\n",
       "         [255., 255., 255., ..., 255., 255., 255.]],\n",
       "\n",
       "        [[255., 255., 255., ..., 255., 255., 255.],\n",
       "         [255., 255., 255., ..., 255., 255., 255.],\n",
       "         [255., 255., 255., ..., 255., 255., 255.],\n",
       "         ...,\n",
       "         [255., 255., 255., ..., 255., 255., 255.],\n",
       "         [255., 255., 255., ..., 255., 255., 255.],\n",
       "         [255., 255., 255., ..., 255., 255., 255.]],\n",
       "\n",
       "        [[255., 255., 255., ..., 255., 255., 255.],\n",
       "         [255., 255., 255., ..., 255., 255., 255.],\n",
       "         [255., 255., 255., ..., 255., 255., 255.],\n",
       "         ...,\n",
       "         [255., 255., 255., ..., 255., 255., 255.],\n",
       "         [255., 255., 255., ..., 255., 255., 255.],\n",
       "         [255., 255., 255., ..., 255., 255., 255.]],\n",
       "\n",
       "        ...,\n",
       "\n",
       "        [[255., 255., 255., ..., 255., 255., 255.],\n",
       "         [255., 255., 255., ..., 255., 255., 255.],\n",
       "         [255., 255., 255., ..., 255., 255., 255.],\n",
       "         ...,\n",
       "         [255., 255., 255., ..., 255., 255., 255.],\n",
       "         [255., 255., 255., ..., 255., 255., 255.],\n",
       "         [255., 255., 255., ..., 255., 255., 255.]],\n",
       "\n",
       "        [[255., 255., 255., ..., 255., 255., 255.],\n",
       "         [255., 255., 255., ..., 255., 255., 255.],\n",
       "         [255., 255., 255., ..., 255., 255., 255.],\n",
       "         ...,\n",
       "         [255., 255., 255., ..., 255., 255., 255.],\n",
       "         [255., 255., 255., ..., 255., 255., 255.],\n",
       "         [255., 255., 255., ..., 255., 255., 255.]],\n",
       "\n",
       "        [[255., 255., 255., ..., 255., 255., 255.],\n",
       "         [255., 255., 255., ..., 255., 255., 255.],\n",
       "         [255., 255., 255., ..., 255., 255., 255.],\n",
       "         ...,\n",
       "         [255., 255., 255., ..., 255., 255., 255.],\n",
       "         [255., 255., 255., ..., 255., 255., 255.],\n",
       "         [255., 255., 255., ..., 255., 255., 255.]]],\n",
       "\n",
       "\n",
       "       ...,\n",
       "\n",
       "\n",
       "       [[[255., 255., 255., ..., 255., 255., 255.],\n",
       "         [255., 255., 255., ..., 255., 255., 255.],\n",
       "         [255., 255., 255., ..., 255., 255., 255.],\n",
       "         ...,\n",
       "         [255., 255., 255., ..., 255., 255., 255.],\n",
       "         [255., 255., 255., ..., 255., 255., 255.],\n",
       "         [255., 255., 255., ..., 255., 255., 255.]],\n",
       "\n",
       "        [[255., 255., 255., ..., 255., 255., 255.],\n",
       "         [255., 255., 255., ..., 255., 255., 255.],\n",
       "         [255., 255., 255., ..., 255., 255., 255.],\n",
       "         ...,\n",
       "         [255., 255., 255., ..., 255., 255., 255.],\n",
       "         [255., 255., 255., ..., 255., 255., 255.],\n",
       "         [255., 255., 255., ..., 255., 255., 255.]],\n",
       "\n",
       "        [[255., 255., 255., ..., 255., 255., 255.],\n",
       "         [255., 255., 255., ..., 255., 255., 255.],\n",
       "         [255., 255., 255., ..., 255., 255., 255.],\n",
       "         ...,\n",
       "         [255., 255., 255., ..., 255., 255., 255.],\n",
       "         [255., 255., 255., ..., 255., 255., 255.],\n",
       "         [255., 255., 255., ..., 255., 255., 255.]],\n",
       "\n",
       "        ...,\n",
       "\n",
       "        [[255., 255., 255., ..., 255., 255., 255.],\n",
       "         [255., 255., 255., ..., 255., 255., 255.],\n",
       "         [255., 255., 255., ..., 255., 255., 255.],\n",
       "         ...,\n",
       "         [255., 255., 255., ..., 255., 255., 255.],\n",
       "         [255., 255., 255., ..., 255., 255., 255.],\n",
       "         [255., 255., 255., ..., 255., 255., 255.]],\n",
       "\n",
       "        [[255., 255., 255., ..., 255., 255., 255.],\n",
       "         [255., 255., 255., ..., 255., 255., 255.],\n",
       "         [255., 255., 255., ..., 255., 255., 255.],\n",
       "         ...,\n",
       "         [255., 255., 255., ..., 255., 255., 255.],\n",
       "         [255., 255., 255., ..., 255., 255., 255.],\n",
       "         [255., 255., 255., ..., 255., 255., 255.]],\n",
       "\n",
       "        [[255., 255., 255., ..., 255., 255., 255.],\n",
       "         [255., 255., 255., ..., 255., 255., 255.],\n",
       "         [255., 255., 255., ..., 255., 255., 255.],\n",
       "         ...,\n",
       "         [255., 255., 255., ..., 255., 255., 255.],\n",
       "         [255., 255., 255., ..., 255., 255., 255.],\n",
       "         [255., 255., 255., ..., 255., 255., 255.]]],\n",
       "\n",
       "\n",
       "       [[[255., 255., 255., ..., 255., 255., 255.],\n",
       "         [255., 255., 255., ..., 255., 255., 255.],\n",
       "         [255., 255., 255., ..., 255., 255., 255.],\n",
       "         ...,\n",
       "         [255., 255., 255., ..., 255., 255., 255.],\n",
       "         [255., 255., 255., ..., 255., 255., 255.],\n",
       "         [255., 255., 255., ..., 255., 255., 255.]],\n",
       "\n",
       "        [[255., 255., 255., ..., 255., 255., 255.],\n",
       "         [255., 255., 255., ..., 255., 255., 255.],\n",
       "         [255., 255., 255., ..., 255., 255., 255.],\n",
       "         ...,\n",
       "         [255., 255., 255., ..., 255., 255., 255.],\n",
       "         [255., 255., 255., ..., 255., 255., 255.],\n",
       "         [255., 255., 255., ..., 255., 255., 255.]],\n",
       "\n",
       "        [[255., 255., 255., ..., 255., 255., 255.],\n",
       "         [255., 255., 255., ..., 255., 255., 255.],\n",
       "         [255., 255., 255., ..., 255., 255., 255.],\n",
       "         ...,\n",
       "         [255., 255., 255., ..., 255., 255., 255.],\n",
       "         [255., 255., 255., ..., 255., 255., 255.],\n",
       "         [255., 255., 255., ..., 255., 255., 255.]],\n",
       "\n",
       "        ...,\n",
       "\n",
       "        [[255., 255., 255., ..., 255., 255., 255.],\n",
       "         [255., 255., 255., ..., 255., 255., 255.],\n",
       "         [255., 255., 255., ..., 255., 255., 255.],\n",
       "         ...,\n",
       "         [255., 255., 255., ..., 255., 255., 255.],\n",
       "         [255., 255., 255., ..., 255., 255., 255.],\n",
       "         [255., 255., 255., ..., 255., 255., 255.]],\n",
       "\n",
       "        [[255., 255., 255., ..., 255., 255., 255.],\n",
       "         [255., 255., 255., ..., 255., 255., 255.],\n",
       "         [255., 255., 255., ..., 255., 255., 255.],\n",
       "         ...,\n",
       "         [255., 255., 255., ..., 255., 255., 255.],\n",
       "         [255., 255., 255., ..., 255., 255., 255.],\n",
       "         [255., 255., 255., ..., 255., 255., 255.]],\n",
       "\n",
       "        [[255., 255., 255., ..., 255., 255., 255.],\n",
       "         [255., 255., 255., ..., 255., 255., 255.],\n",
       "         [255., 255., 255., ..., 255., 255., 255.],\n",
       "         ...,\n",
       "         [255., 255., 255., ..., 255., 255., 255.],\n",
       "         [255., 255., 255., ..., 255., 255., 255.],\n",
       "         [255., 255., 255., ..., 255., 255., 255.]]],\n",
       "\n",
       "\n",
       "       [[[255., 255., 255., ..., 255., 255., 255.],\n",
       "         [255., 255., 255., ..., 255., 255., 255.],\n",
       "         [255., 255., 255., ..., 255., 255., 255.],\n",
       "         ...,\n",
       "         [255., 255., 255., ..., 255., 255., 255.],\n",
       "         [255., 255., 255., ..., 255., 255., 255.],\n",
       "         [255., 255., 255., ..., 255., 255., 255.]],\n",
       "\n",
       "        [[255., 255., 255., ..., 255., 255., 255.],\n",
       "         [255., 255., 255., ..., 255., 255., 255.],\n",
       "         [255., 255., 255., ..., 255., 255., 255.],\n",
       "         ...,\n",
       "         [255., 255., 255., ..., 255., 255., 255.],\n",
       "         [255., 255., 255., ..., 255., 255., 255.],\n",
       "         [255., 255., 255., ..., 255., 255., 255.]],\n",
       "\n",
       "        [[255., 255., 255., ..., 255., 255., 255.],\n",
       "         [255., 255., 255., ..., 255., 255., 255.],\n",
       "         [255., 255., 255., ..., 255., 255., 255.],\n",
       "         ...,\n",
       "         [255., 255., 255., ..., 255., 255., 255.],\n",
       "         [255., 255., 255., ..., 255., 255., 255.],\n",
       "         [255., 255., 255., ..., 255., 255., 255.]],\n",
       "\n",
       "        ...,\n",
       "\n",
       "        [[255., 255., 255., ..., 255., 255., 255.],\n",
       "         [255., 255., 255., ..., 255., 255., 255.],\n",
       "         [255., 255., 255., ..., 255., 255., 255.],\n",
       "         ...,\n",
       "         [255., 255., 255., ..., 255., 255., 255.],\n",
       "         [255., 255., 255., ..., 255., 255., 255.],\n",
       "         [255., 255., 255., ..., 255., 255., 255.]],\n",
       "\n",
       "        [[255., 255., 255., ..., 255., 255., 255.],\n",
       "         [255., 255., 255., ..., 255., 255., 255.],\n",
       "         [255., 255., 255., ..., 255., 255., 255.],\n",
       "         ...,\n",
       "         [255., 255., 255., ..., 255., 255., 255.],\n",
       "         [255., 255., 255., ..., 255., 255., 255.],\n",
       "         [255., 255., 255., ..., 255., 255., 255.]],\n",
       "\n",
       "        [[255., 255., 255., ..., 255., 255., 255.],\n",
       "         [255., 255., 255., ..., 255., 255., 255.],\n",
       "         [255., 255., 255., ..., 255., 255., 255.],\n",
       "         ...,\n",
       "         [255., 255., 255., ..., 255., 255., 255.],\n",
       "         [255., 255., 255., ..., 255., 255., 255.],\n",
       "         [255., 255., 255., ..., 255., 255., 255.]]]], dtype=float32)"
      ]
     },
     "execution_count": 168,
     "metadata": {},
     "output_type": "execute_result"
    }
   ],
   "source": [
    "label_copy"
   ]
  },
  {
   "cell_type": "code",
   "execution_count": 190,
   "metadata": {},
   "outputs": [],
   "source": [
    "files = range(19)"
   ]
  },
  {
   "cell_type": "code",
   "execution_count": 193,
   "metadata": {},
   "outputs": [],
   "source": [
    "class_label = np.zeros(tuple([len(files)] + list(labels.shape[1:])), dtype=np.float32)\n"
   ]
  },
  {
   "cell_type": "code",
   "execution_count": 194,
   "metadata": {},
   "outputs": [
    {
     "data": {
      "text/plain": [
       "(19, 720, 1280)"
      ]
     },
     "execution_count": 194,
     "metadata": {},
     "output_type": "execute_result"
    }
   ],
   "source": [
    "class_label.shape"
   ]
  },
  {
   "cell_type": "code",
   "execution_count": 205,
   "metadata": {},
   "outputs": [
    {
     "name": "stderr",
     "output_type": "stream",
     "text": [
      "C:\\Users\\VIPLAB\\Anaconda2\\envs\\xiao\\lib\\site-packages\\ipykernel_launcher.py:1: DeprecationWarning: This function is deprecated. Please call randint(3, 10 + 1) instead\n",
      "  \"\"\"Entry point for launching an IPython kernel.\n"
     ]
    }
   ],
   "source": [
    "a = np.random.random_integers(3, 10, size = (5, 10))"
   ]
  },
  {
   "cell_type": "code",
   "execution_count": 206,
   "metadata": {},
   "outputs": [
    {
     "data": {
      "text/plain": [
       "array([[10,  5,  7,  5,  4,  3, 10,  5,  6,  9],\n",
       "       [ 4,  7,  8,  5,  5,  5,  8,  3,  7,  7],\n",
       "       [10,  6,  7,  6,  8,  5,  6,  8,  8,  9],\n",
       "       [10,  5,  7,  3, 10,  8,  5,  4,  8,  3],\n",
       "       [ 7, 10,  9,  4,  6,  5,  4,  3, 10,  8]])"
      ]
     },
     "execution_count": 206,
     "metadata": {},
     "output_type": "execute_result"
    }
   ],
   "source": [
    "a"
   ]
  },
  {
   "cell_type": "code",
   "execution_count": 214,
   "metadata": {},
   "outputs": [
    {
     "ename": "AttributeError",
     "evalue": "'numpy.ndarray' object has no attribute 'assign'",
     "output_type": "error",
     "traceback": [
      "\u001b[1;31m---------------------------------------------------------------------------\u001b[0m",
      "\u001b[1;31mAttributeError\u001b[0m                            Traceback (most recent call last)",
      "\u001b[1;32m<ipython-input-214-999d64ce8347>\u001b[0m in \u001b[0;36m<module>\u001b[1;34m()\u001b[0m\n\u001b[1;32m----> 1\u001b[1;33m \u001b[0mc\u001b[0m \u001b[1;33m=\u001b[0m \u001b[0ma\u001b[0m\u001b[1;33m.\u001b[0m\u001b[0mtake\u001b[0m\u001b[1;33m(\u001b[0m\u001b[0mnp\u001b[0m\u001b[1;33m.\u001b[0m\u001b[0mwhere\u001b[0m\u001b[1;33m(\u001b[0m\u001b[0ma\u001b[0m\u001b[1;33m>\u001b[0m\u001b[1;36m5\u001b[0m\u001b[1;33m)\u001b[0m\u001b[1;33m)\u001b[0m\u001b[1;33m.\u001b[0m\u001b[0massign\u001b[0m\u001b[1;33m(\u001b[0m\u001b[1;33m-\u001b[0m\u001b[1;36m1\u001b[0m\u001b[1;33m)\u001b[0m\u001b[1;33m\u001b[0m\u001b[0m\n\u001b[0m",
      "\u001b[1;31mAttributeError\u001b[0m: 'numpy.ndarray' object has no attribute 'assign'"
     ]
    }
   ],
   "source": [
    "c = a.take(np.where(a>5)).assign(-1)\n"
   ]
  },
  {
   "cell_type": "code",
   "execution_count": 213,
   "metadata": {},
   "outputs": [
    {
     "data": {
      "text/plain": [
       "-1"
      ]
     },
     "execution_count": 213,
     "metadata": {},
     "output_type": "execute_result"
    }
   ],
   "source": [
    "c"
   ]
  },
  {
   "cell_type": "code",
   "execution_count": 195,
   "metadata": {},
   "outputs": [
    {
     "ename": "ValueError",
     "evalue": "sequence too large; cannot be greater than 32",
     "output_type": "error",
     "traceback": [
      "\u001b[1;31m---------------------------------------------------------------------------\u001b[0m",
      "\u001b[1;31mValueError\u001b[0m                                Traceback (most recent call last)",
      "\u001b[1;32m<ipython-input-195-7c8dee7eb9a6>\u001b[0m in \u001b[0;36m<module>\u001b[1;34m()\u001b[0m\n\u001b[0;32m      1\u001b[0m \u001b[1;32mfor\u001b[0m \u001b[0mi\u001b[0m \u001b[1;32min\u001b[0m \u001b[0mrange\u001b[0m\u001b[1;33m(\u001b[0m\u001b[1;36m19\u001b[0m\u001b[1;33m)\u001b[0m\u001b[1;33m:\u001b[0m\u001b[1;33m\u001b[0m\u001b[0m\n\u001b[1;32m----> 2\u001b[1;33m     \u001b[0mclass_label\u001b[0m\u001b[1;33m[\u001b[0m\u001b[0mi\u001b[0m\u001b[1;33m]\u001b[0m \u001b[1;33m=\u001b[0m \u001b[0mnp\u001b[0m\u001b[1;33m.\u001b[0m\u001b[0mones\u001b[0m\u001b[1;33m(\u001b[0m\u001b[0mclass_label\u001b[0m\u001b[1;33m[\u001b[0m\u001b[0mclass_label\u001b[0m \u001b[1;33m==\u001b[0m  \u001b[0mi\u001b[0m\u001b[1;33m]\u001b[0m\u001b[1;33m)\u001b[0m\u001b[1;33m\u001b[0m\u001b[0m\n\u001b[0m",
      "\u001b[1;32m~\\Anaconda2\\envs\\xiao\\lib\\site-packages\\numpy\\core\\numeric.py\u001b[0m in \u001b[0;36mones\u001b[1;34m(shape, dtype, order)\u001b[0m\n\u001b[0;32m    186\u001b[0m \u001b[1;33m\u001b[0m\u001b[0m\n\u001b[0;32m    187\u001b[0m     \"\"\"\n\u001b[1;32m--> 188\u001b[1;33m     \u001b[0ma\u001b[0m \u001b[1;33m=\u001b[0m \u001b[0mempty\u001b[0m\u001b[1;33m(\u001b[0m\u001b[0mshape\u001b[0m\u001b[1;33m,\u001b[0m \u001b[0mdtype\u001b[0m\u001b[1;33m,\u001b[0m \u001b[0morder\u001b[0m\u001b[1;33m)\u001b[0m\u001b[1;33m\u001b[0m\u001b[0m\n\u001b[0m\u001b[0;32m    189\u001b[0m     \u001b[0mmultiarray\u001b[0m\u001b[1;33m.\u001b[0m\u001b[0mcopyto\u001b[0m\u001b[1;33m(\u001b[0m\u001b[0ma\u001b[0m\u001b[1;33m,\u001b[0m \u001b[1;36m1\u001b[0m\u001b[1;33m,\u001b[0m \u001b[0mcasting\u001b[0m\u001b[1;33m=\u001b[0m\u001b[1;34m'unsafe'\u001b[0m\u001b[1;33m)\u001b[0m\u001b[1;33m\u001b[0m\u001b[0m\n\u001b[0;32m    190\u001b[0m     \u001b[1;32mreturn\u001b[0m \u001b[0ma\u001b[0m\u001b[1;33m\u001b[0m\u001b[0m\n",
      "\u001b[1;31mValueError\u001b[0m: sequence too large; cannot be greater than 32"
     ]
    }
   ],
   "source": [
    "for i in range(19):\n",
    "    class_label[i] = np.ones(class_label[class_label ==  i])"
   ]
  },
  {
   "cell_type": "code",
   "execution_count": null,
   "metadata": {},
   "outputs": [],
   "source": [
    "# revise part\n",
    "# =======================\n",
    "\n",
    "for i in len(self.files):\n",
    "    class_label[i] = label_copy[label == k]\n",
    "# ======================="
   ]
  },
  {
   "cell_type": "code",
   "execution_count": null,
   "metadata": {},
   "outputs": [],
   "source": [
    "labels_channel"
   ]
  },
  {
   "cell_type": "code",
   "execution_count": 149,
   "metadata": {},
   "outputs": [
    {
     "data": {
      "text/plain": [
       "torch.Size([19, 720, 1280])"
      ]
     },
     "execution_count": 149,
     "metadata": {},
     "output_type": "execute_result"
    }
   ],
   "source": [
    "vec.shape"
   ]
  },
  {
   "cell_type": "code",
   "execution_count": 148,
   "metadata": {},
   "outputs": [
    {
     "ename": "TypeError",
     "evalue": "iteration over a 0-d tensor",
     "output_type": "error",
     "traceback": [
      "\u001b[1;31m---------------------------------------------------------------------------\u001b[0m",
      "\u001b[1;31mTypeError\u001b[0m                                 Traceback (most recent call last)",
      "\u001b[1;32m<ipython-input-148-8f3ee7740bd7>\u001b[0m in \u001b[0;36m<module>\u001b[1;34m()\u001b[0m\n\u001b[1;32m----> 1\u001b[1;33m \u001b[0ma\u001b[0m\u001b[1;33m,\u001b[0m \u001b[0m_\u001b[0m \u001b[1;33m=\u001b[0m \u001b[0mtorch\u001b[0m\u001b[1;33m.\u001b[0m\u001b[0mmax\u001b[0m\u001b[1;33m(\u001b[0m\u001b[0mvec\u001b[0m\u001b[1;33m)\u001b[0m\u001b[1;33m\u001b[0m\u001b[0m\n\u001b[0m",
      "\u001b[1;32m~\\Anaconda2\\envs\\xiao\\lib\\site-packages\\torch\\tensor.py\u001b[0m in \u001b[0;36m__iter__\u001b[1;34m(self)\u001b[0m\n\u001b[0;32m    358\u001b[0m         \u001b[1;31m# map will interleave them.)\u001b[0m\u001b[1;33m\u001b[0m\u001b[1;33m\u001b[0m\u001b[0m\n\u001b[0;32m    359\u001b[0m         \u001b[1;32mif\u001b[0m \u001b[0mself\u001b[0m\u001b[1;33m.\u001b[0m\u001b[0mdim\u001b[0m\u001b[1;33m(\u001b[0m\u001b[1;33m)\u001b[0m \u001b[1;33m==\u001b[0m \u001b[1;36m0\u001b[0m\u001b[1;33m:\u001b[0m\u001b[1;33m\u001b[0m\u001b[0m\n\u001b[1;32m--> 360\u001b[1;33m             \u001b[1;32mraise\u001b[0m \u001b[0mTypeError\u001b[0m\u001b[1;33m(\u001b[0m\u001b[1;34m'iteration over a 0-d tensor'\u001b[0m\u001b[1;33m)\u001b[0m\u001b[1;33m\u001b[0m\u001b[0m\n\u001b[0m\u001b[0;32m    361\u001b[0m         \u001b[1;32mreturn\u001b[0m \u001b[0miter\u001b[0m\u001b[1;33m(\u001b[0m\u001b[0mimap\u001b[0m\u001b[1;33m(\u001b[0m\u001b[1;32mlambda\u001b[0m \u001b[0mi\u001b[0m\u001b[1;33m:\u001b[0m \u001b[0mself\u001b[0m\u001b[1;33m[\u001b[0m\u001b[0mi\u001b[0m\u001b[1;33m]\u001b[0m\u001b[1;33m,\u001b[0m \u001b[0mrange\u001b[0m\u001b[1;33m(\u001b[0m\u001b[0mself\u001b[0m\u001b[1;33m.\u001b[0m\u001b[0msize\u001b[0m\u001b[1;33m(\u001b[0m\u001b[1;36m0\u001b[0m\u001b[1;33m)\u001b[0m\u001b[1;33m)\u001b[0m\u001b[1;33m)\u001b[0m\u001b[1;33m)\u001b[0m\u001b[1;33m\u001b[0m\u001b[0m\n\u001b[0;32m    362\u001b[0m \u001b[1;33m\u001b[0m\u001b[0m\n",
      "\u001b[1;31mTypeError\u001b[0m: iteration over a 0-d tensor"
     ]
    }
   ],
   "source": [
    "a, _ = torch.max(vec)"
   ]
  },
  {
   "cell_type": "code",
   "execution_count": 129,
   "metadata": {},
   "outputs": [
    {
     "data": {
      "text/plain": [
       "(array([], dtype=int64), array([], dtype=int64), array([], dtype=int64))"
      ]
     },
     "execution_count": 129,
     "metadata": {},
     "output_type": "execute_result"
    }
   ],
   "source": [
    "np.where(labels == 1)"
   ]
  },
  {
   "cell_type": "code",
   "execution_count": 125,
   "metadata": {},
   "outputs": [
    {
     "data": {
      "text/plain": [
       "torch.Size([638893])"
      ]
     },
     "execution_count": 125,
     "metadata": {},
     "output_type": "execute_result"
    }
   ],
   "source": [
    "target.shape"
   ]
  },
  {
   "cell_type": "code",
   "execution_count": 112,
   "metadata": {},
   "outputs": [
    {
     "data": {
      "text/plain": [
       "torch.Size([1, 720, 1280, 3])"
      ]
     },
     "execution_count": 112,
     "metadata": {},
     "output_type": "execute_result"
    }
   ],
   "source": [
    "predict.shape"
   ]
  },
  {
   "cell_type": "code",
   "execution_count": 113,
   "metadata": {},
   "outputs": [],
   "source": [
    "predict = predict[target_mask.view(n, h, w, 1).repeat(1, 1, 1, c)].view(-1, c)"
   ]
  },
  {
   "cell_type": "code",
   "execution_count": 96,
   "metadata": {},
   "outputs": [
    {
     "data": {
      "text/plain": [
       "['04755.png']"
      ]
     },
     "execution_count": 96,
     "metadata": {},
     "output_type": "execute_result"
    }
   ],
   "source": [
    "name"
   ]
  },
  {
   "cell_type": "code",
   "execution_count": 63,
   "metadata": {},
   "outputs": [],
   "source": [
    "label = Variable(labels.long()).cuda(gpu0)"
   ]
  },
  {
   "cell_type": "code",
   "execution_count": 64,
   "metadata": {
    "scrolled": true
   },
   "outputs": [
    {
     "data": {
      "text/plain": [
       "tensor([[[   8,    8,    8,  ...,    2,    2,    2],\n",
       "         [   8,    8,    8,  ...,    2,    2,    2],\n",
       "         [   8,    8,   10,  ...,    2,    2,    2],\n",
       "         ...,\n",
       "         [   0,    0,    0,  ...,  255,  255,  255],\n",
       "         [   0,    0,    0,  ...,  255,  255,  255],\n",
       "         [   0,    0,    0,  ...,  255,  255,  255]]], device='cuda:0')"
      ]
     },
     "execution_count": 64,
     "metadata": {},
     "output_type": "execute_result"
    }
   ],
   "source": [
    "label"
   ]
  },
  {
   "cell_type": "code",
   "execution_count": 61,
   "metadata": {},
   "outputs": [
    {
     "data": {
      "text/plain": [
       "torch.Size([1, 720, 1280])"
      ]
     },
     "execution_count": 61,
     "metadata": {},
     "output_type": "execute_result"
    }
   ],
   "source": [
    "label.shape"
   ]
  },
  {
   "cell_type": "code",
   "execution_count": 41,
   "metadata": {},
   "outputs": [
    {
     "ename": "RuntimeError",
     "evalue": "dimension out of range (expected to be in range of [-3, 2], but got 3)",
     "output_type": "error",
     "traceback": [
      "\u001b[1;31m---------------------------------------------------------------------------\u001b[0m",
      "\u001b[1;31mRuntimeError\u001b[0m                              Traceback (most recent call last)",
      "\u001b[1;32m<ipython-input-41-10a34dc700b7>\u001b[0m in \u001b[0;36m<module>\u001b[1;34m()\u001b[0m\n\u001b[1;32m----> 1\u001b[1;33m \u001b[0mlabel\u001b[0m \u001b[1;33m=\u001b[0m \u001b[0mlabel\u001b[0m\u001b[1;33m.\u001b[0m\u001b[0mtranspose\u001b[0m\u001b[1;33m(\u001b[0m\u001b[1;36m1\u001b[0m\u001b[1;33m,\u001b[0m \u001b[1;36m2\u001b[0m\u001b[1;33m)\u001b[0m\u001b[1;33m.\u001b[0m\u001b[0mtranspose\u001b[0m\u001b[1;33m(\u001b[0m\u001b[1;36m2\u001b[0m\u001b[1;33m,\u001b[0m \u001b[1;36m3\u001b[0m\u001b[1;33m)\u001b[0m\u001b[1;33m.\u001b[0m\u001b[0mcontiguous\u001b[0m\u001b[1;33m(\u001b[0m\u001b[1;33m)\u001b[0m\u001b[1;33m\u001b[0m\u001b[0m\n\u001b[0m",
      "\u001b[1;31mRuntimeError\u001b[0m: dimension out of range (expected to be in range of [-3, 2], but got 3)"
     ]
    }
   ],
   "source": [
    "label = label.transpose(1, 2).transpose(2, 3).contiguous()"
   ]
  },
  {
   "cell_type": "code",
   "execution_count": 43,
   "metadata": {},
   "outputs": [],
   "source": [
    "label_mask = (label >= 0) * (label !=255)"
   ]
  },
  {
   "cell_type": "code",
   "execution_count": 44,
   "metadata": {},
   "outputs": [
    {
     "data": {
      "text/plain": [
       "tensor([[[ 1,  1,  1,  ...,  1,  1,  1],\n",
       "         [ 1,  1,  1,  ...,  1,  1,  1],\n",
       "         [ 1,  1,  1,  ...,  1,  1,  1],\n",
       "         ...,\n",
       "         [ 1,  1,  1,  ...,  0,  0,  0],\n",
       "         [ 1,  1,  1,  ...,  0,  0,  0],\n",
       "         [ 1,  1,  1,  ...,  0,  0,  0]]], dtype=torch.uint8, device='cuda:0')"
      ]
     },
     "execution_count": 44,
     "metadata": {},
     "output_type": "execute_result"
    }
   ],
   "source": [
    "label_mask"
   ]
  },
  {
   "cell_type": "code",
   "execution_count": 45,
   "metadata": {},
   "outputs": [
    {
     "ename": "NameError",
     "evalue": "name 'target' is not defined",
     "output_type": "error",
     "traceback": [
      "\u001b[1;31m---------------------------------------------------------------------------\u001b[0m",
      "\u001b[1;31mNameError\u001b[0m                                 Traceback (most recent call last)",
      "\u001b[1;32m<ipython-input-45-4ae79c1d8baa>\u001b[0m in \u001b[0;36m<module>\u001b[1;34m()\u001b[0m\n\u001b[1;32m----> 1\u001b[1;33m \u001b[0mtarget\u001b[0m \u001b[1;33m=\u001b[0m \u001b[0mtarget\u001b[0m\u001b[1;33m[\u001b[0m\u001b[0mtarget_mask\u001b[0m\u001b[1;33m]\u001b[0m\u001b[1;33m\u001b[0m\u001b[0m\n\u001b[0m",
      "\u001b[1;31mNameError\u001b[0m: name 'target' is not defined"
     ]
    }
   ],
   "source": [
    "target = target[target_mask]"
   ]
  },
  {
   "cell_type": "code",
   "execution_count": 37,
   "metadata": {},
   "outputs": [
    {
     "data": {
      "text/plain": [
       "torch.Size([1, 720, 1280])"
      ]
     },
     "execution_count": 37,
     "metadata": {},
     "output_type": "execute_result"
    }
   ],
   "source": [
    "labels.shape"
   ]
  },
  {
   "cell_type": "code",
   "execution_count": 38,
   "metadata": {},
   "outputs": [
    {
     "data": {
      "text/plain": [
       "torch.Size([1, 3, 720, 1280])"
      ]
     },
     "execution_count": 38,
     "metadata": {},
     "output_type": "execute_result"
    }
   ],
   "source": [
    "images.shape"
   ]
  },
  {
   "cell_type": "code",
   "execution_count": 16,
   "metadata": {},
   "outputs": [
    {
     "name": "stderr",
     "output_type": "stream",
     "text": [
      "C:\\Users\\VIPLAB\\Anaconda2\\envs\\xiao\\lib\\site-packages\\ipykernel_launcher.py:1: UserWarning: volatile was removed and now has no effect. Use `with torch.no_grad():` instead.\n",
      "  \"\"\"Entry point for launching an IPython kernel.\n"
     ]
    }
   ],
   "source": [
    "img_var = Variable(images, volatile=True)\n",
    "# img_var = nn.no_grad(img_var)\n",
    "output1, output2 = model(img_var.cuda(gpu0))"
   ]
  },
  {
   "cell_type": "code",
   "execution_count": 17,
   "metadata": {},
   "outputs": [
    {
     "data": {
      "text/plain": [
       "(torch.Size([1, 19, 91, 161]), torch.Size([1, 19, 91, 161]))"
      ]
     },
     "execution_count": 17,
     "metadata": {},
     "output_type": "execute_result"
    }
   ],
   "source": [
    "output1.shape, output2.shape"
   ]
  },
  {
   "cell_type": "code",
   "execution_count": 18,
   "metadata": {},
   "outputs": [],
   "source": [
    "del img_var, output1, output2"
   ]
  },
  {
   "cell_type": "markdown",
   "metadata": {},
   "source": [
    "# trainer target input shape"
   ]
  },
  {
   "cell_type": "code",
   "execution_count": 19,
   "metadata": {},
   "outputs": [],
   "source": [
    "index, batch = next(targetloader_gen)"
   ]
  },
  {
   "cell_type": "code",
   "execution_count": 20,
   "metadata": {},
   "outputs": [],
   "source": [
    "image, _, name = batch"
   ]
  },
  {
   "cell_type": "code",
   "execution_count": 21,
   "metadata": {},
   "outputs": [
    {
     "data": {
      "text/plain": [
       "torch.Size([1, 3, 512, 1024])"
      ]
     },
     "execution_count": 21,
     "metadata": {},
     "output_type": "execute_result"
    }
   ],
   "source": [
    "image.shape"
   ]
  },
  {
   "cell_type": "markdown",
   "metadata": {},
   "source": [
    "# get image sementic segmentation"
   ]
  },
  {
   "cell_type": "code",
   "execution_count": 22,
   "metadata": {
    "scrolled": true
   },
   "outputs": [
    {
     "name": "stderr",
     "output_type": "stream",
     "text": [
      "C:\\Users\\VIPLAB\\Anaconda2\\envs\\xiao\\lib\\site-packages\\ipykernel_launcher.py:1: UserWarning: volatile was removed and now has no effect. Use `with torch.no_grad():` instead.\n",
      "  \"\"\"Entry point for launching an IPython kernel.\n"
     ]
    }
   ],
   "source": [
    "img_var = Variable(image, volatile=True)\n",
    "output1, output2 = model(img_var.cuda(gpu0))"
   ]
  },
  {
   "cell_type": "code",
   "execution_count": 148,
   "metadata": {},
   "outputs": [
    {
     "name": "stderr",
     "output_type": "stream",
     "text": [
      "C:\\Users\\VIPLAB\\Anaconda2\\envs\\xiao\\lib\\site-packages\\torch\\nn\\functional.py:1749: UserWarning: Default upsampling behavior when mode=bilinear is changed to align_corners=False since 0.4.0. Please specify align_corners=True if the old behavior is desired. See the documentation of nn.Upsample for details.\n",
      "  \"See the documentation of nn.Upsample for details.\".format(mode))\n"
     ]
    },
    {
     "data": {
      "text/plain": [
       "torch.Size([1, 19, 128, 256])"
      ]
     },
     "execution_count": 148,
     "metadata": {},
     "output_type": "execute_result"
    }
   ],
   "source": [
    "interp_down(output2).shape"
   ]
  },
  {
   "cell_type": "code",
   "execution_count": 112,
   "metadata": {},
   "outputs": [
    {
     "data": {
      "text/plain": [
       "(720, 1280, 19)"
      ]
     },
     "execution_count": 112,
     "metadata": {},
     "output_type": "execute_result"
    }
   ],
   "source": [
    "output = interp(output2).cpu().data[0].numpy()\n",
    "\n",
    "output = output.transpose(1,2,0)\n",
    "output.shape"
   ]
  },
  {
   "cell_type": "code",
   "execution_count": 117,
   "metadata": {},
   "outputs": [
    {
     "data": {
      "text/plain": [
       "torch.Size([1, 19, 65, 129])"
      ]
     },
     "execution_count": 117,
     "metadata": {},
     "output_type": "execute_result"
    }
   ],
   "source": [
    "output2.shape"
   ]
  },
  {
   "cell_type": "code",
   "execution_count": 147,
   "metadata": {},
   "outputs": [
    {
     "name": "stderr",
     "output_type": "stream",
     "text": [
      "C:\\Users\\VIPLAB\\Anaconda2\\envs\\xiao\\lib\\site-packages\\torch\\nn\\functional.py:1749: UserWarning: Default upsampling behavior when mode=bilinear is changed to align_corners=False since 0.4.0. Please specify align_corners=True if the old behavior is desired. See the documentation of nn.Upsample for details.\n",
      "  \"See the documentation of nn.Upsample for details.\".format(mode))\n"
     ]
    },
    {
     "data": {
      "text/plain": [
       "tensor([[[[-9.7652e-01, -8.6285e-01, -6.3898e-01,  ..., -1.5824e+00,\n",
       "           -1.8475e+00, -1.9821e+00],\n",
       "          [-9.9878e-01, -9.1776e-01, -7.5820e-01,  ..., -1.5246e+00,\n",
       "           -1.7893e+00, -1.9237e+00],\n",
       "          [-1.0420e+00, -1.0243e+00, -9.8950e-01,  ..., -1.4124e+00,\n",
       "           -1.6765e+00, -1.8105e+00],\n",
       "          ...,\n",
       "          [ 5.4960e+00,  5.4606e+00,  5.3909e+00,  ...,  8.1992e+00,\n",
       "            8.2569e+00,  8.2861e+00],\n",
       "          [ 5.3831e+00,  5.3628e+00,  5.3230e+00,  ...,  8.5191e+00,\n",
       "            8.7008e+00,  8.7931e+00],\n",
       "          [ 5.3249e+00,  5.3125e+00,  5.2880e+00,  ...,  8.6840e+00,\n",
       "            8.9297e+00,  9.0544e+00]],\n",
       "\n",
       "         [[-3.3250e+00, -3.4798e+00, -3.7848e+00,  ..., -3.1842e+00,\n",
       "           -3.0699e+00, -3.0118e+00],\n",
       "          [-3.5730e+00, -3.6955e+00, -3.9368e+00,  ..., -3.1478e+00,\n",
       "           -3.0093e+00, -2.9390e+00],\n",
       "          [-4.0542e+00, -4.1140e+00, -4.2317e+00,  ..., -3.0771e+00,\n",
       "           -2.8917e+00, -2.7976e+00],\n",
       "          ...,\n",
       "          [ 2.3747e+00,  2.5639e+00,  2.9365e+00,  ...,  5.4246e+00,\n",
       "            5.4798e+00,  5.5078e+00],\n",
       "          [ 3.4086e+00,  3.4355e+00,  3.4885e+00,  ...,  5.2020e+00,\n",
       "            5.4347e+00,  5.5529e+00],\n",
       "          [ 3.9415e+00,  3.8847e+00,  3.7729e+00,  ...,  5.0873e+00,\n",
       "            5.4115e+00,  5.5761e+00]],\n",
       "\n",
       "         [[ 5.0872e+00,  4.9234e+00,  4.6008e+00,  ...,  9.5420e+00,\n",
       "            9.6531e+00,  9.7095e+00],\n",
       "          [ 5.1591e+00,  4.9766e+00,  4.6171e+00,  ...,  9.8716e+00,\n",
       "            9.9465e+00,  9.9846e+00],\n",
       "          [ 5.2987e+00,  5.0798e+00,  4.6487e+00,  ...,  1.0511e+01,\n",
       "            1.0516e+01,  1.0518e+01],\n",
       "          ...,\n",
       "          [ 2.8670e+00,  2.8123e+00,  2.7047e+00,  ...,  8.0411e-01,\n",
       "            4.0724e-01,  2.0573e-01],\n",
       "          [ 2.3055e+00,  2.1891e+00,  1.9597e+00,  ...,  5.2365e-01,\n",
       "            6.9710e-02, -1.6078e-01],\n",
       "          [ 2.0161e+00,  1.8678e+00,  1.5758e+00,  ...,  3.7910e-01,\n",
       "           -1.0425e-01, -3.4967e-01]],\n",
       "\n",
       "         ...,\n",
       "\n",
       "         [[-2.1860e+00, -2.1308e+00, -2.0221e+00,  ..., -1.2379e+00,\n",
       "           -1.1555e+00, -1.1137e+00],\n",
       "          [-2.2376e+00, -2.1870e+00, -2.0874e+00,  ..., -1.1426e+00,\n",
       "           -1.0879e+00, -1.0600e+00],\n",
       "          [-2.3375e+00, -2.2959e+00, -2.2140e+00,  ..., -9.5777e-01,\n",
       "           -9.5658e-01, -9.5597e-01],\n",
       "          ...,\n",
       "          [-4.0224e+00, -4.0785e+00, -4.1888e+00,  ..., -2.4361e+00,\n",
       "           -2.4924e+00, -2.5210e+00],\n",
       "          [-3.9958e+00, -4.0592e+00, -4.1841e+00,  ..., -2.4421e+00,\n",
       "           -2.4847e+00, -2.5064e+00],\n",
       "          [-3.9820e+00, -4.0493e+00, -4.1817e+00,  ..., -2.4451e+00,\n",
       "           -2.4808e+00, -2.4989e+00]],\n",
       "\n",
       "         [[-2.4564e+00, -2.4718e+00, -2.5021e+00,  ..., -2.1656e+00,\n",
       "           -2.2517e+00, -2.2954e+00],\n",
       "          [-2.5250e+00, -2.5184e+00, -2.5054e+00,  ..., -2.1977e+00,\n",
       "           -2.2958e+00, -2.3456e+00],\n",
       "          [-2.6582e+00, -2.6088e+00, -2.5117e+00,  ..., -2.2601e+00,\n",
       "           -2.3813e+00, -2.4429e+00],\n",
       "          ...,\n",
       "          [-3.0810e+00, -3.2740e+00, -3.6540e+00,  ..., -1.5316e+00,\n",
       "           -1.5348e+00, -1.5364e+00],\n",
       "          [-3.0557e+00, -3.1799e+00, -3.4245e+00,  ..., -1.3655e+00,\n",
       "           -1.4982e+00, -1.5656e+00],\n",
       "          [-3.0426e+00, -3.1314e+00, -3.3062e+00,  ..., -1.2798e+00,\n",
       "           -1.4793e+00, -1.5806e+00]],\n",
       "\n",
       "         [[-2.1710e+00, -2.2888e+00, -2.5207e+00,  ..., -2.4385e+00,\n",
       "           -2.5361e+00, -2.5856e+00],\n",
       "          [-2.2504e+00, -2.3505e+00, -2.5475e+00,  ..., -2.3886e+00,\n",
       "           -2.4992e+00, -2.5553e+00],\n",
       "          [-2.4045e+00, -2.4702e+00, -2.5994e+00,  ..., -2.2919e+00,\n",
       "           -2.4276e+00, -2.4966e+00],\n",
       "          ...,\n",
       "          [-3.3259e+00, -3.3933e+00, -3.5260e+00,  ..., -2.7844e+00,\n",
       "           -2.7723e+00, -2.7662e+00],\n",
       "          [-3.2305e+00, -3.2707e+00, -3.3498e+00,  ..., -2.5725e+00,\n",
       "           -2.5347e+00, -2.5155e+00],\n",
       "          [-3.1814e+00, -3.2075e+00, -3.2589e+00,  ..., -2.4633e+00,\n",
       "           -2.4123e+00, -2.3863e+00]]]], device='cuda:0')"
      ]
     },
     "execution_count": 147,
     "metadata": {},
     "output_type": "execute_result"
    }
   ],
   "source": [
    "interp_down(output2)"
   ]
  },
  {
   "cell_type": "code",
   "execution_count": null,
   "metadata": {},
   "outputs": [],
   "source": []
  },
  {
   "cell_type": "code",
   "execution_count": 118,
   "metadata": {},
   "outputs": [],
   "source": [
    "output = interp(output2)"
   ]
  },
  {
   "cell_type": "code",
   "execution_count": 119,
   "metadata": {},
   "outputs": [
    {
     "data": {
      "text/plain": [
       "torch.Size([1, 19, 720, 1280])"
      ]
     },
     "execution_count": 119,
     "metadata": {},
     "output_type": "execute_result"
    }
   ],
   "source": [
    "output.shape"
   ]
  },
  {
   "cell_type": "code",
   "execution_count": 120,
   "metadata": {},
   "outputs": [
    {
     "data": {
      "text/plain": [
       "torch.Tensor"
      ]
     },
     "execution_count": 120,
     "metadata": {},
     "output_type": "execute_result"
    }
   ],
   "source": [
    "type(output)"
   ]
  },
  {
   "cell_type": "code",
   "execution_count": 121,
   "metadata": {},
   "outputs": [],
   "source": [
    "output_ = output.permute(0, 2, 3, 1)"
   ]
  },
  {
   "cell_type": "code",
   "execution_count": 122,
   "metadata": {
    "scrolled": true
   },
   "outputs": [
    {
     "data": {
      "text/plain": [
       "tensor([[[[-9.7652e-01, -3.3250e+00,  5.0872e+00,  ..., -2.1860e+00,\n",
       "           -2.4564e+00, -2.1710e+00],\n",
       "          [-9.7652e-01, -3.3250e+00,  5.0872e+00,  ..., -2.1860e+00,\n",
       "           -2.4564e+00, -2.1710e+00],\n",
       "          [-9.7652e-01, -3.3250e+00,  5.0872e+00,  ..., -2.1860e+00,\n",
       "           -2.4564e+00, -2.1710e+00],\n",
       "          ...,\n",
       "          [-1.9821e+00, -3.0118e+00,  9.7095e+00,  ..., -1.1137e+00,\n",
       "           -2.2954e+00, -2.5856e+00],\n",
       "          [-1.9821e+00, -3.0118e+00,  9.7095e+00,  ..., -1.1137e+00,\n",
       "           -2.2954e+00, -2.5856e+00],\n",
       "          [-1.9821e+00, -3.0118e+00,  9.7095e+00,  ..., -1.1137e+00,\n",
       "           -2.2954e+00, -2.5856e+00]],\n",
       "\n",
       "         [[-9.7652e-01, -3.3250e+00,  5.0872e+00,  ..., -2.1860e+00,\n",
       "           -2.4564e+00, -2.1710e+00],\n",
       "          [-9.7652e-01, -3.3250e+00,  5.0872e+00,  ..., -2.1860e+00,\n",
       "           -2.4564e+00, -2.1710e+00],\n",
       "          [-9.7652e-01, -3.3250e+00,  5.0872e+00,  ..., -2.1860e+00,\n",
       "           -2.4564e+00, -2.1710e+00],\n",
       "          ...,\n",
       "          [-1.9821e+00, -3.0118e+00,  9.7095e+00,  ..., -1.1137e+00,\n",
       "           -2.2954e+00, -2.5856e+00],\n",
       "          [-1.9821e+00, -3.0118e+00,  9.7095e+00,  ..., -1.1137e+00,\n",
       "           -2.2954e+00, -2.5856e+00],\n",
       "          [-1.9821e+00, -3.0118e+00,  9.7095e+00,  ..., -1.1137e+00,\n",
       "           -2.2954e+00, -2.5856e+00]],\n",
       "\n",
       "         [[-9.7652e-01, -3.3250e+00,  5.0872e+00,  ..., -2.1860e+00,\n",
       "           -2.4564e+00, -2.1710e+00],\n",
       "          [-9.7652e-01, -3.3250e+00,  5.0872e+00,  ..., -2.1860e+00,\n",
       "           -2.4564e+00, -2.1710e+00],\n",
       "          [-9.7652e-01, -3.3250e+00,  5.0872e+00,  ..., -2.1860e+00,\n",
       "           -2.4564e+00, -2.1710e+00],\n",
       "          ...,\n",
       "          [-1.9821e+00, -3.0118e+00,  9.7095e+00,  ..., -1.1137e+00,\n",
       "           -2.2954e+00, -2.5856e+00],\n",
       "          [-1.9821e+00, -3.0118e+00,  9.7095e+00,  ..., -1.1137e+00,\n",
       "           -2.2954e+00, -2.5856e+00],\n",
       "          [-1.9821e+00, -3.0118e+00,  9.7095e+00,  ..., -1.1137e+00,\n",
       "           -2.2954e+00, -2.5856e+00]],\n",
       "\n",
       "         ...,\n",
       "\n",
       "         [[ 5.3249e+00,  3.9415e+00,  2.0161e+00,  ..., -3.9820e+00,\n",
       "           -3.0426e+00, -3.1814e+00],\n",
       "          [ 5.3249e+00,  3.9415e+00,  2.0161e+00,  ..., -3.9820e+00,\n",
       "           -3.0426e+00, -3.1814e+00],\n",
       "          [ 5.3249e+00,  3.9415e+00,  2.0161e+00,  ..., -3.9820e+00,\n",
       "           -3.0426e+00, -3.1814e+00],\n",
       "          ...,\n",
       "          [ 9.0544e+00,  5.5761e+00, -3.4967e-01,  ..., -2.4989e+00,\n",
       "           -1.5806e+00, -2.3863e+00],\n",
       "          [ 9.0544e+00,  5.5761e+00, -3.4967e-01,  ..., -2.4989e+00,\n",
       "           -1.5806e+00, -2.3863e+00],\n",
       "          [ 9.0544e+00,  5.5761e+00, -3.4967e-01,  ..., -2.4989e+00,\n",
       "           -1.5806e+00, -2.3863e+00]],\n",
       "\n",
       "         [[ 5.3249e+00,  3.9415e+00,  2.0161e+00,  ..., -3.9820e+00,\n",
       "           -3.0426e+00, -3.1814e+00],\n",
       "          [ 5.3249e+00,  3.9415e+00,  2.0161e+00,  ..., -3.9820e+00,\n",
       "           -3.0426e+00, -3.1814e+00],\n",
       "          [ 5.3249e+00,  3.9415e+00,  2.0161e+00,  ..., -3.9820e+00,\n",
       "           -3.0426e+00, -3.1814e+00],\n",
       "          ...,\n",
       "          [ 9.0544e+00,  5.5761e+00, -3.4967e-01,  ..., -2.4989e+00,\n",
       "           -1.5806e+00, -2.3863e+00],\n",
       "          [ 9.0544e+00,  5.5761e+00, -3.4967e-01,  ..., -2.4989e+00,\n",
       "           -1.5806e+00, -2.3863e+00],\n",
       "          [ 9.0544e+00,  5.5761e+00, -3.4967e-01,  ..., -2.4989e+00,\n",
       "           -1.5806e+00, -2.3863e+00]],\n",
       "\n",
       "         [[ 5.3249e+00,  3.9415e+00,  2.0161e+00,  ..., -3.9820e+00,\n",
       "           -3.0426e+00, -3.1814e+00],\n",
       "          [ 5.3249e+00,  3.9415e+00,  2.0161e+00,  ..., -3.9820e+00,\n",
       "           -3.0426e+00, -3.1814e+00],\n",
       "          [ 5.3249e+00,  3.9415e+00,  2.0161e+00,  ..., -3.9820e+00,\n",
       "           -3.0426e+00, -3.1814e+00],\n",
       "          ...,\n",
       "          [ 9.0544e+00,  5.5761e+00, -3.4967e-01,  ..., -2.4989e+00,\n",
       "           -1.5806e+00, -2.3863e+00],\n",
       "          [ 9.0544e+00,  5.5761e+00, -3.4967e-01,  ..., -2.4989e+00,\n",
       "           -1.5806e+00, -2.3863e+00],\n",
       "          [ 9.0544e+00,  5.5761e+00, -3.4967e-01,  ..., -2.4989e+00,\n",
       "           -1.5806e+00, -2.3863e+00]]]], device='cuda:0')"
      ]
     },
     "execution_count": 122,
     "metadata": {},
     "output_type": "execute_result"
    }
   ],
   "source": [
    "output_"
   ]
  },
  {
   "cell_type": "code",
   "execution_count": 125,
   "metadata": {},
   "outputs": [
    {
     "data": {
      "text/plain": [
       "torch.Size([1, 720, 1280, 19])"
      ]
     },
     "execution_count": 125,
     "metadata": {},
     "output_type": "execute_result"
    }
   ],
   "source": [
    "output_.shape"
   ]
  },
  {
   "cell_type": "code",
   "execution_count": 131,
   "metadata": {},
   "outputs": [],
   "source": [
    "output_argmax_idx = torch.argmax(output_, -1)"
   ]
  },
  {
   "cell_type": "code",
   "execution_count": 132,
   "metadata": {},
   "outputs": [
    {
     "data": {
      "text/plain": [
       "tensor([[[  8,   8,   8,  ...,   2,   2,   2],\n",
       "         [  8,   8,   8,  ...,   2,   2,   2],\n",
       "         [  8,   8,   8,  ...,   2,   2,   2],\n",
       "         ...,\n",
       "         [  9,   9,   9,  ...,   0,   0,   0],\n",
       "         [  9,   9,   9,  ...,   0,   0,   0],\n",
       "         [  9,   9,   9,  ...,   0,   0,   0]]], device='cuda:0')"
      ]
     },
     "execution_count": 132,
     "metadata": {},
     "output_type": "execute_result"
    }
   ],
   "source": [
    "output_argmax_idx"
   ]
  },
  {
   "cell_type": "code",
   "execution_count": 180,
   "metadata": {},
   "outputs": [
    {
     "data": {
      "text/plain": [
       "torch.Size([720, 1280])"
      ]
     },
     "execution_count": 180,
     "metadata": {},
     "output_type": "execute_result"
    }
   ],
   "source": [
    "output_argmax_idx.squeeze().shape"
   ]
  },
  {
   "cell_type": "code",
   "execution_count": 181,
   "metadata": {},
   "outputs": [
    {
     "data": {
      "text/plain": [
       "torch.Size([720, 1280])"
      ]
     },
     "execution_count": 181,
     "metadata": {},
     "output_type": "execute_result"
    }
   ],
   "source": [
    "label.squeeze().shape"
   ]
  },
  {
   "cell_type": "code",
   "execution_count": 183,
   "metadata": {},
   "outputs": [],
   "source": [
    "a = output_argmax_idx * label"
   ]
  },
  {
   "cell_type": "code",
   "execution_count": 184,
   "metadata": {},
   "outputs": [
    {
     "data": {
      "text/plain": [
       "torch.Size([1, 720, 1280])"
      ]
     },
     "execution_count": 184,
     "metadata": {},
     "output_type": "execute_result"
    }
   ],
   "source": [
    "a.shape"
   ]
  },
  {
   "cell_type": "code",
   "execution_count": 179,
   "metadata": {},
   "outputs": [
    {
     "ename": "RuntimeError",
     "evalue": "size mismatch, m1: [720 x 1280], m2: [720 x 1280] at c:\\programdata\\miniconda3\\conda-bld\\pytorch_1524543037166\\work\\aten\\src\\thc\\generic/THCTensorMathBlas.cu:249",
     "output_type": "error",
     "traceback": [
      "\u001b[1;31m---------------------------------------------------------------------------\u001b[0m",
      "\u001b[1;31mRuntimeError\u001b[0m                              Traceback (most recent call last)",
      "\u001b[1;32m<ipython-input-179-210aeac5c130>\u001b[0m in \u001b[0;36m<module>\u001b[1;34m()\u001b[0m\n\u001b[1;32m----> 1\u001b[1;33m \u001b[0mtorch\u001b[0m\u001b[1;33m.\u001b[0m\u001b[0mmm\u001b[0m\u001b[1;33m(\u001b[0m\u001b[0moutput_argmax_idx\u001b[0m\u001b[1;33m.\u001b[0m\u001b[0msqueeze\u001b[0m\u001b[1;33m(\u001b[0m\u001b[1;33m)\u001b[0m\u001b[1;33m.\u001b[0m\u001b[0mfloat\u001b[0m\u001b[1;33m(\u001b[0m\u001b[1;33m)\u001b[0m\u001b[1;33m,\u001b[0m \u001b[0mlabel\u001b[0m\u001b[1;33m.\u001b[0m\u001b[0msqueeze\u001b[0m\u001b[1;33m(\u001b[0m\u001b[1;33m)\u001b[0m\u001b[1;33m.\u001b[0m\u001b[0mfloat\u001b[0m\u001b[1;33m(\u001b[0m\u001b[1;33m)\u001b[0m\u001b[1;33m)\u001b[0m\u001b[1;33m\u001b[0m\u001b[0m\n\u001b[0m",
      "\u001b[1;31mRuntimeError\u001b[0m: size mismatch, m1: [720 x 1280], m2: [720 x 1280] at c:\\programdata\\miniconda3\\conda-bld\\pytorch_1524543037166\\work\\aten\\src\\thc\\generic/THCTensorMathBlas.cu:249"
     ]
    }
   ],
   "source": [
    "torch.mm(output_argmax_idx.squeeze().float(), label.squeeze().float())"
   ]
  },
  {
   "cell_type": "code",
   "execution_count": 167,
   "metadata": {},
   "outputs": [
    {
     "ename": "RuntimeError",
     "evalue": "baddbmm for CUDA tensors only supports floating-point types. Try converting the tensors with .float() at c:\\programdata\\miniconda3\\conda-bld\\pytorch_1524543037166\\work\\aten\\src\\thc\\generic/THCTensorMathBlas.cu:725",
     "output_type": "error",
     "traceback": [
      "\u001b[1;31m---------------------------------------------------------------------------\u001b[0m",
      "\u001b[1;31mRuntimeError\u001b[0m                              Traceback (most recent call last)",
      "\u001b[1;32m<ipython-input-167-1cac9b8f72e0>\u001b[0m in \u001b[0;36m<module>\u001b[1;34m()\u001b[0m\n\u001b[1;32m----> 1\u001b[1;33m \u001b[0moutput_argmax_idx\u001b[0m \u001b[1;33m@\u001b[0m \u001b[0mlabel\u001b[0m\u001b[1;33m\u001b[0m\u001b[0m\n\u001b[0m",
      "\u001b[1;31mRuntimeError\u001b[0m: baddbmm for CUDA tensors only supports floating-point types. Try converting the tensors with .float() at c:\\programdata\\miniconda3\\conda-bld\\pytorch_1524543037166\\work\\aten\\src\\thc\\generic/THCTensorMathBlas.cu:725"
     ]
    }
   ],
   "source": [
    "output_argmax_idx @ label"
   ]
  },
  {
   "cell_type": "code",
   "execution_count": 89,
   "metadata": {},
   "outputs": [],
   "source": [
    "output = output_argmax.data[0].cpu().numpy()"
   ]
  },
  {
   "cell_type": "code",
   "execution_count": 90,
   "metadata": {},
   "outputs": [
    {
     "data": {
      "text/plain": [
       "(720, 1280)"
      ]
     },
     "execution_count": 90,
     "metadata": {},
     "output_type": "execute_result"
    }
   ],
   "source": [
    "output.shape"
   ]
  },
  {
   "cell_type": "code",
   "execution_count": 91,
   "metadata": {},
   "outputs": [],
   "source": [
    "\n",
    "def colorize_mask(mask):\n",
    "    # mask: numpy array of the mask\n",
    "    new_mask = Image.fromarray(mask).convert('P')\n",
    "    new_mask.putpalette(palette)\n",
    "\n",
    "    return new_mask\n",
    "\n",
    "\n",
    "get_colorful_image = colorize_mask(output)\n",
    "get_image = Image.fromarray(output)"
   ]
  },
  {
   "cell_type": "code",
   "execution_count": 92,
   "metadata": {},
   "outputs": [
    {
     "data": {
      "image/png": "[encoded data removed]",
      "text/plain": [
       "<PIL.Image.Image image mode=P size=1280x720 at 0x2A018909FD0>"
      ]
     },
     "execution_count": 92,
     "metadata": {},
     "output_type": "execute_result"
    }
   ],
   "source": [
    "get_colorful_image"
   ]
  },
  {
   "cell_type": "code",
   "execution_count": 113,
   "metadata": {},
   "outputs": [
    {
     "data": {
      "text/plain": [
       "(720, 1280)"
      ]
     },
     "execution_count": 113,
     "metadata": {},
     "output_type": "execute_result"
    }
   ],
   "source": [
    "output = np.asarray(np.argmax(output, axis=2), dtype=np.uint8)\n",
    "output.shape"
   ]
  },
  {
   "cell_type": "code",
   "execution_count": 114,
   "metadata": {},
   "outputs": [
    {
     "data": {
      "text/plain": [
       "array([[8, 8, 8, ..., 2, 2, 2],\n",
       "       [8, 8, 8, ..., 2, 2, 2],\n",
       "       [8, 8, 8, ..., 2, 2, 2],\n",
       "       ...,\n",
       "       [9, 9, 9, ..., 0, 0, 0],\n",
       "       [9, 9, 9, ..., 0, 0, 0],\n",
       "       [9, 9, 9, ..., 0, 0, 0]], dtype=uint8)"
      ]
     },
     "execution_count": 114,
     "metadata": {},
     "output_type": "execute_result"
    }
   ],
   "source": [
    "output"
   ]
  },
  {
   "cell_type": "code",
   "execution_count": 115,
   "metadata": {},
   "outputs": [],
   "source": [
    "get_colorful_image = colorize_mask(output)\n",
    "get_image = Image.fromarray(output)"
   ]
  },
  {
   "cell_type": "code",
   "execution_count": 116,
   "metadata": {},
   "outputs": [
    {
     "data": {
      "image/png": "[encoded data removed]",
      "text/plain": [
       "<PIL.Image.Image image mode=P size=1280x720 at 0x2A018909940>"
      ]
     },
     "execution_count": 116,
     "metadata": {},
     "output_type": "execute_result"
    }
   ],
   "source": [
    "get_colorful_image"
   ]
  },
  {
   "cell_type": "code",
   "execution_count": null,
   "metadata": {},
   "outputs": [],
   "source": [
    "del img_var, output1, output2"
   ]
  },
  {
   "cell_type": "markdown",
   "metadata": {},
   "source": [
    "# discriminator check"
   ]
  },
  {
   "cell_type": "code",
   "execution_count": null,
   "metadata": {},
   "outputs": [],
   "source": [
    "from model.discriminator import FCDiscriminator"
   ]
  },
  {
   "cell_type": "code",
   "execution_count": null,
   "metadata": {},
   "outputs": [],
   "source": [
    "# init D\n",
    "model_D1 = FCDiscriminator(num_classes=args.num_classes)\n",
    "model_D2 = FCDiscriminator(num_classes=args.num_classes)\n",
    "# model_D1.train()\n",
    "model_D1.cuda(args.gpu)\n",
    "# model_D2.train()\n",
    "model_D2.cuda(args.gpu)"
   ]
  },
  {
   "cell_type": "code",
   "execution_count": null,
   "metadata": {},
   "outputs": [],
   "source": [
    "pred_target1, pred_target2 = model(Variable(image, volatile=True).cuda(gpu0))\n",
    "pred_target1 = interp_target(pred_target1)\n",
    "pred_target2 = interp_target(pred_target2)"
   ]
  },
  {
   "cell_type": "code",
   "execution_count": null,
   "metadata": {},
   "outputs": [],
   "source": [
    "pred_target1.shape"
   ]
  },
  {
   "cell_type": "code",
   "execution_count": null,
   "metadata": {},
   "outputs": [],
   "source": [
    "F.softmax(pred_target1).shape"
   ]
  },
  {
   "cell_type": "code",
   "execution_count": 41,
   "metadata": {},
   "outputs": [
    {
     "ename": "TypeError",
     "evalue": "transpose() takes 2 positional arguments but 3 were given",
     "output_type": "error",
     "traceback": [
      "\u001b[1;31m---------------------------------------------------------------------------\u001b[0m",
      "\u001b[1;31mTypeError\u001b[0m                                 Traceback (most recent call last)",
      "\u001b[1;32m<ipython-input-41-a91483f31c4c>\u001b[0m in \u001b[0;36m<module>\u001b[1;34m()\u001b[0m\n\u001b[1;32m----> 1\u001b[1;33m \u001b[0moutput\u001b[0m \u001b[1;33m=\u001b[0m \u001b[0moutput\u001b[0m\u001b[1;33m.\u001b[0m\u001b[0mtranspose\u001b[0m\u001b[1;33m(\u001b[0m\u001b[1;36m1\u001b[0m\u001b[1;33m,\u001b[0m\u001b[1;36m2\u001b[0m\u001b[1;33m,\u001b[0m\u001b[1;36m0\u001b[0m\u001b[1;33m)\u001b[0m\u001b[1;33m\u001b[0m\u001b[0m\n\u001b[0m\u001b[0;32m      2\u001b[0m \u001b[0moutput\u001b[0m \u001b[1;33m=\u001b[0m \u001b[0mnp\u001b[0m\u001b[1;33m.\u001b[0m\u001b[0masarray\u001b[0m\u001b[1;33m(\u001b[0m\u001b[0mnp\u001b[0m\u001b[1;33m.\u001b[0m\u001b[0margmax\u001b[0m\u001b[1;33m(\u001b[0m\u001b[0moutput\u001b[0m\u001b[1;33m,\u001b[0m \u001b[0maxis\u001b[0m\u001b[1;33m=\u001b[0m\u001b[1;36m2\u001b[0m\u001b[1;33m)\u001b[0m\u001b[1;33m,\u001b[0m \u001b[0mdtype\u001b[0m\u001b[1;33m=\u001b[0m\u001b[0mnp\u001b[0m\u001b[1;33m.\u001b[0m\u001b[0muint8\u001b[0m\u001b[1;33m)\u001b[0m\u001b[1;33m\u001b[0m\u001b[0m\n",
      "\u001b[1;31mTypeError\u001b[0m: transpose() takes 2 positional arguments but 3 were given"
     ]
    }
   ],
   "source": [
    "output = output.transpose(1,2,0)\n",
    "output = np.asarray(np.argmax(output, axis=2), dtype=np.uint8)"
   ]
  },
  {
   "cell_type": "code",
   "execution_count": null,
   "metadata": {},
   "outputs": [],
   "source": [
    "output_d = model_D1(F.softmax(pred_target1))"
   ]
  },
  {
   "cell_type": "code",
   "execution_count": null,
   "metadata": {},
   "outputs": [],
   "source": [
    "output_d.shape"
   ]
  },
  {
   "cell_type": "code",
   "execution_count": null,
   "metadata": {},
   "outputs": [],
   "source": [
    "del pred_target1, pred_target2, output_d"
   ]
  },
  {
   "cell_type": "markdown",
   "metadata": {},
   "source": [
    "# test my discriminator"
   ]
  },
  {
   "cell_type": "code",
   "execution_count": null,
   "metadata": {},
   "outputs": [],
   "source": [
    "from model.xiao_discriminator import XiaoDiscriminator"
   ]
  },
  {
   "cell_type": "code",
   "execution_count": null,
   "metadata": {},
   "outputs": [],
   "source": [
    "from importlib import reload\n",
    "reload(XiaoDiscriminator)\n"
   ]
  },
  {
   "cell_type": "code",
   "execution_count": null,
   "metadata": {},
   "outputs": [],
   "source": [
    "# init D\n",
    "model_D1 = XiaoDiscriminator(num_classes=args.num_classes)\n",
    "model_D1.cuda(args.gpu)"
   ]
  },
  {
   "cell_type": "code",
   "execution_count": null,
   "metadata": {},
   "outputs": [],
   "source": [
    "pred_target1, pred_target2 = model(Variable(image, volatile=True).cuda(gpu0))"
   ]
  },
  {
   "cell_type": "code",
   "execution_count": null,
   "metadata": {},
   "outputs": [],
   "source": [
    "pred_target1 = interp_target(pred_target1)\n",
    "pred_target2 = interp_target(pred_target2)"
   ]
  },
  {
   "cell_type": "code",
   "execution_count": null,
   "metadata": {},
   "outputs": [],
   "source": [
    "output_d = model_D1(F.softmax(pred_target1))"
   ]
  },
  {
   "cell_type": "code",
   "execution_count": null,
   "metadata": {},
   "outputs": [],
   "source": [
    "output_d.shape"
   ]
  },
  {
   "cell_type": "code",
   "execution_count": null,
   "metadata": {},
   "outputs": [],
   "source": [
    "del pred_target1, pred_target2, output_d"
   ]
  },
  {
   "cell_type": "code",
   "execution_count": null,
   "metadata": {},
   "outputs": [],
   "source": []
  }
 ],
 "metadata": {
  "kernelspec": {
   "display_name": "Python 3",
   "language": "python",
   "name": "python3"
  },
  "language_info": {
   "codemirror_mode": {
    "name": "ipython",
    "version": 3
   },
   "file_extension": ".py",
   "mimetype": "text/x-python",
   "name": "python",
   "nbconvert_exporter": "python",
   "pygments_lexer": "ipython3",
   "version": "3.6.5"
  }
 },
 "nbformat": 4,
 "nbformat_minor": 2
}
