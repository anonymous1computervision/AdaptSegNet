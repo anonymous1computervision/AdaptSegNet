{
 "cells": [
  {
   "cell_type": "code",
   "execution_count": 1,
   "metadata": {},
   "outputs": [],
   "source": [
    "import numpy as np\n",
    "import sys\n",
    "\n",
    "import torch\n",
    "from torch.autograd import Variable\n",
    "import torchvision.models as models\n",
    "import torch.nn.functional as F\n",
    "from torch.utils import data, model_zoo\n",
    "from model.deeplab_multi import Res_Deeplab\n",
    "from dataset.cityscapes_dataset import cityscapesDataSet\n",
    "from collections import OrderedDict\n",
    "import os\n",
    "from PIL import Image\n",
    "\n",
    "import matplotlib.pyplot as plt\n",
    "import torch.nn as nn"
   ]
  },
  {
   "cell_type": "code",
   "execution_count": 1,
   "metadata": {},
   "outputs": [],
   "source": [
    "import os\n"
   ]
  },
  {
   "cell_type": "markdown",
   "metadata": {},
   "source": [
    "# config"
   ]
  },
  {
   "cell_type": "code",
   "execution_count": 2,
   "metadata": {},
   "outputs": [],
   "source": [
    "# DATA_DIRECTORY = './data/Cityscapes/data'\n",
    "# DATA_LIST_PATH = './dataset/cityscapes_list/val.txt'\n",
    "# SAVE_PATH = './result/cityscapes'\n",
    "DATA_DIRECTORY = './data/demo_image'\n",
    "SAVE_PATH = './demo_image_result'\n",
    "DATA_LIST_PATH = [\n",
    "    \"frankfurt_000000_001751_leftImg8bit.png\",\n",
    "    \"munster_000000_000019_leftImg8bit.png\",\n",
    "    \"munster_000003_000019_leftImg8bit.png\",\n",
    "    \"munster_000044_000019_leftImg8bit.png\",\n",
    "    \"munster_000052_000019_leftImg8bit.png\"\n",
    "]\n",
    "# DATA_LIST_PATH = './dataset/demo_image/list.txt'\n",
    "\n",
    "IGNORE_LABEL = 255\n",
    "NUM_CLASSES = 19\n",
    "RESTORE_FROM = './snapshots/GTA2Cityscapes_multi/GTA5_30000.pth'\n",
    "SET = 'val'\n"
   ]
  },
  {
   "cell_type": "code",
   "execution_count": null,
   "metadata": {},
   "outputs": [],
   "source": [
    "palette = [128, 64, 128, 244, 35, 232, 70, 70, 70, 102, 102, 156, 190, 153, 153, 153, 153, 153, 250, 170, 30,\n",
    "           220, 220, 0, 107, 142, 35, 152, 251, 152, 70, 130, 180, 220, 20, 60, 255, 0, 0, 0, 0, 142, 0, 0, 70,\n",
    "           0, 60, 100, 0, 80, 100, 0, 0, 230, 119, 11, 32]\n",
    "zero_pad = 256 * 3 - len(palette)\n",
    "for i in range(zero_pad):\n",
    "    palette.append(0)\n",
    "\n",
    "\n",
    "def colorize_mask(mask):\n",
    "    # mask: numpy array of the mask\n",
    "    new_mask = Image.fromarray(mask.astype(np.uint8)).convert('P')\n",
    "    new_mask.putpalette(palette)\n",
    "\n",
    "    return new_mask"
   ]
  },
  {
   "cell_type": "code",
   "execution_count": null,
   "metadata": {},
   "outputs": [],
   "source": [
    "model = Res_Deeplab(num_classes=19)"
   ]
  },
  {
   "cell_type": "code",
   "execution_count": null,
   "metadata": {},
   "outputs": [],
   "source": [
    "saved_state_dict = torch.load(restore_from)\n",
    "model.load_state_dict(saved_state_dict)\n",
    "model.eval()\n",
    "model.cuda(gpu0)"
   ]
  },
  {
   "cell_type": "code",
   "execution_count": null,
   "metadata": {},
   "outputs": [],
   "source": [
    "interp = nn.Upsample(size=(1024, 2048), mode='bilinear')"
   ]
  },
  {
   "cell_type": "code",
   "execution_count": null,
   "metadata": {},
   "outputs": [],
   "source": [
    "testloader = data.DataLoader(cityscapesDataSet(DATA_DIRECTORY, DATA_LIST_PATH, crop_size=(1024, 512), mean=IMG_MEAN, scale=False, mirror=False, set=SET),\n",
    "                                    batch_size=2, shuffle=False, pin_memory=True)"
   ]
  },
  {
   "cell_type": "code",
   "execution_count": null,
   "metadata": {},
   "outputs": [],
   "source": [
    "testloader_iter = iter(testloader)"
   ]
  },
  {
   "cell_type": "code",
   "execution_count": null,
   "metadata": {},
   "outputs": [],
   "source": [
    "with torch.no_grad():\n",
    "    for index, batch in enumerate(testloader):\n",
    "        if index % 100 == 0:\n",
    "            print('%d processd' % index)\n",
    "        image, _, _, name = batch\n",
    "        # output1, output2 = model(Variable(image, volatile=True).cuda(gpu0))\n",
    "        output1, output2 = model(Variable(image, volatile=True).cuda(gpu0))\n",
    "\n",
    "        output = interp(output2).cpu().data[0].numpy()\n",
    "\n",
    "        output = output.transpose(1,2,0)\n",
    "        output = np.asarray(np.argmax(output, axis=2), dtype=np.uint8)\n",
    "\n",
    "        output_col = colorize_mask(output)\n",
    "        output = Image.fromarray(output)\n",
    "\n",
    "        name = name[0].split('/')[-1]\n",
    "        output.save('%s/%s' % (args.save, name))\n",
    "        output_col.save('%s/%s_color.png' % (args.save, name.split('.')[0]))\n",
    "print(\"finish!\")"
   ]
  }
 ],
 "metadata": {
  "kernelspec": {
   "display_name": "Python 3",
   "language": "python",
   "name": "python3"
  },
  "language_info": {
   "codemirror_mode": {
    "name": "ipython",
    "version": 3
   },
   "file_extension": ".py",
   "mimetype": "text/x-python",
   "name": "python",
   "nbconvert_exporter": "python",
   "pygments_lexer": "ipython3",
   "version": "3.6.6"
  }
 },
 "nbformat": 4,
 "nbformat_minor": 2
}
