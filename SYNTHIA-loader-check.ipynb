{
 "cells": [
  {
   "cell_type": "code",
   "execution_count": 1,
   "metadata": {},
   "outputs": [],
   "source": [
    "from PIL import Image\n",
    "img = Image.open(\"./data/SYNTHIA/labels/0000160.png\")"
   ]
  },
  {
   "cell_type": "code",
   "execution_count": 2,
   "metadata": {},
   "outputs": [
    {
     "data": {
      "image/png": "[encoded data removed]",
      "text/plain": [
       "<PIL.PngImagePlugin.PngImageFile image mode=RGB size=1280x760 at 0x2B085A46908>"
      ]
     },
     "execution_count": 2,
     "metadata": {},
     "output_type": "execute_result"
    }
   ],
   "source": [
    "img"
   ]
  },
  {
   "cell_type": "code",
   "execution_count": 3,
   "metadata": {},
   "outputs": [],
   "source": [
    "r = img.convert('LA')"
   ]
  },
  {
   "cell_type": "code",
   "execution_count": 4,
   "metadata": {},
   "outputs": [
    {
     "data": {
      "image/png": "[encoded data removed]",
      "text/plain": [
       "<PIL.Image.Image image mode=LA size=1280x760 at 0x14C25214B00>"
      ]
     },
     "execution_count": 4,
     "metadata": {},
     "output_type": "execute_result"
    }
   ],
   "source": [
    "r"
   ]
  },
  {
   "cell_type": "code",
   "execution_count": 23,
   "metadata": {},
   "outputs": [],
   "source": [
    "import numpy as np"
   ]
  },
  {
   "cell_type": "code",
   "execution_count": 6,
   "metadata": {},
   "outputs": [],
   "source": [
    "np_r = np.array(r)"
   ]
  },
  {
   "cell_type": "code",
   "execution_count": 7,
   "metadata": {},
   "outputs": [
    {
     "data": {
      "text/plain": [
       "array([  0, 255], dtype=uint8)"
      ]
     },
     "execution_count": 7,
     "metadata": {},
     "output_type": "execute_result"
    }
   ],
   "source": [
    "np_r[5][6]"
   ]
  },
  {
   "cell_type": "code",
   "execution_count": 8,
   "metadata": {},
   "outputs": [
    {
     "data": {
      "text/plain": [
       "array([[[  0, 255],\n",
       "        [  0, 255],\n",
       "        [  0, 255],\n",
       "        ...,\n",
       "        [  0, 255],\n",
       "        [  0, 255],\n",
       "        [  0, 255]],\n",
       "\n",
       "       [[  0, 255],\n",
       "        [  0, 255],\n",
       "        [  0, 255],\n",
       "        ...,\n",
       "        [  0, 255],\n",
       "        [  0, 255],\n",
       "        [  0, 255]],\n",
       "\n",
       "       [[  0, 255],\n",
       "        [  0, 255],\n",
       "        [  0, 255],\n",
       "        ...,\n",
       "        [  0, 255],\n",
       "        [  0, 255],\n",
       "        [  0, 255]],\n",
       "\n",
       "       ...,\n",
       "\n",
       "       [[  0, 255],\n",
       "        [  0, 255],\n",
       "        [  0, 255],\n",
       "        ...,\n",
       "        [  0, 255],\n",
       "        [  0, 255],\n",
       "        [  0, 255]],\n",
       "\n",
       "       [[  0, 255],\n",
       "        [  0, 255],\n",
       "        [  0, 255],\n",
       "        ...,\n",
       "        [  0, 255],\n",
       "        [  0, 255],\n",
       "        [  0, 255]],\n",
       "\n",
       "       [[  0, 255],\n",
       "        [  0, 255],\n",
       "        [  0, 255],\n",
       "        ...,\n",
       "        [  0, 255],\n",
       "        [  0, 255],\n",
       "        [  0, 255]]], dtype=uint8)"
      ]
     },
     "execution_count": 8,
     "metadata": {},
     "output_type": "execute_result"
    }
   ],
   "source": [
    "np_r"
   ]
  },
  {
   "cell_type": "code",
   "execution_count": 25,
   "metadata": {},
   "outputs": [],
   "source": [
    "import cv2"
   ]
  },
  {
   "cell_type": "code",
   "execution_count": 26,
   "metadata": {},
   "outputs": [],
   "source": [
    "label = cv2.imread(\"./data/SYNTHIA/labels/0000160.png\", cv2.IMREAD_UNCHANGED)"
   ]
  },
  {
   "cell_type": "code",
   "execution_count": 27,
   "metadata": {
    "scrolled": true
   },
   "outputs": [
    {
     "name": "stdout",
     "output_type": "stream",
     "text": [
      "[[[0 0 2]\n",
      "  [0 0 2]\n",
      "  [0 0 2]\n",
      "  ...\n",
      "  [0 0 1]\n",
      "  [0 0 1]\n",
      "  [0 0 1]]\n",
      "\n",
      " [[0 0 2]\n",
      "  [0 0 2]\n",
      "  [0 0 2]\n",
      "  ...\n",
      "  [0 0 1]\n",
      "  [0 0 1]\n",
      "  [0 0 1]]\n",
      "\n",
      " [[0 0 2]\n",
      "  [0 0 2]\n",
      "  [0 0 2]\n",
      "  ...\n",
      "  [0 0 1]\n",
      "  [0 0 1]\n",
      "  [0 0 1]]\n",
      "\n",
      " ...\n",
      "\n",
      " [[0 0 2]\n",
      "  [0 0 2]\n",
      "  [0 0 2]\n",
      "  ...\n",
      "  [0 0 3]\n",
      "  [0 0 3]\n",
      "  [0 0 3]]\n",
      "\n",
      " [[0 0 2]\n",
      "  [0 0 2]\n",
      "  [0 0 2]\n",
      "  ...\n",
      "  [0 0 3]\n",
      "  [0 0 3]\n",
      "  [0 0 3]]\n",
      "\n",
      " [[0 0 2]\n",
      "  [0 0 2]\n",
      "  [0 0 2]\n",
      "  ...\n",
      "  [0 0 3]\n",
      "  [0 0 3]\n",
      "  [0 0 3]]]\n"
     ]
    }
   ],
   "source": [
    "print(label)"
   ]
  },
  {
   "cell_type": "code",
   "execution_count": 28,
   "metadata": {},
   "outputs": [],
   "source": [
    "a = label[:,:,2]"
   ]
  },
  {
   "cell_type": "code",
   "execution_count": 29,
   "metadata": {},
   "outputs": [
    {
     "data": {
      "text/plain": [
       "22"
      ]
     },
     "execution_count": 29,
     "metadata": {},
     "output_type": "execute_result"
    }
   ],
   "source": [
    "np.amax(a)"
   ]
  },
  {
   "cell_type": "code",
   "execution_count": 1,
   "metadata": {},
   "outputs": [],
   "source": [
    "import scipy.io as sio "
   ]
  },
  {
   "cell_type": "code",
   "execution_count": 2,
   "metadata": {},
   "outputs": [],
   "source": [
    "import numpy as np"
   ]
  },
  {
   "cell_type": "code",
   "execution_count": 3,
   "metadata": {},
   "outputs": [],
   "source": [
    "import torch"
   ]
  },
  {
   "cell_type": "code",
   "execution_count": 4,
   "metadata": {},
   "outputs": [],
   "source": [
    "in_path_prior = \"prior_array.mat\""
   ]
  },
  {
   "cell_type": "code",
   "execution_count": 5,
   "metadata": {},
   "outputs": [],
   "source": [
    "sprior = sio.loadmat(in_path_prior)"
   ]
  },
  {
   "cell_type": "code",
   "execution_count": 6,
   "metadata": {},
   "outputs": [],
   "source": [
    "sprior = sprior[\"prior_array\"]"
   ]
  },
  {
   "cell_type": "code",
   "execution_count": 7,
   "metadata": {},
   "outputs": [
    {
     "data": {
      "text/plain": [
       "array([[[1.27151315e-10, 1.27153190e-10, 1.27155378e-10, ...,\n",
       "         1.37825801e-10, 1.37778825e-10, 1.37733209e-10],\n",
       "        [1.27200954e-10, 1.27203158e-10, 1.27205674e-10, ...,\n",
       "         1.37906320e-10, 1.37859703e-10, 1.37814434e-10],\n",
       "        [1.27251338e-10, 1.27253868e-10, 1.27256712e-10, ...,\n",
       "         1.37988141e-10, 1.37941879e-10, 1.37896954e-10],\n",
       "        ...,\n",
       "        [5.87645958e-08, 5.87623857e-08, 5.87601509e-08, ...,\n",
       "         1.88192372e-08, 1.88219053e-08, 1.88245367e-08],\n",
       "        [5.87596335e-08, 5.87574168e-08, 5.87551755e-08, ...,\n",
       "         1.87582074e-08, 1.87608367e-08, 1.87634297e-08],\n",
       "        [5.87547157e-08, 5.87524927e-08, 5.87502450e-08, ...,\n",
       "         1.86982676e-08, 1.87008584e-08, 1.87034132e-08]],\n",
       "\n",
       "       [[8.92157149e-11, 8.92005911e-11, 8.91848643e-11, ...,\n",
       "         7.86070989e-11, 7.86083794e-11, 7.86096181e-11],\n",
       "        [8.93857550e-11, 8.93701688e-11, 8.93539851e-11, ...,\n",
       "         7.88207016e-11, 7.88226675e-11, 7.88245803e-11],\n",
       "        [8.95592985e-11, 8.95432765e-11, 8.95266558e-11, ...,\n",
       "         7.90310207e-11, 7.90336179e-11, 7.90361574e-11],\n",
       "        ...,\n",
       "        [3.86330790e-08, 3.86472724e-08, 3.86616529e-08, ...,\n",
       "         4.76245691e-08, 4.76114505e-08, 4.75985055e-08],\n",
       "        [3.86703276e-08, 3.86845131e-08, 3.86988857e-08, ...,\n",
       "         4.76466695e-08, 4.76335297e-08, 4.76205637e-08],\n",
       "        [3.87071376e-08, 3.87213151e-08, 3.87356797e-08, ...,\n",
       "         4.76684709e-08, 4.76553096e-08, 4.76423224e-08]],\n",
       "\n",
       "       [[4.82201557e-08, 4.82076794e-08, 4.81950299e-08, ...,\n",
       "         5.80168678e-08, 5.80275665e-08, 5.80381136e-08],\n",
       "        [4.82593452e-08, 4.82468741e-08, 4.82342300e-08, ...,\n",
       "         5.80496234e-08, 5.80603096e-08, 5.80708445e-08],\n",
       "        [4.82990074e-08, 4.82865413e-08, 4.82739027e-08, ...,\n",
       "         5.80827873e-08, 5.80934611e-08, 5.81039840e-08],\n",
       "        ...,\n",
       "        [2.23576066e-09, 2.23366517e-09, 2.23154965e-09, ...,\n",
       "         2.00986556e-09, 2.01232509e-09, 2.01475769e-09],\n",
       "        [2.23061862e-09, 2.22852223e-09, 2.22640584e-09, ...,\n",
       "         2.00428479e-09, 2.00674181e-09, 2.00917198e-09],\n",
       "        [2.22554286e-09, 2.22344556e-09, 2.22132830e-09, ...,\n",
       "         1.99878807e-09, 2.00124259e-09, 2.00367032e-09]],\n",
       "\n",
       "       ...,\n",
       "\n",
       "       [[2.98696894e-08, 2.98614920e-08, 2.98531318e-08, ...,\n",
       "         1.01125105e-08, 1.01093276e-08, 1.01060966e-08],\n",
       "        [2.99151048e-08, 2.99069032e-08, 2.98985385e-08, ...,\n",
       "         1.01375464e-08, 1.01343191e-08, 1.01310444e-08],\n",
       "        [2.99610129e-08, 2.99528075e-08, 2.99444388e-08, ...,\n",
       "         1.01630235e-08, 1.01597510e-08, 1.01564317e-08],\n",
       "        ...,\n",
       "        [3.53754399e-11, 3.51886132e-11, 3.49999421e-11, ...,\n",
       "         0.00000000e+00, 0.00000000e+00, 0.00000000e+00],\n",
       "        [3.42504639e-11, 3.40640542e-11, 3.38758454e-11, ...,\n",
       "         0.00000000e+00, 0.00000000e+00, 0.00000000e+00],\n",
       "        [3.31378314e-11, 3.29519560e-11, 3.27643314e-11, ...,\n",
       "         0.00000000e+00, 0.00000000e+00, 0.00000000e+00]],\n",
       "\n",
       "       [[0.00000000e+00, 0.00000000e+00, 0.00000000e+00, ...,\n",
       "         5.79114670e-12, 5.65834705e-12, 5.52432723e-12],\n",
       "        [0.00000000e+00, 0.00000000e+00, 0.00000000e+00, ...,\n",
       "         6.43213855e-12, 6.28208949e-12, 6.13133416e-12],\n",
       "        [0.00000000e+00, 0.00000000e+00, 0.00000000e+00, ...,\n",
       "         7.09510529e-12, 6.92973940e-12, 6.76141071e-12],\n",
       "        ...,\n",
       "        [2.02257266e-08, 2.02389976e-08, 2.02521367e-08, ...,\n",
       "         1.00904624e-08, 1.01078195e-08, 1.01248147e-08],\n",
       "        [2.02279160e-08, 2.02410628e-08, 2.02540778e-08, ...,\n",
       "         1.00774387e-08, 1.00948482e-08, 1.01118947e-08],\n",
       "        [2.02303929e-08, 2.02434150e-08, 2.02563054e-08, ...,\n",
       "         1.00646475e-08, 1.00821093e-08, 1.00992070e-08]],\n",
       "\n",
       "       [[0.00000000e+00, 0.00000000e+00, 0.00000000e+00, ...,\n",
       "         0.00000000e+00, 0.00000000e+00, 0.00000000e+00],\n",
       "        [0.00000000e+00, 0.00000000e+00, 0.00000000e+00, ...,\n",
       "         0.00000000e+00, 0.00000000e+00, 0.00000000e+00],\n",
       "        [0.00000000e+00, 0.00000000e+00, 0.00000000e+00, ...,\n",
       "         0.00000000e+00, 0.00000000e+00, 0.00000000e+00],\n",
       "        ...,\n",
       "        [7.82427662e-09, 7.78612731e-09, 7.74752755e-09, ...,\n",
       "         0.00000000e+00, 0.00000000e+00, 0.00000000e+00],\n",
       "        [7.66792216e-09, 7.63019883e-09, 7.59203453e-09, ...,\n",
       "         0.00000000e+00, 0.00000000e+00, 0.00000000e+00],\n",
       "        [7.51345526e-09, 7.47615778e-09, 7.43842874e-09, ...,\n",
       "         0.00000000e+00, 0.00000000e+00, 0.00000000e+00]]])"
      ]
     },
     "execution_count": 7,
     "metadata": {},
     "output_type": "execute_result"
    }
   ],
   "source": [
    "sprior"
   ]
  },
  {
   "cell_type": "code",
   "execution_count": 9,
   "metadata": {},
   "outputs": [],
   "source": [
    "tensor_sprior = torch.tensor(sprior,\n",
    "                 dtype=torch.float64,\n",
    "                 device=torch.device('cuda:0'))"
   ]
  },
  {
   "cell_type": "code",
   "execution_count": 10,
   "metadata": {},
   "outputs": [
    {
     "data": {
      "text/plain": [
       "tensor([[[1.2715e-10, 1.2715e-10, 1.2716e-10,  ..., 1.3783e-10,\n",
       "          1.3778e-10, 1.3773e-10],\n",
       "         [1.2720e-10, 1.2720e-10, 1.2721e-10,  ..., 1.3791e-10,\n",
       "          1.3786e-10, 1.3781e-10],\n",
       "         [1.2725e-10, 1.2725e-10, 1.2726e-10,  ..., 1.3799e-10,\n",
       "          1.3794e-10, 1.3790e-10],\n",
       "         ...,\n",
       "         [5.8765e-08, 5.8762e-08, 5.8760e-08,  ..., 1.8819e-08,\n",
       "          1.8822e-08, 1.8825e-08],\n",
       "         [5.8760e-08, 5.8757e-08, 5.8755e-08,  ..., 1.8758e-08,\n",
       "          1.8761e-08, 1.8763e-08],\n",
       "         [5.8755e-08, 5.8752e-08, 5.8750e-08,  ..., 1.8698e-08,\n",
       "          1.8701e-08, 1.8703e-08]],\n",
       "\n",
       "        [[8.9216e-11, 8.9201e-11, 8.9185e-11,  ..., 7.8607e-11,\n",
       "          7.8608e-11, 7.8610e-11],\n",
       "         [8.9386e-11, 8.9370e-11, 8.9354e-11,  ..., 7.8821e-11,\n",
       "          7.8823e-11, 7.8825e-11],\n",
       "         [8.9559e-11, 8.9543e-11, 8.9527e-11,  ..., 7.9031e-11,\n",
       "          7.9034e-11, 7.9036e-11],\n",
       "         ...,\n",
       "         [3.8633e-08, 3.8647e-08, 3.8662e-08,  ..., 4.7625e-08,\n",
       "          4.7611e-08, 4.7599e-08],\n",
       "         [3.8670e-08, 3.8685e-08, 3.8699e-08,  ..., 4.7647e-08,\n",
       "          4.7634e-08, 4.7621e-08],\n",
       "         [3.8707e-08, 3.8721e-08, 3.8736e-08,  ..., 4.7668e-08,\n",
       "          4.7655e-08, 4.7642e-08]],\n",
       "\n",
       "        [[4.8220e-08, 4.8208e-08, 4.8195e-08,  ..., 5.8017e-08,\n",
       "          5.8028e-08, 5.8038e-08],\n",
       "         [4.8259e-08, 4.8247e-08, 4.8234e-08,  ..., 5.8050e-08,\n",
       "          5.8060e-08, 5.8071e-08],\n",
       "         [4.8299e-08, 4.8287e-08, 4.8274e-08,  ..., 5.8083e-08,\n",
       "          5.8093e-08, 5.8104e-08],\n",
       "         ...,\n",
       "         [2.2358e-09, 2.2337e-09, 2.2315e-09,  ..., 2.0099e-09,\n",
       "          2.0123e-09, 2.0148e-09],\n",
       "         [2.2306e-09, 2.2285e-09, 2.2264e-09,  ..., 2.0043e-09,\n",
       "          2.0067e-09, 2.0092e-09],\n",
       "         [2.2255e-09, 2.2234e-09, 2.2213e-09,  ..., 1.9988e-09,\n",
       "          2.0012e-09, 2.0037e-09]],\n",
       "\n",
       "        ...,\n",
       "\n",
       "        [[2.9870e-08, 2.9861e-08, 2.9853e-08,  ..., 1.0113e-08,\n",
       "          1.0109e-08, 1.0106e-08],\n",
       "         [2.9915e-08, 2.9907e-08, 2.9899e-08,  ..., 1.0138e-08,\n",
       "          1.0134e-08, 1.0131e-08],\n",
       "         [2.9961e-08, 2.9953e-08, 2.9944e-08,  ..., 1.0163e-08,\n",
       "          1.0160e-08, 1.0156e-08],\n",
       "         ...,\n",
       "         [3.5375e-11, 3.5189e-11, 3.5000e-11,  ..., 0.0000e+00,\n",
       "          0.0000e+00, 0.0000e+00],\n",
       "         [3.4250e-11, 3.4064e-11, 3.3876e-11,  ..., 0.0000e+00,\n",
       "          0.0000e+00, 0.0000e+00],\n",
       "         [3.3138e-11, 3.2952e-11, 3.2764e-11,  ..., 0.0000e+00,\n",
       "          0.0000e+00, 0.0000e+00]],\n",
       "\n",
       "        [[0.0000e+00, 0.0000e+00, 0.0000e+00,  ..., 5.7911e-12,\n",
       "          5.6583e-12, 5.5243e-12],\n",
       "         [0.0000e+00, 0.0000e+00, 0.0000e+00,  ..., 6.4321e-12,\n",
       "          6.2821e-12, 6.1313e-12],\n",
       "         [0.0000e+00, 0.0000e+00, 0.0000e+00,  ..., 7.0951e-12,\n",
       "          6.9297e-12, 6.7614e-12],\n",
       "         ...,\n",
       "         [2.0226e-08, 2.0239e-08, 2.0252e-08,  ..., 1.0090e-08,\n",
       "          1.0108e-08, 1.0125e-08],\n",
       "         [2.0228e-08, 2.0241e-08, 2.0254e-08,  ..., 1.0077e-08,\n",
       "          1.0095e-08, 1.0112e-08],\n",
       "         [2.0230e-08, 2.0243e-08, 2.0256e-08,  ..., 1.0065e-08,\n",
       "          1.0082e-08, 1.0099e-08]],\n",
       "\n",
       "        [[0.0000e+00, 0.0000e+00, 0.0000e+00,  ..., 0.0000e+00,\n",
       "          0.0000e+00, 0.0000e+00],\n",
       "         [0.0000e+00, 0.0000e+00, 0.0000e+00,  ..., 0.0000e+00,\n",
       "          0.0000e+00, 0.0000e+00],\n",
       "         [0.0000e+00, 0.0000e+00, 0.0000e+00,  ..., 0.0000e+00,\n",
       "          0.0000e+00, 0.0000e+00],\n",
       "         ...,\n",
       "         [7.8243e-09, 7.7861e-09, 7.7475e-09,  ..., 0.0000e+00,\n",
       "          0.0000e+00, 0.0000e+00],\n",
       "         [7.6679e-09, 7.6302e-09, 7.5920e-09,  ..., 0.0000e+00,\n",
       "          0.0000e+00, 0.0000e+00],\n",
       "         [7.5135e-09, 7.4762e-09, 7.4384e-09,  ..., 0.0000e+00,\n",
       "          0.0000e+00, 0.0000e+00]]], device='cuda:0', dtype=torch.float64)"
      ]
     },
     "execution_count": 10,
     "metadata": {},
     "output_type": "execute_result"
    }
   ],
   "source": [
    "tensor_sprior"
   ]
  },
  {
   "cell_type": "code",
   "execution_count": null,
   "metadata": {},
   "outputs": [],
   "source": []
  },
  {
   "cell_type": "code",
   "execution_count": 20,
   "metadata": {},
   "outputs": [
    {
     "data": {
      "text/plain": [
       "dtype('<f8')"
      ]
     },
     "execution_count": 20,
     "metadata": {},
     "output_type": "execute_result"
    }
   ],
   "source": [
    "sprior.dtype"
   ]
  },
  {
   "cell_type": "code",
   "execution_count": 21,
   "metadata": {},
   "outputs": [
    {
     "data": {
      "text/plain": [
       "array([[[1.27151315e-10, 1.27153190e-10, 1.27155378e-10, ...,\n",
       "         1.37825801e-10, 1.37778825e-10, 1.37733209e-10],\n",
       "        [1.27200954e-10, 1.27203158e-10, 1.27205674e-10, ...,\n",
       "         1.37906320e-10, 1.37859703e-10, 1.37814434e-10],\n",
       "        [1.27251338e-10, 1.27253868e-10, 1.27256712e-10, ...,\n",
       "         1.37988141e-10, 1.37941879e-10, 1.37896954e-10],\n",
       "        ...,\n",
       "        [5.87645958e-08, 5.87623857e-08, 5.87601509e-08, ...,\n",
       "         1.88192372e-08, 1.88219053e-08, 1.88245367e-08],\n",
       "        [5.87596335e-08, 5.87574168e-08, 5.87551755e-08, ...,\n",
       "         1.87582074e-08, 1.87608367e-08, 1.87634297e-08],\n",
       "        [5.87547157e-08, 5.87524927e-08, 5.87502450e-08, ...,\n",
       "         1.86982676e-08, 1.87008584e-08, 1.87034132e-08]],\n",
       "\n",
       "       [[8.92157149e-11, 8.92005911e-11, 8.91848643e-11, ...,\n",
       "         7.86070989e-11, 7.86083794e-11, 7.86096181e-11],\n",
       "        [8.93857550e-11, 8.93701688e-11, 8.93539851e-11, ...,\n",
       "         7.88207016e-11, 7.88226675e-11, 7.88245803e-11],\n",
       "        [8.95592985e-11, 8.95432765e-11, 8.95266558e-11, ...,\n",
       "         7.90310207e-11, 7.90336179e-11, 7.90361574e-11],\n",
       "        ...,\n",
       "        [3.86330790e-08, 3.86472724e-08, 3.86616529e-08, ...,\n",
       "         4.76245691e-08, 4.76114505e-08, 4.75985055e-08],\n",
       "        [3.86703276e-08, 3.86845131e-08, 3.86988857e-08, ...,\n",
       "         4.76466695e-08, 4.76335297e-08, 4.76205637e-08],\n",
       "        [3.87071376e-08, 3.87213151e-08, 3.87356797e-08, ...,\n",
       "         4.76684709e-08, 4.76553096e-08, 4.76423224e-08]],\n",
       "\n",
       "       [[4.82201557e-08, 4.82076794e-08, 4.81950299e-08, ...,\n",
       "         5.80168678e-08, 5.80275665e-08, 5.80381136e-08],\n",
       "        [4.82593452e-08, 4.82468741e-08, 4.82342300e-08, ...,\n",
       "         5.80496234e-08, 5.80603096e-08, 5.80708445e-08],\n",
       "        [4.82990074e-08, 4.82865413e-08, 4.82739027e-08, ...,\n",
       "         5.80827873e-08, 5.80934611e-08, 5.81039840e-08],\n",
       "        ...,\n",
       "        [2.23576066e-09, 2.23366517e-09, 2.23154965e-09, ...,\n",
       "         2.00986556e-09, 2.01232509e-09, 2.01475769e-09],\n",
       "        [2.23061862e-09, 2.22852223e-09, 2.22640584e-09, ...,\n",
       "         2.00428479e-09, 2.00674181e-09, 2.00917198e-09],\n",
       "        [2.22554286e-09, 2.22344556e-09, 2.22132830e-09, ...,\n",
       "         1.99878807e-09, 2.00124259e-09, 2.00367032e-09]],\n",
       "\n",
       "       ...,\n",
       "\n",
       "       [[2.98696894e-08, 2.98614920e-08, 2.98531318e-08, ...,\n",
       "         1.01125105e-08, 1.01093276e-08, 1.01060966e-08],\n",
       "        [2.99151048e-08, 2.99069032e-08, 2.98985385e-08, ...,\n",
       "         1.01375464e-08, 1.01343191e-08, 1.01310444e-08],\n",
       "        [2.99610129e-08, 2.99528075e-08, 2.99444388e-08, ...,\n",
       "         1.01630235e-08, 1.01597510e-08, 1.01564317e-08],\n",
       "        ...,\n",
       "        [3.53754399e-11, 3.51886132e-11, 3.49999421e-11, ...,\n",
       "         0.00000000e+00, 0.00000000e+00, 0.00000000e+00],\n",
       "        [3.42504639e-11, 3.40640542e-11, 3.38758454e-11, ...,\n",
       "         0.00000000e+00, 0.00000000e+00, 0.00000000e+00],\n",
       "        [3.31378314e-11, 3.29519560e-11, 3.27643314e-11, ...,\n",
       "         0.00000000e+00, 0.00000000e+00, 0.00000000e+00]],\n",
       "\n",
       "       [[0.00000000e+00, 0.00000000e+00, 0.00000000e+00, ...,\n",
       "         5.79114670e-12, 5.65834705e-12, 5.52432723e-12],\n",
       "        [0.00000000e+00, 0.00000000e+00, 0.00000000e+00, ...,\n",
       "         6.43213855e-12, 6.28208949e-12, 6.13133416e-12],\n",
       "        [0.00000000e+00, 0.00000000e+00, 0.00000000e+00, ...,\n",
       "         7.09510529e-12, 6.92973940e-12, 6.76141071e-12],\n",
       "        ...,\n",
       "        [2.02257266e-08, 2.02389976e-08, 2.02521367e-08, ...,\n",
       "         1.00904624e-08, 1.01078195e-08, 1.01248147e-08],\n",
       "        [2.02279160e-08, 2.02410628e-08, 2.02540778e-08, ...,\n",
       "         1.00774387e-08, 1.00948482e-08, 1.01118947e-08],\n",
       "        [2.02303929e-08, 2.02434150e-08, 2.02563054e-08, ...,\n",
       "         1.00646475e-08, 1.00821093e-08, 1.00992070e-08]],\n",
       "\n",
       "       [[0.00000000e+00, 0.00000000e+00, 0.00000000e+00, ...,\n",
       "         0.00000000e+00, 0.00000000e+00, 0.00000000e+00],\n",
       "        [0.00000000e+00, 0.00000000e+00, 0.00000000e+00, ...,\n",
       "         0.00000000e+00, 0.00000000e+00, 0.00000000e+00],\n",
       "        [0.00000000e+00, 0.00000000e+00, 0.00000000e+00, ...,\n",
       "         0.00000000e+00, 0.00000000e+00, 0.00000000e+00],\n",
       "        ...,\n",
       "        [7.82427662e-09, 7.78612731e-09, 7.74752755e-09, ...,\n",
       "         0.00000000e+00, 0.00000000e+00, 0.00000000e+00],\n",
       "        [7.66792216e-09, 7.63019883e-09, 7.59203453e-09, ...,\n",
       "         0.00000000e+00, 0.00000000e+00, 0.00000000e+00],\n",
       "        [7.51345526e-09, 7.47615778e-09, 7.43842874e-09, ...,\n",
       "         0.00000000e+00, 0.00000000e+00, 0.00000000e+00]]])"
      ]
     },
     "execution_count": 21,
     "metadata": {},
     "output_type": "execute_result"
    }
   ],
   "source": [
    "sprior"
   ]
  },
  {
   "cell_type": "code",
   "execution_count": 22,
   "metadata": {},
   "outputs": [],
   "source": [
    "b = np.array(sprior)"
   ]
  },
  {
   "cell_type": "code",
   "execution_count": 23,
   "metadata": {},
   "outputs": [
    {
     "data": {
      "text/plain": [
       "array([[[1.27151315e-10, 1.27153190e-10, 1.27155378e-10, ...,\n",
       "         1.37825801e-10, 1.37778825e-10, 1.37733209e-10],\n",
       "        [1.27200954e-10, 1.27203158e-10, 1.27205674e-10, ...,\n",
       "         1.37906320e-10, 1.37859703e-10, 1.37814434e-10],\n",
       "        [1.27251338e-10, 1.27253868e-10, 1.27256712e-10, ...,\n",
       "         1.37988141e-10, 1.37941879e-10, 1.37896954e-10],\n",
       "        ...,\n",
       "        [5.87645958e-08, 5.87623857e-08, 5.87601509e-08, ...,\n",
       "         1.88192372e-08, 1.88219053e-08, 1.88245367e-08],\n",
       "        [5.87596335e-08, 5.87574168e-08, 5.87551755e-08, ...,\n",
       "         1.87582074e-08, 1.87608367e-08, 1.87634297e-08],\n",
       "        [5.87547157e-08, 5.87524927e-08, 5.87502450e-08, ...,\n",
       "         1.86982676e-08, 1.87008584e-08, 1.87034132e-08]],\n",
       "\n",
       "       [[8.92157149e-11, 8.92005911e-11, 8.91848643e-11, ...,\n",
       "         7.86070989e-11, 7.86083794e-11, 7.86096181e-11],\n",
       "        [8.93857550e-11, 8.93701688e-11, 8.93539851e-11, ...,\n",
       "         7.88207016e-11, 7.88226675e-11, 7.88245803e-11],\n",
       "        [8.95592985e-11, 8.95432765e-11, 8.95266558e-11, ...,\n",
       "         7.90310207e-11, 7.90336179e-11, 7.90361574e-11],\n",
       "        ...,\n",
       "        [3.86330790e-08, 3.86472724e-08, 3.86616529e-08, ...,\n",
       "         4.76245691e-08, 4.76114505e-08, 4.75985055e-08],\n",
       "        [3.86703276e-08, 3.86845131e-08, 3.86988857e-08, ...,\n",
       "         4.76466695e-08, 4.76335297e-08, 4.76205637e-08],\n",
       "        [3.87071376e-08, 3.87213151e-08, 3.87356797e-08, ...,\n",
       "         4.76684709e-08, 4.76553096e-08, 4.76423224e-08]],\n",
       "\n",
       "       [[4.82201557e-08, 4.82076794e-08, 4.81950299e-08, ...,\n",
       "         5.80168678e-08, 5.80275665e-08, 5.80381136e-08],\n",
       "        [4.82593452e-08, 4.82468741e-08, 4.82342300e-08, ...,\n",
       "         5.80496234e-08, 5.80603096e-08, 5.80708445e-08],\n",
       "        [4.82990074e-08, 4.82865413e-08, 4.82739027e-08, ...,\n",
       "         5.80827873e-08, 5.80934611e-08, 5.81039840e-08],\n",
       "        ...,\n",
       "        [2.23576066e-09, 2.23366517e-09, 2.23154965e-09, ...,\n",
       "         2.00986556e-09, 2.01232509e-09, 2.01475769e-09],\n",
       "        [2.23061862e-09, 2.22852223e-09, 2.22640584e-09, ...,\n",
       "         2.00428479e-09, 2.00674181e-09, 2.00917198e-09],\n",
       "        [2.22554286e-09, 2.22344556e-09, 2.22132830e-09, ...,\n",
       "         1.99878807e-09, 2.00124259e-09, 2.00367032e-09]],\n",
       "\n",
       "       ...,\n",
       "\n",
       "       [[2.98696894e-08, 2.98614920e-08, 2.98531318e-08, ...,\n",
       "         1.01125105e-08, 1.01093276e-08, 1.01060966e-08],\n",
       "        [2.99151048e-08, 2.99069032e-08, 2.98985385e-08, ...,\n",
       "         1.01375464e-08, 1.01343191e-08, 1.01310444e-08],\n",
       "        [2.99610129e-08, 2.99528075e-08, 2.99444388e-08, ...,\n",
       "         1.01630235e-08, 1.01597510e-08, 1.01564317e-08],\n",
       "        ...,\n",
       "        [3.53754399e-11, 3.51886132e-11, 3.49999421e-11, ...,\n",
       "         0.00000000e+00, 0.00000000e+00, 0.00000000e+00],\n",
       "        [3.42504639e-11, 3.40640542e-11, 3.38758454e-11, ...,\n",
       "         0.00000000e+00, 0.00000000e+00, 0.00000000e+00],\n",
       "        [3.31378314e-11, 3.29519560e-11, 3.27643314e-11, ...,\n",
       "         0.00000000e+00, 0.00000000e+00, 0.00000000e+00]],\n",
       "\n",
       "       [[0.00000000e+00, 0.00000000e+00, 0.00000000e+00, ...,\n",
       "         5.79114670e-12, 5.65834705e-12, 5.52432723e-12],\n",
       "        [0.00000000e+00, 0.00000000e+00, 0.00000000e+00, ...,\n",
       "         6.43213855e-12, 6.28208949e-12, 6.13133416e-12],\n",
       "        [0.00000000e+00, 0.00000000e+00, 0.00000000e+00, ...,\n",
       "         7.09510529e-12, 6.92973940e-12, 6.76141071e-12],\n",
       "        ...,\n",
       "        [2.02257266e-08, 2.02389976e-08, 2.02521367e-08, ...,\n",
       "         1.00904624e-08, 1.01078195e-08, 1.01248147e-08],\n",
       "        [2.02279160e-08, 2.02410628e-08, 2.02540778e-08, ...,\n",
       "         1.00774387e-08, 1.00948482e-08, 1.01118947e-08],\n",
       "        [2.02303929e-08, 2.02434150e-08, 2.02563054e-08, ...,\n",
       "         1.00646475e-08, 1.00821093e-08, 1.00992070e-08]],\n",
       "\n",
       "       [[0.00000000e+00, 0.00000000e+00, 0.00000000e+00, ...,\n",
       "         0.00000000e+00, 0.00000000e+00, 0.00000000e+00],\n",
       "        [0.00000000e+00, 0.00000000e+00, 0.00000000e+00, ...,\n",
       "         0.00000000e+00, 0.00000000e+00, 0.00000000e+00],\n",
       "        [0.00000000e+00, 0.00000000e+00, 0.00000000e+00, ...,\n",
       "         0.00000000e+00, 0.00000000e+00, 0.00000000e+00],\n",
       "        ...,\n",
       "        [7.82427662e-09, 7.78612731e-09, 7.74752755e-09, ...,\n",
       "         0.00000000e+00, 0.00000000e+00, 0.00000000e+00],\n",
       "        [7.66792216e-09, 7.63019883e-09, 7.59203453e-09, ...,\n",
       "         0.00000000e+00, 0.00000000e+00, 0.00000000e+00],\n",
       "        [7.51345526e-09, 7.47615778e-09, 7.43842874e-09, ...,\n",
       "         0.00000000e+00, 0.00000000e+00, 0.00000000e+00]]])"
      ]
     },
     "execution_count": 23,
     "metadata": {},
     "output_type": "execute_result"
    }
   ],
   "source": [
    "b"
   ]
  },
  {
   "cell_type": "code",
   "execution_count": 24,
   "metadata": {},
   "outputs": [
    {
     "data": {
      "text/plain": [
       "dtype('<f8')"
      ]
     },
     "execution_count": 24,
     "metadata": {},
     "output_type": "execute_result"
    }
   ],
   "source": [
    "b.dtype"
   ]
  },
  {
   "cell_type": "code",
   "execution_count": 25,
   "metadata": {},
   "outputs": [],
   "source": [
    "a = torch.tensor(b,\n",
    "                 dtype=torch.float64,\n",
    "                 device=torch.device('cuda:0'))"
   ]
  },
  {
   "cell_type": "code",
   "execution_count": 26,
   "metadata": {},
   "outputs": [
    {
     "data": {
      "text/plain": [
       "tensor([[[1.2715e-10, 1.2715e-10, 1.2716e-10,  ..., 1.3783e-10,\n",
       "          1.3778e-10, 1.3773e-10],\n",
       "         [1.2720e-10, 1.2720e-10, 1.2721e-10,  ..., 1.3791e-10,\n",
       "          1.3786e-10, 1.3781e-10],\n",
       "         [1.2725e-10, 1.2725e-10, 1.2726e-10,  ..., 1.3799e-10,\n",
       "          1.3794e-10, 1.3790e-10],\n",
       "         ...,\n",
       "         [5.8765e-08, 5.8762e-08, 5.8760e-08,  ..., 1.8819e-08,\n",
       "          1.8822e-08, 1.8825e-08],\n",
       "         [5.8760e-08, 5.8757e-08, 5.8755e-08,  ..., 1.8758e-08,\n",
       "          1.8761e-08, 1.8763e-08],\n",
       "         [5.8755e-08, 5.8752e-08, 5.8750e-08,  ..., 1.8698e-08,\n",
       "          1.8701e-08, 1.8703e-08]],\n",
       "\n",
       "        [[8.9216e-11, 8.9201e-11, 8.9185e-11,  ..., 7.8607e-11,\n",
       "          7.8608e-11, 7.8610e-11],\n",
       "         [8.9386e-11, 8.9370e-11, 8.9354e-11,  ..., 7.8821e-11,\n",
       "          7.8823e-11, 7.8825e-11],\n",
       "         [8.9559e-11, 8.9543e-11, 8.9527e-11,  ..., 7.9031e-11,\n",
       "          7.9034e-11, 7.9036e-11],\n",
       "         ...,\n",
       "         [3.8633e-08, 3.8647e-08, 3.8662e-08,  ..., 4.7625e-08,\n",
       "          4.7611e-08, 4.7599e-08],\n",
       "         [3.8670e-08, 3.8685e-08, 3.8699e-08,  ..., 4.7647e-08,\n",
       "          4.7634e-08, 4.7621e-08],\n",
       "         [3.8707e-08, 3.8721e-08, 3.8736e-08,  ..., 4.7668e-08,\n",
       "          4.7655e-08, 4.7642e-08]],\n",
       "\n",
       "        [[4.8220e-08, 4.8208e-08, 4.8195e-08,  ..., 5.8017e-08,\n",
       "          5.8028e-08, 5.8038e-08],\n",
       "         [4.8259e-08, 4.8247e-08, 4.8234e-08,  ..., 5.8050e-08,\n",
       "          5.8060e-08, 5.8071e-08],\n",
       "         [4.8299e-08, 4.8287e-08, 4.8274e-08,  ..., 5.8083e-08,\n",
       "          5.8093e-08, 5.8104e-08],\n",
       "         ...,\n",
       "         [2.2358e-09, 2.2337e-09, 2.2315e-09,  ..., 2.0099e-09,\n",
       "          2.0123e-09, 2.0148e-09],\n",
       "         [2.2306e-09, 2.2285e-09, 2.2264e-09,  ..., 2.0043e-09,\n",
       "          2.0067e-09, 2.0092e-09],\n",
       "         [2.2255e-09, 2.2234e-09, 2.2213e-09,  ..., 1.9988e-09,\n",
       "          2.0012e-09, 2.0037e-09]],\n",
       "\n",
       "        ...,\n",
       "\n",
       "        [[2.9870e-08, 2.9861e-08, 2.9853e-08,  ..., 1.0113e-08,\n",
       "          1.0109e-08, 1.0106e-08],\n",
       "         [2.9915e-08, 2.9907e-08, 2.9899e-08,  ..., 1.0138e-08,\n",
       "          1.0134e-08, 1.0131e-08],\n",
       "         [2.9961e-08, 2.9953e-08, 2.9944e-08,  ..., 1.0163e-08,\n",
       "          1.0160e-08, 1.0156e-08],\n",
       "         ...,\n",
       "         [3.5375e-11, 3.5189e-11, 3.5000e-11,  ..., 0.0000e+00,\n",
       "          0.0000e+00, 0.0000e+00],\n",
       "         [3.4250e-11, 3.4064e-11, 3.3876e-11,  ..., 0.0000e+00,\n",
       "          0.0000e+00, 0.0000e+00],\n",
       "         [3.3138e-11, 3.2952e-11, 3.2764e-11,  ..., 0.0000e+00,\n",
       "          0.0000e+00, 0.0000e+00]],\n",
       "\n",
       "        [[0.0000e+00, 0.0000e+00, 0.0000e+00,  ..., 5.7911e-12,\n",
       "          5.6583e-12, 5.5243e-12],\n",
       "         [0.0000e+00, 0.0000e+00, 0.0000e+00,  ..., 6.4321e-12,\n",
       "          6.2821e-12, 6.1313e-12],\n",
       "         [0.0000e+00, 0.0000e+00, 0.0000e+00,  ..., 7.0951e-12,\n",
       "          6.9297e-12, 6.7614e-12],\n",
       "         ...,\n",
       "         [2.0226e-08, 2.0239e-08, 2.0252e-08,  ..., 1.0090e-08,\n",
       "          1.0108e-08, 1.0125e-08],\n",
       "         [2.0228e-08, 2.0241e-08, 2.0254e-08,  ..., 1.0077e-08,\n",
       "          1.0095e-08, 1.0112e-08],\n",
       "         [2.0230e-08, 2.0243e-08, 2.0256e-08,  ..., 1.0065e-08,\n",
       "          1.0082e-08, 1.0099e-08]],\n",
       "\n",
       "        [[0.0000e+00, 0.0000e+00, 0.0000e+00,  ..., 0.0000e+00,\n",
       "          0.0000e+00, 0.0000e+00],\n",
       "         [0.0000e+00, 0.0000e+00, 0.0000e+00,  ..., 0.0000e+00,\n",
       "          0.0000e+00, 0.0000e+00],\n",
       "         [0.0000e+00, 0.0000e+00, 0.0000e+00,  ..., 0.0000e+00,\n",
       "          0.0000e+00, 0.0000e+00],\n",
       "         ...,\n",
       "         [7.8243e-09, 7.7861e-09, 7.7475e-09,  ..., 0.0000e+00,\n",
       "          0.0000e+00, 0.0000e+00],\n",
       "         [7.6679e-09, 7.6302e-09, 7.5920e-09,  ..., 0.0000e+00,\n",
       "          0.0000e+00, 0.0000e+00],\n",
       "         [7.5135e-09, 7.4762e-09, 7.4384e-09,  ..., 0.0000e+00,\n",
       "          0.0000e+00, 0.0000e+00]]], device='cuda:0', dtype=torch.float64)"
      ]
     },
     "execution_count": 26,
     "metadata": {},
     "output_type": "execute_result"
    }
   ],
   "source": [
    "a"
   ]
  },
  {
   "cell_type": "code",
   "execution_count": null,
   "metadata": {},
   "outputs": [],
   "source": []
  },
  {
   "cell_type": "code",
   "execution_count": 106,
   "metadata": {},
   "outputs": [],
   "source": [
    "sprior = np.array(sprior)"
   ]
  },
  {
   "cell_type": "code",
   "execution_count": 107,
   "metadata": {},
   "outputs": [
    {
     "data": {
      "text/plain": [
       "array('prior_array.mat', dtype='<U15')"
      ]
     },
     "execution_count": 107,
     "metadata": {},
     "output_type": "execute_result"
    }
   ],
   "source": [
    "sprior"
   ]
  },
  {
   "cell_type": "code",
   "execution_count": 84,
   "metadata": {},
   "outputs": [
    {
     "data": {
      "text/plain": [
       "array([[[1.27151317e-10, 1.27153191e-10, 1.27155383e-10, ...,\n",
       "         1.37825806e-10, 1.37778830e-10, 1.37733214e-10],\n",
       "        [1.27200958e-10, 1.27203151e-10, 1.27205677e-10, ...,\n",
       "         1.37906325e-10, 1.37859696e-10, 1.37814440e-10],\n",
       "        [1.27251334e-10, 1.27253874e-10, 1.27256705e-10, ...,\n",
       "         1.37988135e-10, 1.37941880e-10, 1.37896958e-10],\n",
       "        ...,\n",
       "        [5.87645950e-08, 5.87623852e-08, 5.87601505e-08, ...,\n",
       "         1.88192377e-08, 1.88219058e-08, 1.88245366e-08],\n",
       "        [5.87596318e-08, 5.87574185e-08, 5.87551767e-08, ...,\n",
       "         1.87582074e-08, 1.87608364e-08, 1.87634299e-08],\n",
       "        [5.87547149e-08, 5.87524944e-08, 5.87502456e-08, ...,\n",
       "         1.86982678e-08, 1.87008578e-08, 1.87034139e-08]],\n",
       "\n",
       "       [[8.92157181e-11, 8.92005914e-11, 8.91848609e-11, ...,\n",
       "         7.86071000e-11, 7.86083768e-11, 7.86096188e-11],\n",
       "        [8.93857557e-11, 8.93701710e-11, 8.93539825e-11, ...,\n",
       "         7.88207000e-11, 7.88226706e-11, 7.88245788e-11],\n",
       "        [8.95592975e-11, 8.95432756e-11, 8.95266569e-11, ...,\n",
       "         7.90310178e-11, 7.90336199e-11, 7.90361596e-11],\n",
       "        ...,\n",
       "        [3.86330790e-08, 3.86472720e-08, 3.86616534e-08, ...,\n",
       "         4.76245674e-08, 4.76114508e-08, 4.75985047e-08],\n",
       "        [3.86703292e-08, 3.86845116e-08, 3.86988859e-08, ...,\n",
       "         4.76466688e-08, 4.76335309e-08, 4.76205635e-08],\n",
       "        [3.87071388e-08, 3.87213142e-08, 3.87356813e-08, ...,\n",
       "         4.76684718e-08, 4.76553090e-08, 4.76423239e-08]],\n",
       "\n",
       "       [[4.82201550e-08, 4.82076778e-08, 4.81950302e-08, ...,\n",
       "         5.80168695e-08, 5.80275668e-08, 5.80381148e-08],\n",
       "        [4.82593450e-08, 4.82468749e-08, 4.82342308e-08, ...,\n",
       "         5.80496220e-08, 5.80603086e-08, 5.80708459e-08],\n",
       "        [4.82990075e-08, 4.82865410e-08, 4.82739040e-08, ...,\n",
       "         5.80827866e-08, 5.80934625e-08, 5.81039856e-08],\n",
       "        ...,\n",
       "        [2.23576069e-09, 2.23366525e-09, 2.23154961e-09, ...,\n",
       "         2.00986561e-09, 2.01232520e-09, 2.01475769e-09],\n",
       "        [2.23061858e-09, 2.22852226e-09, 2.22640595e-09, ...,\n",
       "         2.00428474e-09, 2.00674188e-09, 2.00917194e-09],\n",
       "        [2.22554286e-09, 2.22344565e-09, 2.22132823e-09, ...,\n",
       "         1.99878802e-09, 2.00124251e-09, 2.00367034e-09]],\n",
       "\n",
       "       ...,\n",
       "\n",
       "       [[2.98696889e-08, 2.98614928e-08, 2.98531333e-08, ...,\n",
       "         1.01125108e-08, 1.01093276e-08, 1.01060964e-08],\n",
       "        [2.99151033e-08, 2.99069036e-08, 2.98985370e-08, ...,\n",
       "         1.01375459e-08, 1.01343192e-08, 1.01310444e-08],\n",
       "        [2.99610114e-08, 2.99528082e-08, 2.99444380e-08, ...,\n",
       "         1.01630233e-08, 1.01597513e-08, 1.01564321e-08],\n",
       "        ...,\n",
       "        [3.53754387e-11, 3.51886124e-11, 3.49999404e-11, ...,\n",
       "         0.00000000e+00, 0.00000000e+00, 0.00000000e+00],\n",
       "        [3.42504636e-11, 3.40640537e-11, 3.38758466e-11, ...,\n",
       "         0.00000000e+00, 0.00000000e+00, 0.00000000e+00],\n",
       "        [3.31378328e-11, 3.29519571e-11, 3.27643329e-11, ...,\n",
       "         0.00000000e+00, 0.00000000e+00, 0.00000000e+00]],\n",
       "\n",
       "       [[0.00000000e+00, 0.00000000e+00, 0.00000000e+00, ...,\n",
       "         5.79114664e-12, 5.65834705e-12, 5.52432709e-12],\n",
       "        [0.00000000e+00, 0.00000000e+00, 0.00000000e+00, ...,\n",
       "         6.43213868e-12, 6.28208943e-12, 6.13133416e-12],\n",
       "        [0.00000000e+00, 0.00000000e+00, 0.00000000e+00, ...,\n",
       "         7.09510532e-12, 6.92973933e-12, 6.76141088e-12],\n",
       "        ...,\n",
       "        [2.02257269e-08, 2.02389980e-08, 2.02521360e-08, ...,\n",
       "         1.00904627e-08, 1.01078195e-08, 1.01248148e-08],\n",
       "        [2.02279153e-08, 2.02410622e-08, 2.02540775e-08, ...,\n",
       "         1.00774384e-08, 1.00948485e-08, 1.01118944e-08],\n",
       "        [2.02303934e-08, 2.02434158e-08, 2.02563051e-08, ...,\n",
       "         1.00646478e-08, 1.00821094e-08, 1.00992068e-08]],\n",
       "\n",
       "       [[0.00000000e+00, 0.00000000e+00, 0.00000000e+00, ...,\n",
       "         0.00000000e+00, 0.00000000e+00, 0.00000000e+00],\n",
       "        [0.00000000e+00, 0.00000000e+00, 0.00000000e+00, ...,\n",
       "         0.00000000e+00, 0.00000000e+00, 0.00000000e+00],\n",
       "        [0.00000000e+00, 0.00000000e+00, 0.00000000e+00, ...,\n",
       "         0.00000000e+00, 0.00000000e+00, 0.00000000e+00],\n",
       "        ...,\n",
       "        [7.82427634e-09, 7.78612730e-09, 7.74752795e-09, ...,\n",
       "         0.00000000e+00, 0.00000000e+00, 0.00000000e+00],\n",
       "        [7.66792230e-09, 7.63019870e-09, 7.59203456e-09, ...,\n",
       "         0.00000000e+00, 0.00000000e+00, 0.00000000e+00],\n",
       "        [7.51345564e-09, 7.47615747e-09, 7.43842854e-09, ...,\n",
       "         0.00000000e+00, 0.00000000e+00, 0.00000000e+00]]], dtype=float32)"
      ]
     },
     "execution_count": 84,
     "metadata": {},
     "output_type": "execute_result"
    }
   ],
   "source": [
    "sprior"
   ]
  },
  {
   "cell_type": "code",
   "execution_count": 85,
   "metadata": {},
   "outputs": [],
   "source": [
    "a = torch.from_numpy(sprior)"
   ]
  },
  {
   "cell_type": "code",
   "execution_count": 86,
   "metadata": {},
   "outputs": [
    {
     "data": {
      "text/plain": [
       "tensor([[[-1.2394e+26,  2.0406e+30,  2.0416e-29,  ..., -3.2465e-36,\n",
       "           1.6587e+07,  7.6088e+31],\n",
       "         [-8.0813e+21, -8.0831e-38,  2.6350e-05,  ...,  7.3256e-11,\n",
       "           3.6507e-30,  7.2526e+10],\n",
       "         [ 3.6926e-28, -4.7932e+05, -2.3733e-26,  ...,  1.3716e-06,\n",
       "           1.2448e-09, -6.0894e-32],\n",
       "         ...,\n",
       "         [ 6.4313e+16, -4.3615e+27,  1.8131e+34,  ..., -1.6601e+30,\n",
       "          -5.8260e+09, -4.6433e-24],\n",
       "         [-2.6266e+23,  4.4720e+33,  8.3097e-39,  ..., -9.8651e-03,\n",
       "          -1.9705e-36,  4.1397e-05],\n",
       "         [ 7.2272e+37,  6.6401e-31, -1.0728e-26,  ..., -6.0979e+27,\n",
       "          -6.9298e-20,  3.3130e-01]],\n",
       "\n",
       "        [[-3.6505e+36,  1.3611e+34, -2.1013e-21,  ..., -1.9786e+18,\n",
       "          -8.9129e-26,  4.5399e+05],\n",
       "         [-1.0711e-06, -8.3416e+28, -2.7248e+11,  ...,  7.0369e-22,\n",
       "           5.0944e-05,  1.4069e+07],\n",
       "         [ 2.2834e+24,  2.1469e+21,  3.3669e-34,  ..., -2.9781e-37,\n",
       "          -1.3219e+35,  1.9426e+24],\n",
       "         ...,\n",
       "         [-2.2301e-35,  4.2884e-19, -1.7350e+29,  ..., -1.1144e+03,\n",
       "           1.1140e+15,  7.9177e-22],\n",
       "         [ 1.9490e+35,  5.2427e-28, -5.2213e+19,  ...,  2.5922e-28,\n",
       "          -6.3230e-20,  1.2187e+18],\n",
       "         [-1.5065e+31, -2.4814e-33,  1.5266e+13,  ...,  1.8132e-32,\n",
       "          -2.7342e-28,  5.2199e+06]],\n",
       "\n",
       "        [[-3.2676e-20, -6.6259e+23,         nan,  ...,  1.6639e-04,\n",
       "          -3.8521e+36, -3.9879e-26],\n",
       "         [-2.9401e-06,  5.1712e-39,  8.8048e-24,  ...,  1.2846e-02,\n",
       "          -4.5998e+36, -7.3671e-28],\n",
       "         [ 2.5910e+11, -3.0084e-21, -5.0857e-05,  ..., -5.7387e-08,\n",
       "           3.2304e+29,  2.0935e-37],\n",
       "         ...,\n",
       "         [-3.9435e+26,  3.1443e-30, -5.9676e+13,  ..., -1.2150e+28,\n",
       "           4.6808e-08, -8.0764e+37],\n",
       "         [ 2.5492e+32, -8.2849e-27,  8.9753e+15,  ..., -5.8449e+00,\n",
       "          -5.9721e+35, -5.5328e-04],\n",
       "         [ 4.2649e-13,  6.4990e+03,  1.5619e-35,  ...,  6.7496e-31,\n",
       "           4.0905e-03, -1.7434e+30]],\n",
       "\n",
       "        ...,\n",
       "\n",
       "        [[ 6.3740e-28,  9.5157e-30, -3.2966e+18,  ...,  2.4534e+07,\n",
       "           2.2699e+07,  6.4291e-26],\n",
       "         [ 4.6285e-38, -2.0105e+37, -3.8175e+06,  ...,  1.9973e+23,\n",
       "           5.7809e-07, -5.8796e+08],\n",
       "         [ 1.8069e+36,  1.6733e+33,  7.8000e+01,  ...,  2.4272e+31,\n",
       "           1.3724e-29,  1.2787e+33],\n",
       "         ...,\n",
       "         [ 2.7773e-07, -1.0927e+17,  3.6844e+28,  ...,  0.0000e+00,\n",
       "           0.0000e+00,  0.0000e+00],\n",
       "         [-4.1898e-24, -2.4805e-05, -3.3833e+10,  ...,  0.0000e+00,\n",
       "           0.0000e+00,  0.0000e+00],\n",
       "         [-1.7438e+21, -3.9053e-22,  1.7233e+17,  ...,  0.0000e+00,\n",
       "           0.0000e+00,  0.0000e+00]],\n",
       "\n",
       "        [[ 0.0000e+00,  0.0000e+00,  0.0000e+00,  ...,  1.1449e-36,\n",
       "          -1.6864e+17, -1.3277e-05],\n",
       "         [ 0.0000e+00,  0.0000e+00,  0.0000e+00,  ..., -2.5624e-30,\n",
       "           4.1186e-34,  1.2965e-15],\n",
       "         [ 0.0000e+00,  0.0000e+00,  0.0000e+00,  ...,  2.4672e-34,\n",
       "          -8.0870e-32,  1.3254e+20],\n",
       "         ...,\n",
       "         [-1.6596e+15,  3.2903e-34, -5.9643e+26,  ...,  9.3706e+11,\n",
       "          -7.3797e-14,  9.1114e+24],\n",
       "         [-2.1502e-14, -3.5132e-28,  1.8312e-09,  ...,  3.1041e-32,\n",
       "          -3.1390e-21, -7.4388e-26],\n",
       "         [ 3.3034e-22, -4.4468e-01,  1.0395e-25,  ..., -7.6078e+06,\n",
       "          -1.4635e-25, -2.6251e+05]],\n",
       "\n",
       "        [[ 0.0000e+00,  0.0000e+00,  0.0000e+00,  ...,  0.0000e+00,\n",
       "           0.0000e+00,  0.0000e+00],\n",
       "         [ 0.0000e+00,  0.0000e+00,  0.0000e+00,  ...,  0.0000e+00,\n",
       "           0.0000e+00,  0.0000e+00],\n",
       "         [ 0.0000e+00,  0.0000e+00,  0.0000e+00,  ...,  0.0000e+00,\n",
       "           0.0000e+00,  0.0000e+00],\n",
       "         ...,\n",
       "         [-7.0725e-34, -6.0944e+00, -1.2712e+37,  ...,  0.0000e+00,\n",
       "           0.0000e+00,  0.0000e+00],\n",
       "         [-4.3122e+20, -1.2089e+34,  5.0400e-20,  ...,  0.0000e+00,\n",
       "           0.0000e+00,  0.0000e+00],\n",
       "         [-1.1135e-34,  1.9938e+37,  9.9260e-22,  ...,  0.0000e+00,\n",
       "           0.0000e+00,  0.0000e+00]]])"
      ]
     },
     "execution_count": 86,
     "metadata": {},
     "output_type": "execute_result"
    }
   ],
   "source": [
    "a"
   ]
  },
  {
   "cell_type": "code",
   "execution_count": 63,
   "metadata": {},
   "outputs": [],
   "source": [
    "t = torch.as_tensor(a, device=torch.device('cuda'), dtype=torch.float32)"
   ]
  },
  {
   "cell_type": "code",
   "execution_count": 64,
   "metadata": {},
   "outputs": [
    {
     "data": {
      "text/plain": [
       "tensor([[[0.0000, 0.0000, 0.0000,  ..., 0.0000, 0.0000, 0.0000],\n",
       "         [0.0000, 0.0000, 0.0000,  ..., 0.0000, 0.0000, 0.0000],\n",
       "         [0.0000, 0.0000, 0.0000,  ..., 0.0000, 0.0000, 0.0000],\n",
       "         ...,\n",
       "         [0.0000, 0.0000, 0.0000,  ..., 0.0000, 0.0000, 0.0000],\n",
       "         [0.0000, 0.0000, 0.0000,  ..., 0.0000, 0.0000, 0.0000],\n",
       "         [0.0000, 0.0000, 0.0000,  ..., 0.0000, 0.0000, 0.0000]],\n",
       "\n",
       "        [[0.0000, 0.0000, 0.0000,  ..., 0.0000, 0.0000, 0.0000],\n",
       "         [0.0000, 0.0000, 0.0000,  ..., 0.0000, 0.0000, 0.0000],\n",
       "         [0.0000, 0.0000, 0.0000,  ..., 0.0000, 0.0000, 0.0000],\n",
       "         ...,\n",
       "         [0.0000, 0.0000, 0.0000,  ..., 0.0000, 0.0000, 0.0000],\n",
       "         [0.0000, 0.0000, 0.0000,  ..., 0.0000, 0.0000, 0.0000],\n",
       "         [0.0000, 0.0000, 0.0000,  ..., 0.0000, 0.0000, 0.0000]],\n",
       "\n",
       "        [[0.0000, 0.0000, 0.0000,  ..., 0.0000, 0.0000, 0.0000],\n",
       "         [0.0000, 0.0000, 0.0000,  ..., 0.0000, 0.0000, 0.0000],\n",
       "         [0.0000, 0.0000, 0.0000,  ..., 0.0000, 0.0000, 0.0000],\n",
       "         ...,\n",
       "         [0.0000, 0.0000, 0.0000,  ..., 0.0000, 0.0000, 0.0000],\n",
       "         [0.0000, 0.0000, 0.0000,  ..., 0.0000, 0.0000, 0.0000],\n",
       "         [0.0000, 0.0000, 0.0000,  ..., 0.0000, 0.0000, 0.0000]],\n",
       "\n",
       "        ...,\n",
       "\n",
       "        [[0.0000, 0.0000, 0.0000,  ..., 0.0000, 0.0000, 0.0000],\n",
       "         [0.0000, 0.0000, 0.0000,  ..., 0.0000, 0.0000, 0.0000],\n",
       "         [0.0000, 0.0000, 0.0000,  ..., 0.0000, 0.0000, 0.0000],\n",
       "         ...,\n",
       "         [0.0000, 0.0000, 0.0000,  ..., 0.0000, 0.0000, 0.0000],\n",
       "         [0.0000, 0.0000, 0.0000,  ..., 0.0000, 0.0000, 0.0000],\n",
       "         [0.0000, 0.0000, 0.0000,  ..., 0.0000, 0.0000, 0.0000]],\n",
       "\n",
       "        [[0.0000, 0.0000, 0.0000,  ..., 0.0000, 0.0000, 0.0000],\n",
       "         [0.0000, 0.0000, 0.0000,  ..., 0.0000, 0.0000, 0.0000],\n",
       "         [0.0000, 0.0000, 0.0000,  ..., 0.0000, 0.0000, 0.0000],\n",
       "         ...,\n",
       "         [0.0000, 0.0000, 0.0000,  ..., 0.0000, 0.0000, 0.0000],\n",
       "         [0.0000, 0.0000, 0.0000,  ..., 0.0000, 0.0000, 0.0000],\n",
       "         [0.0000, 0.0000, 0.0000,  ..., 0.0000, 0.0000, 0.0000]],\n",
       "\n",
       "        [[0.0000, 0.0000, 0.0000,  ..., 0.0000, 0.0000, 0.0000],\n",
       "         [0.0000, 0.0000, 0.0000,  ..., 0.0000, 0.0000, 0.0000],\n",
       "         [0.0000, 0.0000, 0.0000,  ..., 0.0000, 0.0000, 0.0000],\n",
       "         ...,\n",
       "         [0.0000, 0.0000, 0.0000,  ..., 0.0000, 0.0000, 0.0000],\n",
       "         [0.0000, 0.0000, 0.0000,  ..., 0.0000, 0.0000, 0.0000],\n",
       "         [0.0000, 0.0000, 0.0000,  ..., 0.0000, 0.0000, 0.0000]]],\n",
       "       device='cuda:0')"
      ]
     },
     "execution_count": 64,
     "metadata": {},
     "output_type": "execute_result"
    }
   ],
   "source": [
    "t"
   ]
  },
  {
   "cell_type": "code",
   "execution_count": 65,
   "metadata": {},
   "outputs": [
    {
     "data": {
      "text/plain": [
       "torch.Size([19, 1024, 2048])"
      ]
     },
     "execution_count": 65,
     "metadata": {},
     "output_type": "execute_result"
    }
   ],
   "source": [
    "a.shape"
   ]
  },
  {
   "cell_type": "code",
   "execution_count": 66,
   "metadata": {},
   "outputs": [
    {
     "data": {
      "text/plain": [
       "tensor([[[0.0000, 0.0000, 0.0000,  ..., 0.0000, 0.0000, 0.0000],\n",
       "         [0.0000, 0.0000, 0.0000,  ..., 0.0000, 0.0000, 0.0000],\n",
       "         [0.0000, 0.0000, 0.0000,  ..., 0.0000, 0.0000, 0.0000],\n",
       "         ...,\n",
       "         [0.0000, 0.0000, 0.0000,  ..., 0.0000, 0.0000, 0.0000],\n",
       "         [0.0000, 0.0000, 0.0000,  ..., 0.0000, 0.0000, 0.0000],\n",
       "         [0.0000, 0.0000, 0.0000,  ..., 0.0000, 0.0000, 0.0000]],\n",
       "\n",
       "        [[0.0000, 0.0000, 0.0000,  ..., 0.0000, 0.0000, 0.0000],\n",
       "         [0.0000, 0.0000, 0.0000,  ..., 0.0000, 0.0000, 0.0000],\n",
       "         [0.0000, 0.0000, 0.0000,  ..., 0.0000, 0.0000, 0.0000],\n",
       "         ...,\n",
       "         [0.0000, 0.0000, 0.0000,  ..., 0.0000, 0.0000, 0.0000],\n",
       "         [0.0000, 0.0000, 0.0000,  ..., 0.0000, 0.0000, 0.0000],\n",
       "         [0.0000, 0.0000, 0.0000,  ..., 0.0000, 0.0000, 0.0000]],\n",
       "\n",
       "        [[0.0000, 0.0000, 0.0000,  ..., 0.0000, 0.0000, 0.0000],\n",
       "         [0.0000, 0.0000, 0.0000,  ..., 0.0000, 0.0000, 0.0000],\n",
       "         [0.0000, 0.0000, 0.0000,  ..., 0.0000, 0.0000, 0.0000],\n",
       "         ...,\n",
       "         [0.0000, 0.0000, 0.0000,  ..., 0.0000, 0.0000, 0.0000],\n",
       "         [0.0000, 0.0000, 0.0000,  ..., 0.0000, 0.0000, 0.0000],\n",
       "         [0.0000, 0.0000, 0.0000,  ..., 0.0000, 0.0000, 0.0000]],\n",
       "\n",
       "        ...,\n",
       "\n",
       "        [[0.0000, 0.0000, 0.0000,  ..., 0.0000, 0.0000, 0.0000],\n",
       "         [0.0000, 0.0000, 0.0000,  ..., 0.0000, 0.0000, 0.0000],\n",
       "         [0.0000, 0.0000, 0.0000,  ..., 0.0000, 0.0000, 0.0000],\n",
       "         ...,\n",
       "         [0.0000, 0.0000, 0.0000,  ..., 0.0000, 0.0000, 0.0000],\n",
       "         [0.0000, 0.0000, 0.0000,  ..., 0.0000, 0.0000, 0.0000],\n",
       "         [0.0000, 0.0000, 0.0000,  ..., 0.0000, 0.0000, 0.0000]],\n",
       "\n",
       "        [[0.0000, 0.0000, 0.0000,  ..., 0.0000, 0.0000, 0.0000],\n",
       "         [0.0000, 0.0000, 0.0000,  ..., 0.0000, 0.0000, 0.0000],\n",
       "         [0.0000, 0.0000, 0.0000,  ..., 0.0000, 0.0000, 0.0000],\n",
       "         ...,\n",
       "         [0.0000, 0.0000, 0.0000,  ..., 0.0000, 0.0000, 0.0000],\n",
       "         [0.0000, 0.0000, 0.0000,  ..., 0.0000, 0.0000, 0.0000],\n",
       "         [0.0000, 0.0000, 0.0000,  ..., 0.0000, 0.0000, 0.0000]],\n",
       "\n",
       "        [[0.0000, 0.0000, 0.0000,  ..., 0.0000, 0.0000, 0.0000],\n",
       "         [0.0000, 0.0000, 0.0000,  ..., 0.0000, 0.0000, 0.0000],\n",
       "         [0.0000, 0.0000, 0.0000,  ..., 0.0000, 0.0000, 0.0000],\n",
       "         ...,\n",
       "         [0.0000, 0.0000, 0.0000,  ..., 0.0000, 0.0000, 0.0000],\n",
       "         [0.0000, 0.0000, 0.0000,  ..., 0.0000, 0.0000, 0.0000],\n",
       "         [0.0000, 0.0000, 0.0000,  ..., 0.0000, 0.0000, 0.0000]]])"
      ]
     },
     "execution_count": 66,
     "metadata": {},
     "output_type": "execute_result"
    }
   ],
   "source": [
    "a"
   ]
  },
  {
   "cell_type": "code",
   "execution_count": null,
   "metadata": {},
   "outputs": [],
   "source": []
  }
 ],
 "metadata": {
  "kernelspec": {
   "display_name": "Python 3",
   "language": "python",
   "name": "python3"
  },
  "language_info": {
   "codemirror_mode": {
    "name": "ipython",
    "version": 3
   },
   "file_extension": ".py",
   "mimetype": "text/x-python",
   "name": "python",
   "nbconvert_exporter": "python",
   "pygments_lexer": "ipython3",
   "version": "3.6.6"
  }
 },
 "nbformat": 4,
 "nbformat_minor": 2
}
